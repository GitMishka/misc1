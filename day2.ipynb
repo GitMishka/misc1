{
  "nbformat": 4,
  "nbformat_minor": 0,
  "metadata": {
    "colab": {
      "provenance": [],
      "authorship_tag": "ABX9TyPeRDp8mdiCFTakMybZNyUB",
      "include_colab_link": true
    },
    "kernelspec": {
      "name": "python3",
      "display_name": "Python 3"
    },
    "language_info": {
      "name": "python"
    }
  },
  "cells": [
    {
      "cell_type": "markdown",
      "metadata": {
        "id": "view-in-github",
        "colab_type": "text"
      },
      "source": [
        "<a href=\"https://colab.research.google.com/github/GitMishka/2021_TSLAstock_Analysis-/blob/master/day2.ipynb\" target=\"_parent\"><img src=\"https://colab.research.google.com/assets/colab-badge.svg\" alt=\"Open In Colab\"/></a>"
      ]
    },
    {
      "cell_type": "code",
      "execution_count": null,
      "metadata": {
        "colab": {
          "base_uri": "https://localhost:8080/"
        },
        "id": "_y0ZX29wmB_D",
        "outputId": "40b14b2c-8e8a-4cfc-9e5d-5172ac417a5b"
      },
      "outputs": [
        {
          "output_type": "stream",
          "name": "stdout",
          "text": [
            "A1\n",
            "A2\n",
            "A3\n",
            "B1\n",
            "B2\n",
            "B3\n",
            "C1\n",
            "C2\n",
            "C3\n"
          ]
        }
      ],
      "source": [
        "letters = 'ABC'\n",
        "digits = '123'\n",
        "\n",
        "for letter in letters:\n",
        "  for digit in digits:\n",
        "    print(letter + digit)"
      ]
    },
    {
      "cell_type": "code",
      "source": [
        "class Stack:\n",
        "    def __init__(self):\n",
        "        self.items = []\n",
        "\n",
        "    def is_empty(self):\n",
        "        return len(self.items) == 0\n",
        "\n",
        "    def push(self, item):\n",
        "        self.items.append(item)\n",
        "\n",
        "    def pop(self):\n",
        "        if self.is_empty():\n",
        "            return None\n",
        "        return self.items.pop()\n",
        "\n",
        "    def peek(self):\n",
        "        if self.is_empty():\n",
        "            return None\n",
        "        return self.items[-1]\n",
        "\n",
        "    def size(self):\n",
        "        return len(self.items)\n",
        "stack = Stack()\n",
        "stack.push(1)\n",
        "stack.push(2)\n",
        "stack.push(3)\n",
        "print(stack.size())   # Output: 3\n",
        "print(stack.peek())   # Output: 3\n",
        "print(stack.pop())    # Output: 3\n",
        "print(stack.pop())    # Output: 2\n",
        "print(stack.pop())    # Output: 1\n",
        "print(stack.pop())    # Output: None\n"
      ],
      "metadata": {
        "colab": {
          "base_uri": "https://localhost:8080/"
        },
        "id": "YK6SST8mUe1e",
        "outputId": "301e7ba9-a046-4199-a2d9-4d65defbf90d"
      },
      "execution_count": null,
      "outputs": [
        {
          "output_type": "stream",
          "name": "stdout",
          "text": [
            "3\n",
            "3\n",
            "3\n",
            "2\n",
            "1\n",
            "None\n"
          ]
        }
      ]
    },
    {
      "cell_type": "code",
      "source": [
        "stack = []\n",
        "\n",
        "# Push items onto the stack\n",
        "stack.append(1)\n",
        "stack.append(2)\n",
        "stack.append(3)\n",
        "\n",
        "# Pop items off the stack\n",
        "\n",
        "# item = stack.pop()  # item = 3\n",
        "# print(stack)\n",
        "item = stack.pop()  # item = 2\n",
        "\n",
        "item = stack.pop()  # item = 1\n",
        "print(stack)\n",
        "# Check if stack is empty\n",
        "if not stack:\n",
        "    print(\"Stack is empty\")\n",
        "else:\n",
        "  print(\"Is a stack\")\n"
      ],
      "metadata": {
        "colab": {
          "base_uri": "https://localhost:8080/"
        },
        "id": "uQko6o1cU99O",
        "outputId": "430a7038-69ae-46e4-e3fc-d3d301360e9a"
      },
      "execution_count": null,
      "outputs": [
        {
          "output_type": "stream",
          "name": "stdout",
          "text": [
            "[1]\n",
            "Is a stack\n"
          ]
        }
      ]
    },
    {
      "cell_type": "code",
      "source": [
        "swaps = input()\n",
        "\n",
        "ball_location = 1\n",
        "\n",
        "for swap_type in swaps:\n",
        "  if swap_type == 'A' and ball_location == 1:\n",
        "    ball_location = 2\n",
        "  elif swap_type == 'A' and ball_location == 2:\n",
        "    ball_location = 3\n",
        "  elif swap_type == 'B' and ball_location == 3:\n",
        "    ball_location = 2\n",
        "  elif swap_type == 'C' and ball_location == 1:\n",
        "    ball_location == 3\n",
        "  elif swap_type == 'C' and ball_location == 3:\n",
        "    ball_location = 1\n",
        "  print(ball_location)"
      ],
      "metadata": {
        "colab": {
          "base_uri": "https://localhost:8080/"
        },
        "id": "5VpLzMYn_Rl6",
        "outputId": "2626caa9-da0a-4c18-a9ea-2bb98fcbf0a0"
      },
      "execution_count": null,
      "outputs": [
        {
          "output_type": "stream",
          "name": "stdout",
          "text": [
            "A\n",
            "2\n"
          ]
        }
      ]
    },
    {
      "cell_type": "code",
      "source": [
        "import time\n",
        "\n",
        "while True:\n",
        "    try:\n",
        "        # your code here\n",
        "        # this code will run continuously until you stop the script\n",
        "    except Exception as e:\n",
        "        # handle any exceptions that may be raised\n",
        "        print(f\"An error occurred: {e}\")\n",
        "    \n",
        "    time.sleep(10) # sleep for 10 seconds before running the loop again"
      ],
      "metadata": {
        "id": "zbEX7BDjEhxC"
      },
      "execution_count": null,
      "outputs": []
    }
  ]
}