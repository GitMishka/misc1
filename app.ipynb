{
  "nbformat": 4,
  "nbformat_minor": 0,
  "metadata": {
    "colab": {
      "provenance": [],
      "mount_file_id": "1XMq7XqG7l0jZ6yoXYBjCFsaCuScQpr_O",
      "authorship_tag": "ABX9TyMnMcarDO1zNHn7r8Tho5Sq",
      "include_colab_link": true
    },
    "kernelspec": {
      "name": "python3",
      "display_name": "Python 3"
    },
    "language_info": {
      "name": "python"
    }
  },
  "cells": [
    {
      "cell_type": "markdown",
      "metadata": {
        "id": "view-in-github",
        "colab_type": "text"
      },
      "source": [
        "<a href=\"https://colab.research.google.com/github/GitMishka/2021_TSLAstock_Analysis-/blob/master/app.ipynb\" target=\"_parent\"><img src=\"https://colab.research.google.com/assets/colab-badge.svg\" alt=\"Open In Colab\"/></a>"
      ]
    },
    {
      "cell_type": "code",
      "source": [
        "!pip install pandas\n"
      ],
      "metadata": {
        "colab": {
          "base_uri": "https://localhost:8080/"
        },
        "id": "ihqJKXxQah1J",
        "outputId": "8066730f-e35d-4b8e-edf6-37a2da36dbe9"
      },
      "execution_count": null,
      "outputs": [
        {
          "output_type": "stream",
          "name": "stdout",
          "text": [
            "Looking in indexes: https://pypi.org/simple, https://us-python.pkg.dev/colab-wheels/public/simple/\n",
            "Requirement already satisfied: pandas in /usr/local/lib/python3.10/dist-packages (1.5.3)\n",
            "Requirement already satisfied: numpy>=1.21.0 in /usr/local/lib/python3.10/dist-packages (from pandas) (1.22.4)\n",
            "Requirement already satisfied: pytz>=2020.1 in /usr/local/lib/python3.10/dist-packages (from pandas) (2022.7.1)\n",
            "Requirement already satisfied: python-dateutil>=2.8.1 in /usr/local/lib/python3.10/dist-packages (from pandas) (2.8.2)\n",
            "Requirement already satisfied: six>=1.5 in /usr/local/lib/python3.10/dist-packages (from python-dateutil>=2.8.1->pandas) (1.16.0)\n"
          ]
        }
      ]
    },
    {
      "cell_type": "code",
      "execution_count": null,
      "metadata": {
        "id": "cmULWarVaUJz"
      },
      "outputs": [],
      "source": [
        "from google.colab import drive\n",
        "#drive.mount('/content/drive/MyDrive/Yammer')\n"
      ]
    },
    {
      "cell_type": "code",
      "source": [],
      "metadata": {
        "id": "PbGWZhmXafLu"
      },
      "execution_count": null,
      "outputs": []
    },
    {
      "cell_type": "code",
      "source": [
        "azure = pd.read_csv('/content/drive/MyDrive/Yammer/azure.csv')\n",
        "yammer = pd.read_csv('/content/drive/MyDrive/Yammer/yammer.csv')\n"
      ],
      "metadata": {
        "id": "2JqGAmkNahNs"
      },
      "execution_count": null,
      "outputs": []
    },
    {
      "cell_type": "code",
      "source": [
        "import pandas as pd\n",
        "import datetime\n",
        "\n",
        "def sanitize_sheet_name(name):\n",
        "    name = str(name)\n",
        "    invalid_chars = ['\\\\', '/', '*', '[', ']', ':', '?']\n",
        "    for char in invalid_chars:\n",
        "        name = name.replace(char, '')\n",
        "    return name\n",
        "\n",
        "def contains_morning(name):\n",
        "    return 'morning' in str(name).lower()\n",
        "\n",
        "\n",
        "\n",
        "# Rename the column in yammer DataFrame\n",
        "yammer = yammer.rename(columns={'User Principal Name': 'userPrincipalName'})\n",
        "\n",
        "# Merge the DataFrames\n",
        "merged_df = azure.merge(yammer, on='userPrincipalName')\n",
        "\n",
        "# Keep the required columns\n",
        "result = merged_df[['userPrincipalName','Display Name', 'department', 'Posted Count', 'Read Count', 'Liked Count']]\n",
        "\n",
        "# Get the unique department values\n",
        "unique_departments = result['department'].unique()\n",
        "\n",
        "# Filter departments containing the word \"morning\"\n",
        "morning_departments = [department for department in unique_departments if contains_morning(department)]\n",
        "\n",
        "# Get the current date and format it\n",
        "current_date = datetime.datetime.now().strftime('%Y-%m-%d')\n",
        "\n",
        "# Create a single Excel file with separate sheets for each filtered department\n",
        "file_name = f'Yammer_Results_{current_date}.xlsx'\n",
        "with pd.ExcelWriter(file_name) as writer:\n",
        "    for department in morning_departments:\n",
        "        sanitized_department = sanitize_sheet_name(department)\n",
        "        department_data = result[result['department'] == department]\n",
        "        department_data.to_excel(writer, sheet_name=f'{sanitized_department}', index=False)\n",
        "\n",
        "# Download the resulting Excel file to your local machine\n",
        "from google.colab import files\n",
        "files.download(file_name)\n"
      ],
      "metadata": {
        "colab": {
          "base_uri": "https://localhost:8080/",
          "height": 17
        },
        "id": "49Xvrqi1a638",
        "outputId": "59c3882e-eff7-422e-df11-946dea14de97"
      },
      "execution_count": null,
      "outputs": [
        {
          "output_type": "display_data",
          "data": {
            "text/plain": [
              "<IPython.core.display.Javascript object>"
            ],
            "application/javascript": [
              "\n",
              "    async function download(id, filename, size) {\n",
              "      if (!google.colab.kernel.accessAllowed) {\n",
              "        return;\n",
              "      }\n",
              "      const div = document.createElement('div');\n",
              "      const label = document.createElement('label');\n",
              "      label.textContent = `Downloading \"${filename}\": `;\n",
              "      div.appendChild(label);\n",
              "      const progress = document.createElement('progress');\n",
              "      progress.max = size;\n",
              "      div.appendChild(progress);\n",
              "      document.body.appendChild(div);\n",
              "\n",
              "      const buffers = [];\n",
              "      let downloaded = 0;\n",
              "\n",
              "      const channel = await google.colab.kernel.comms.open(id);\n",
              "      // Send a message to notify the kernel that we're ready.\n",
              "      channel.send({})\n",
              "\n",
              "      for await (const message of channel.messages) {\n",
              "        // Send a message to notify the kernel that we're ready.\n",
              "        channel.send({})\n",
              "        if (message.buffers) {\n",
              "          for (const buffer of message.buffers) {\n",
              "            buffers.push(buffer);\n",
              "            downloaded += buffer.byteLength;\n",
              "            progress.value = downloaded;\n",
              "          }\n",
              "        }\n",
              "      }\n",
              "      const blob = new Blob(buffers, {type: 'application/binary'});\n",
              "      const a = document.createElement('a');\n",
              "      a.href = window.URL.createObjectURL(blob);\n",
              "      a.download = filename;\n",
              "      div.appendChild(a);\n",
              "      a.click();\n",
              "      div.remove();\n",
              "    }\n",
              "  "
            ]
          },
          "metadata": {}
        },
        {
          "output_type": "display_data",
          "data": {
            "text/plain": [
              "<IPython.core.display.Javascript object>"
            ],
            "application/javascript": [
              "download(\"download_8ddd6898-109d-49ed-9f76-7b5a3c4ad15c\", \"Yammer_Results_2023-05-05.xlsx\", 13885)"
            ]
          },
          "metadata": {}
        }
      ]
    },
    {
      "cell_type": "code",
      "source": [],
      "metadata": {
        "id": "lvexPcA09yZV"
      },
      "execution_count": null,
      "outputs": []
    }
  ]
}