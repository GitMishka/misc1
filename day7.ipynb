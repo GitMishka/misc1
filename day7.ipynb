{
  "nbformat": 4,
  "nbformat_minor": 0,
  "metadata": {
    "colab": {
      "provenance": [],
      "authorship_tag": "ABX9TyNzpu2WRYfGOnkKtTrbNkMP",
      "include_colab_link": true
    },
    "kernelspec": {
      "name": "python3",
      "display_name": "Python 3"
    },
    "language_info": {
      "name": "python"
    }
  },
  "cells": [
    {
      "cell_type": "markdown",
      "metadata": {
        "id": "view-in-github",
        "colab_type": "text"
      },
      "source": [
        "<a href=\"https://colab.research.google.com/github/GitMishka/2021_TSLAstock_Analysis-/blob/master/day7.ipynb\" target=\"_parent\"><img src=\"https://colab.research.google.com/assets/colab-badge.svg\" alt=\"Open In Colab\"/></a>"
      ]
    },
    {
      "cell_type": "code",
      "execution_count": null,
      "metadata": {
        "colab": {
          "base_uri": "https://localhost:8080/"
        },
        "id": "4kTUhQ-ARWxO",
        "outputId": "110abfd6-beb3-47e9-b3f9-40dae42e802c"
      },
      "outputs": [
        {
          "output_type": "stream",
          "name": "stdout",
          "text": [
            "Enter a string: 2oKDsZrOAzgApu0Xh2HY\n",
            "Character frequencies: {'2': 2, 'o': 1, 'K': 1, 'D': 1, 's': 1, 'Z': 1, 'r': 1, 'O': 1, 'A': 2, 'z': 1, 'g': 1, 'p': 1, 'u': 1, '0': 1, 'X': 1, 'h': 1, 'H': 1, 'Y': 1}\n"
          ]
        }
      ],
      "source": [
        "def character_count(s):\n",
        "    char_freq = {}\n",
        "    for char in s:\n",
        "        if char in char_freq:\n",
        "            char_freq[char] += 1\n",
        "        else:\n",
        "            char_freq[char] = 1\n",
        "    return char_freq\n",
        "\n",
        "string = input(\"Enter a string: \")\n",
        "char_freq = character_count(string)\n",
        "print(\"Character frequencies:\", char_freq)\n"
      ]
    },
    {
      "cell_type": "code",
      "source": [
        "def merge_dicts(d1, d2):\n",
        "    merged_dict = d1.copy()\n",
        "    merged_dict.update(d2)\n",
        "    return merged_dict\n",
        "\n",
        "dict1 = {\"a\": 1, \"b\": 2, \"c\": 3}\n",
        "dict2 = {\"d\": 4, \"e\": 5, \"f\": 6}\n",
        "\n",
        "merged_dict = merge_dicts(dict1, dict2)\n",
        "print(\"Merged dictionary:\", merged_dict)\n"
      ],
      "metadata": {
        "colab": {
          "base_uri": "https://localhost:8080/"
        },
        "id": "03OBX51VS1pU",
        "outputId": "a27051df-ff91-49d5-b46e-9fef7e8b052f"
      },
      "execution_count": null,
      "outputs": [
        {
          "output_type": "stream",
          "name": "stdout",
          "text": [
            "Merged dictionary: {'a': 1, 'b': 2, 'c': 3, 'd': 4, 'e': 5, 'f': 6}\n"
          ]
        }
      ]
    },
    {
      "cell_type": "code",
      "source": [
        "def sort_dict_by_values(d):\n",
        "    return dict(sorted(d.items(), key=lambda item: item[1]))\n",
        "\n",
        "unsorted_dict = {\"a\": 3, \"b\": 1, \"c\": 2, \"d\": 5, \"e\": 4}\n",
        "\n",
        "sorted_dict = sort_dict_by_values(unsorted_dict)\n",
        "print(\"Dictionary sorted by values:\", sorted_dict)\n"
      ],
      "metadata": {
        "colab": {
          "base_uri": "https://localhost:8080/"
        },
        "id": "qUKZVZJ1Tvfc",
        "outputId": "91b83668-83c0-4f13-c3ae-49624649342a"
      },
      "execution_count": null,
      "outputs": [
        {
          "output_type": "stream",
          "name": "stdout",
          "text": [
            "Dictionary sorted by values: {'b': 1, 'c': 2, 'a': 3, 'e': 4, 'd': 5}\n"
          ]
        }
      ]
    },
    {
      "cell_type": "code",
      "source": [
        "def fibonacci(n):\n",
        "    if n <= 0:\n",
        "        return \"Invalid input: n should be a positive integer.\"\n",
        "    elif n == 1:\n",
        "        return 0\n",
        "    elif n == 2:\n",
        "        return 1\n",
        "    else:\n",
        "        a, b = 0, 1\n",
        "        for _ in range(2, n):\n",
        "            a, b = b, a + b\n",
        "        return b\n",
        "\n",
        "number = int(input(\"Enter a positive integer: \"))\n",
        "print(f\"The {number}th Fibonacci number is {fibonacci(number)}\")\n"
      ],
      "metadata": {
        "id": "2A7aRYTxWrXx",
        "outputId": "d5e60bdf-1e62-45ba-b258-05bfe1da8bfe",
        "colab": {
          "base_uri": "https://localhost:8080/"
        }
      },
      "execution_count": null,
      "outputs": [
        {
          "output_type": "stream",
          "name": "stdout",
          "text": [
            "Enter a positive integer: 10\n",
            "The 10th Fibonacci number is 34\n"
          ]
        }
      ]
    }
  ]
}