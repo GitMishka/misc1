{
  "nbformat": 4,
  "nbformat_minor": 0,
  "metadata": {
    "colab": {
      "provenance": [],
      "authorship_tag": "ABX9TyOaD3a6kB9SsIrnEOwKONID",
      "include_colab_link": true
    },
    "kernelspec": {
      "name": "python3",
      "display_name": "Python 3"
    },
    "language_info": {
      "name": "python"
    }
  },
  "cells": [
    {
      "cell_type": "markdown",
      "metadata": {
        "id": "view-in-github",
        "colab_type": "text"
      },
      "source": [
        "<a href=\"https://colab.research.google.com/github/GitMishka/2021_TSLAstock_Analysis-/blob/master/6_20_2023.ipynb\" target=\"_parent\"><img src=\"https://colab.research.google.com/assets/colab-badge.svg\" alt=\"Open In Colab\"/></a>"
      ]
    },
    {
      "cell_type": "code",
      "execution_count": null,
      "metadata": {
        "id": "qoNAS2mRDjHs"
      },
      "outputs": [],
      "source": [
        "def speed_fine(limit, speed):\n",
        "    if speed <= limit:\n",
        "        return \"Congratulations, you are within the speed limit!\"\n",
        "    elif speed <= limit + 20:\n",
        "        return \"You are speeding and your fine is $100.\"\n",
        "    elif speed <= limit + 30:\n",
        "        return \"You are speeding and your fine is $270.\"\n",
        "    else:\n",
        "        return \"You are speeding and your fine is $500.\"\n",
        "\n",
        "limit = int(input(\"Enter the speed limit: \"))\n",
        "speed = int(input(\"Enter the recorded speed of the car: \"))\n",
        "\n",
        "print(speed_fine(limit, speed))\n"
      ]
    },
    {
      "cell_type": "code",
      "source": [
        "def occupied_spaces(N, yesterday, today):\n",
        "    occupied_both_days = 0\n",
        "    for i in range(N):\n",
        "        if yesterday[i] == 'C' and today[i] == 'C':\n",
        "            occupied_both_days += 1\n",
        "    return occupied_both_days\n",
        "\n",
        "N = int(input(\"Enter the number of parking spaces: \"))\n",
        "yesterday = input(\"Enter the status of parking spaces for yesterday: \")\n",
        "today = input(\"Enter the status of parking spaces for today: \")\n",
        "\n",
        "print(occupied_spaces(N, yesterday, today))\n"
      ],
      "metadata": {
        "id": "toOSYM1RE0E8"
      },
      "execution_count": null,
      "outputs": []
    },
    {
      "cell_type": "code",
      "source": [
        "def count_votes(V, votes):\n",
        "    A_votes = votes.count('A')\n",
        "    B_votes = votes.count('B')\n",
        "\n",
        "    if A_votes > B_votes:\n",
        "        return 'A'\n",
        "    elif B_votes > A_votes:\n",
        "        return 'B'\n",
        "    else:\n",
        "        return 'Tie'\n",
        "\n",
        "V = int(input(\"Enter the total number of votes: \"))\n",
        "votes = input(\"Enter the sequence of votes: \")\n",
        "\n",
        "print(count_votes(V, votes))\n"
      ],
      "metadata": {
        "id": "7u8EUiVGEh1z"
      },
      "execution_count": null,
      "outputs": []
    }
  ]
}