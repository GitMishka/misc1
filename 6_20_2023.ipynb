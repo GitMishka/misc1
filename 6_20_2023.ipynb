{
  "nbformat": 4,
  "nbformat_minor": 0,
  "metadata": {
    "colab": {
      "provenance": [],
      "authorship_tag": "ABX9TyMOCrdaIk8Rn9CNyKU4LyID",
      "include_colab_link": true
    },
    "kernelspec": {
      "name": "python3",
      "display_name": "Python 3"
    },
    "language_info": {
      "name": "python"
    }
  },
  "cells": [
    {
      "cell_type": "markdown",
      "metadata": {
        "id": "view-in-github",
        "colab_type": "text"
      },
      "source": [
        "<a href=\"https://colab.research.google.com/github/GitMishka/2021_TSLAstock_Analysis-/blob/master/6_20_2023.ipynb\" target=\"_parent\"><img src=\"https://colab.research.google.com/assets/colab-badge.svg\" alt=\"Open In Colab\"/></a>"
      ]
    },
    {
      "cell_type": "code",
      "execution_count": null,
      "metadata": {
        "id": "qoNAS2mRDjHs"
      },
      "outputs": [],
      "source": [
        "def speed_fine(limit, speed):\n",
        "    if speed <= limit:\n",
        "        return \"Congratulations, you are within the speed limit!\"\n",
        "    elif speed <= limit + 20:\n",
        "        return \"You are speeding and your fine is $100.\"\n",
        "    elif speed <= limit + 30:\n",
        "        return \"You are speeding and your fine is $270.\"\n",
        "    else:\n",
        "        return \"You are speeding and your fine is $500.\"\n",
        "\n",
        "limit = int(input(\"Enter the speed limit: \"))\n",
        "speed = int(input(\"Enter the recorded speed of the car: \"))\n",
        "\n",
        "print(speed_fine(limit, speed))\n"
      ]
    }
  ]
}