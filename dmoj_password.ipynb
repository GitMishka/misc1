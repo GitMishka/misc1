{
  "nbformat": 4,
  "nbformat_minor": 0,
  "metadata": {
    "colab": {
      "provenance": [],
      "authorship_tag": "ABX9TyM3q3vFDVSCcdw41sLemXuI",
      "include_colab_link": true
    },
    "kernelspec": {
      "name": "python3",
      "display_name": "Python 3"
    },
    "language_info": {
      "name": "python"
    }
  },
  "cells": [
    {
      "cell_type": "markdown",
      "metadata": {
        "id": "view-in-github",
        "colab_type": "text"
      },
      "source": [
        "<a href=\"https://colab.research.google.com/github/GitMishka/2021_TSLAstock_Analysis-/blob/master/dmoj_password.ipynb\" target=\"_parent\"><img src=\"https://colab.research.google.com/assets/colab-badge.svg\" alt=\"Open In Colab\"/></a>"
      ]
    },
    {
      "cell_type": "code",
      "execution_count": null,
      "metadata": {
        "id": "Ix_sMn5h5B5e"
      },
      "outputs": [],
      "source": [
        "password = input()\n",
        "valid = True\n",
        "l, u, n = 0, 0, 0\n",
        "if len(password) < 8 or len(password) > 12:\n",
        "    valid = False\n",
        "if valid:\n",
        "    for i in password:\n",
        "        print(i)\n",
        "        asc = ord(i)\n",
        "        print(asc)\n",
        "        if 65 <= asc <= 90:\n",
        "            u += 1\n",
        "        elif 97 <= asc <= 122:\n",
        "            l += 1\n",
        "        elif 48 <= asc <= 57:\n",
        "            n += 1\n",
        "    if l < 3 or u < 2 or n < 1:\n",
        "        valid = False\n",
        "if valid:\n",
        "    print(\"Valid\")\n",
        "else:\n",
        "    print(\"Invalid\")"
      ]
    }
  ]
}