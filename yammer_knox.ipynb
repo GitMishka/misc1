{
  "nbformat": 4,
  "nbformat_minor": 0,
  "metadata": {
    "colab": {
      "provenance": [],
      "mount_file_id": "1DAkBbGXeU7obY-7zuX6YtrJbXczNmBVq",
      "authorship_tag": "ABX9TyNloWUG4oZnrl//aeqiE7lq",
      "include_colab_link": true
    },
    "kernelspec": {
      "name": "python3",
      "display_name": "Python 3"
    },
    "language_info": {
      "name": "python"
    }
  },
  "cells": [
    {
      "cell_type": "markdown",
      "metadata": {
        "id": "view-in-github",
        "colab_type": "text"
      },
      "source": [
        "<a href=\"https://colab.research.google.com/github/GitMishka/2021_TSLAstock_Analysis-/blob/master/yammer_knox.ipynb\" target=\"_parent\"><img src=\"https://colab.research.google.com/assets/colab-badge.svg\" alt=\"Open In Colab\"/></a>"
      ]
    },
    {
      "cell_type": "code",
      "source": [
        "!pip install pandas\n"
      ],
      "metadata": {
        "colab": {
          "base_uri": "https://localhost:8080/"
        },
        "id": "ihqJKXxQah1J",
        "outputId": "d97f3ca0-224e-48c5-ff82-14ba62cec908"
      },
      "execution_count": null,
      "outputs": [
        {
          "output_type": "stream",
          "name": "stdout",
          "text": [
            "Looking in indexes: https://pypi.org/simple, https://us-python.pkg.dev/colab-wheels/public/simple/\n",
            "Requirement already satisfied: pandas in /usr/local/lib/python3.10/dist-packages (1.5.3)\n",
            "Requirement already satisfied: python-dateutil>=2.8.1 in /usr/local/lib/python3.10/dist-packages (from pandas) (2.8.2)\n",
            "Requirement already satisfied: pytz>=2020.1 in /usr/local/lib/python3.10/dist-packages (from pandas) (2022.7.1)\n",
            "Requirement already satisfied: numpy>=1.21.0 in /usr/local/lib/python3.10/dist-packages (from pandas) (1.22.4)\n",
            "Requirement already satisfied: six>=1.5 in /usr/local/lib/python3.10/dist-packages (from python-dateutil>=2.8.1->pandas) (1.16.0)\n"
          ]
        }
      ]
    },
    {
      "cell_type": "code",
      "execution_count": null,
      "metadata": {
        "id": "cmULWarVaUJz"
      },
      "outputs": [],
      "source": [
        "from google.colab import drive\n",
        "#drive.mount('/content/drive/MyDrive/Yammer')\n",
        "import pandas as pd\n",
        "import datetime"
      ]
    },
    {
      "cell_type": "code",
      "source": [],
      "metadata": {
        "id": "PbGWZhmXafLu"
      },
      "execution_count": null,
      "outputs": []
    },
    {
      "cell_type": "code",
      "source": [
        "azure = pd.read_csv('/content/drive/MyDrive/Yammer/exportUsers_2023-5-18.csv')\n",
        "yammer = pd.read_csv('/content/drive/MyDrive/Yammer/YammerActivityUserDetail5_18_2023 1_56_26 PM.csv')\n"
      ],
      "metadata": {
        "id": "2JqGAmkNahNs"
      },
      "execution_count": null,
      "outputs": []
    },
    {
      "cell_type": "code",
      "source": [
        "import pandas as pd\n",
        "import datetime\n",
        "\n",
        "def sanitize_sheet_name(name):\n",
        "    name = str(name)\n",
        "    invalid_chars = ['\\\\', '/', '*', '[', ']', ':', '?']\n",
        "    for char in invalid_chars:\n",
        "        name = name.replace(char, '')\n",
        "    return name\n",
        "\n",
        "def contains_knox(name):\n",
        "    return 'knox' in str(name).lower()\n",
        "\n",
        "def color_code(val):\n",
        "    r_min, g_min, b_min = 255, 182, 193  # Light Pink\n",
        "    r_max, g_max, b_max = 144, 238, 144  # Light Green\n",
        "    ratio = val / 100\n",
        "    r = r_min + int((r_max - r_min) * (1 - ratio))  # subtract ratio from 1 for descending values\n",
        "    g = g_min + int((g_max - g_min) * ratio)\n",
        "    b = b_min + int((b_max - b_min) * ratio)\n",
        "    return f'background-color: rgb({r}, {g}, {b})'\n",
        "\n",
        "yammer = yammer.rename(columns={'User Principal Name': 'userPrincipalName'})\n",
        "\n",
        "merged_df = azure.merge(yammer, on='userPrincipalName')\n",
        "\n",
        "result = merged_df[['userPrincipalName','Display Name', 'jobTitle', 'department', 'Posted Count', 'Read Count', 'Liked Count']]\n",
        "\n",
        "unique_departments = result['department'].unique()\n",
        "unique_principals = result['userPrincipalName'].unique()\n",
        "\n",
        "knox_departments = [department for department in unique_departments if contains_knox(department)]\n",
        "knox_principals = [principal for principal in unique_principals if contains_knox(principal)]\n",
        "\n",
        "knox_entities = knox_departments + knox_principals\n",
        "\n",
        "current_date = datetime.datetime.now().strftime('%Y-%m-%d')\n",
        "\n",
        "file_name = f'Yammer_Results_{current_date}.xlsx'\n",
        "with pd.ExcelWriter(file_name, engine='openpyxl') as writer:\n",
        "    result.to_excel(writer, sheet_name='All Data', index=False)\n",
        "    for entity in knox_entities:\n",
        "        sanitized_entity = sanitize_sheet_name(entity)\n",
        "        entity_data = result[(result['department'] == entity) | (result['userPrincipalName'] == entity)]\n",
        "        #entity_data = entity_data.style.applymap(color_code, subset=['Posted Count', 'Read Count', 'Liked Count'])\n",
        "        entity_data.to_excel(writer, sheet_name=f'{sanitized_entity}', index=False)\n",
        "\n",
        "from google.colab import files\n",
        "files.download(file_name)\n"
      ],
      "metadata": {
        "colab": {
          "base_uri": "https://localhost:8080/",
          "height": 52
        },
        "id": "49Xvrqi1a638",
        "outputId": "f96e0624-708f-4c9f-ee68-0f14a4f522d9"
      },
      "execution_count": null,
      "outputs": [
        {
          "output_type": "stream",
          "name": "stderr",
          "text": [
            "/usr/local/lib/python3.10/dist-packages/openpyxl/workbook/child.py:99: UserWarning: Title is more than 31 characters. Some applications may not be able to read the file\n",
            "  warnings.warn(\"Title is more than 31 characters. Some applications may not be able to read the file\")\n"
          ]
        },
        {
          "output_type": "display_data",
          "data": {
            "text/plain": [
              "<IPython.core.display.Javascript object>"
            ],
            "application/javascript": [
              "\n",
              "    async function download(id, filename, size) {\n",
              "      if (!google.colab.kernel.accessAllowed) {\n",
              "        return;\n",
              "      }\n",
              "      const div = document.createElement('div');\n",
              "      const label = document.createElement('label');\n",
              "      label.textContent = `Downloading \"${filename}\": `;\n",
              "      div.appendChild(label);\n",
              "      const progress = document.createElement('progress');\n",
              "      progress.max = size;\n",
              "      div.appendChild(progress);\n",
              "      document.body.appendChild(div);\n",
              "\n",
              "      const buffers = [];\n",
              "      let downloaded = 0;\n",
              "\n",
              "      const channel = await google.colab.kernel.comms.open(id);\n",
              "      // Send a message to notify the kernel that we're ready.\n",
              "      channel.send({})\n",
              "\n",
              "      for await (const message of channel.messages) {\n",
              "        // Send a message to notify the kernel that we're ready.\n",
              "        channel.send({})\n",
              "        if (message.buffers) {\n",
              "          for (const buffer of message.buffers) {\n",
              "            buffers.push(buffer);\n",
              "            downloaded += buffer.byteLength;\n",
              "            progress.value = downloaded;\n",
              "          }\n",
              "        }\n",
              "      }\n",
              "      const blob = new Blob(buffers, {type: 'application/binary'});\n",
              "      const a = document.createElement('a');\n",
              "      a.href = window.URL.createObjectURL(blob);\n",
              "      a.download = filename;\n",
              "      div.appendChild(a);\n",
              "      a.click();\n",
              "      div.remove();\n",
              "    }\n",
              "  "
            ]
          },
          "metadata": {}
        },
        {
          "output_type": "display_data",
          "data": {
            "text/plain": [
              "<IPython.core.display.Javascript object>"
            ],
            "application/javascript": [
              "download(\"download_c57eab10-2759-4077-95b1-57b1abe83c60\", \"Yammer_Results_2023-05-18.xlsx\", 56470)"
            ]
          },
          "metadata": {}
        }
      ]
    },
    {
      "cell_type": "code",
      "source": [],
      "metadata": {
        "id": "lvexPcA09yZV"
      },
      "execution_count": null,
      "outputs": []
    }
  ]
}