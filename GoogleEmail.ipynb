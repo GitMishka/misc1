{
  "nbformat": 4,
  "nbformat_minor": 0,
  "metadata": {
    "colab": {
      "provenance": [],
      "authorship_tag": "ABX9TyOZtuOzkzoCbRPYLGMsmTKR",
      "include_colab_link": true
    },
    "kernelspec": {
      "name": "python3",
      "display_name": "Python 3"
    },
    "language_info": {
      "name": "python"
    }
  },
  "cells": [
    {
      "cell_type": "markdown",
      "metadata": {
        "id": "view-in-github",
        "colab_type": "text"
      },
      "source": [
        "<a href=\"https://colab.research.google.com/github/GitMishka/misc1/blob/master/GoogleEmail.ipynb\" target=\"_parent\"><img src=\"https://colab.research.google.com/assets/colab-badge.svg\" alt=\"Open In Colab\"/></a>"
      ]
    },
    {
      "cell_type": "code",
      "execution_count": null,
      "metadata": {
        "colab": {
          "base_uri": "https://localhost:8080/"
        },
        "id": "1Njw9BecjR8W",
        "outputId": "47541b32-e8cc-428f-ab14-7d29724078ee"
      },
      "outputs": [
        {
          "output_type": "stream",
          "name": "stdout",
          "text": [
            "Failed to send email (535, b'5.7.8 Username and Password not accepted. Learn more at\\n5.7.8  https://support.google.com/mail/?p=BadCredentials c20-20020a170902c1d400b001b7f95fbec1sm9490433plc.78 - gsmtp')\n"
          ]
        }
      ],
      "source": [
        "import smtplib\n",
        "from email.mime.multipart import MIMEMultipart\n",
        "from email.mime.text import MIMEText\n",
        "\n",
        "msg = MIMEMultipart()\n",
        "msg['From'] = ''\n",
        "msg['To'] = ''\n",
        "msg['Subject'] = 'Python email'\n",
        "\n",
        "body = 'This is a test email sent from a Python script!'\n",
        "msg.attach(MIMEText(body, 'plain'))\n",
        "\n",
        "try:\n",
        "    server = smtplib.SMTP('smtp.gmail.com', 587)\n",
        "    server.starttls()\n",
        "    server.login('', '')\n",
        "    text = msg.as_string()\n",
        "    server.sendmail('', '', text)\n",
        "    server.quit()\n",
        "    print('Email sent successfully')\n",
        "except Exception as e:\n",
        "    print('Failed to send email', str(e))\n"
      ]
    }
  ]
}