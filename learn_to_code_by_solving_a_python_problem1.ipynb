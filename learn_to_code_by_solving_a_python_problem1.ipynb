{
  "nbformat": 4,
  "nbformat_minor": 0,
  "metadata": {
    "colab": {
      "provenance": [],
      "authorship_tag": "ABX9TyMQFYr2XFCCwkcQDgZyOtPr",
      "include_colab_link": true
    },
    "kernelspec": {
      "name": "python3",
      "display_name": "Python 3"
    },
    "language_info": {
      "name": "python"
    }
  },
  "cells": [
    {
      "cell_type": "markdown",
      "metadata": {
        "id": "view-in-github",
        "colab_type": "text"
      },
      "source": [
        "<a href=\"https://colab.research.google.com/github/GitMishka/2021_TSLAstock_Analysis-/blob/master/learn_to_code_by_solving_a_python_problem1.ipynb\" target=\"_parent\"><img src=\"https://colab.research.google.com/assets/colab-badge.svg\" alt=\"Open In Colab\"/></a>"
      ]
    },
    {
      "cell_type": "code",
      "source": [
        "'this is a string with a few words'.count(' ') + 1\n"
      ],
      "metadata": {
        "id": "1kmvRkMtYVLm"
      },
      "execution_count": null,
      "outputs": []
    },
    {
      "cell_type": "code",
      "source": [
        "pi =  3.141592653589793\n",
        "radius = int(input())\n",
        "height = int(input())\n",
        "volume = (pi * radius ** 2 * height) / 3\n",
        "print(volume)"
      ],
      "metadata": {
        "id": "nkuQeBAMhGB0"
      },
      "execution_count": null,
      "outputs": []
    },
    {
      "cell_type": "code",
      "source": [
        "apples3 = int(input()) * 3\n",
        "apples2 = int(input()) * 2\n",
        "apples1 = int(input())\n",
        "bananas3 = int(input()) * 3\n",
        "bananas2 = int(input()) * 2\n",
        "bananas1= int(input())\n",
        "total_apples = apples1 + apples2 + apples3\n",
        "total_bananas = bananas3 + bananas2 + bananas1\n",
        "if total_apples > total_bananas:\n",
        "   print('Apples win: ' , total_apples)\n",
        "elif total_bananas > total_apples:\n",
        "  print('Bananas win: ' , total_bananas)\n",
        "else:\n",
        "  print('Tie')"
      ],
      "metadata": {
        "id": "o02WkXHXjjd6"
      },
      "execution_count": null,
      "outputs": []
    },
    {
      "cell_type": "code",
      "source": [
        "input1 = int(input())\n",
        "input2 = int(input())\n",
        "input3 = int(input())\n",
        "input4 = int(input())\n",
        "\n",
        "if (input1 == 8 or input1 == 9) & (input4 == 8 or input4 == 9) & (input2 == input3):\n",
        "  print('Pass')\n",
        "else:\n",
        "  print('Accept')"
      ],
      "metadata": {
        "id": "nqXV9igRscdp"
      },
      "execution_count": null,
      "outputs": []
    },
    {
      "cell_type": "code",
      "source": [
        "x = 5\n",
        "if x > 2:\n",
        "  x = -3\n",
        "if x > 1:\n",
        "  x = 1\n",
        "else:\n",
        "  x = 3\n",
        "print(x)"
      ],
      "metadata": {
        "colab": {
          "base_uri": "https://localhost:8080/"
        },
        "id": "vLYT9QANnDDi",
        "outputId": "23a5edd6-8deb-4791-a4af-d00012ac3b7a"
      },
      "execution_count": null,
      "outputs": [
        {
          "output_type": "stream",
          "name": "stdout",
          "text": [
            "3\n"
          ]
        }
      ]
    },
    {
      "cell_type": "code",
      "source": [
        "s = 'garage'\n",
        "total = 0\n",
        "for char in s:\n",
        "  total = total + s.count(char)\n",
        "  print(total)\n"
      ],
      "metadata": {
        "id": "hQecQv1N5uyB"
      },
      "execution_count": null,
      "outputs": []
    },
    {
      "cell_type": "code",
      "source": [
        "input1 = 'ABCA'\n",
        "input1len = len(input1)\n",
        "print(input1len)\n",
        "for char in input1:\n",
        "  print(char)"
      ],
      "metadata": {
        "id": "rmXVQp9Fy_8-"
      },
      "execution_count": null,
      "outputs": []
    },
    {
      "cell_type": "code",
      "source": [
        "yesterday = 'CC.'\n",
        "for spot in yesterday:\n",
        "  print(spot)\n",
        "  print('---')\n",
        "print(yesterday.count('C'))"
      ],
      "metadata": {
        "colab": {
          "base_uri": "https://localhost:8080/"
        },
        "id": "3P5KBQEkUW4c",
        "outputId": "9a16535d-b0c6-496b-c9c5-117934187965"
      },
      "execution_count": null,
      "outputs": [
        {
          "output_type": "stream",
          "name": "stdout",
          "text": [
            "C\n",
            "---\n",
            "C\n",
            "---\n",
            ".\n",
            "---\n",
            "2\n"
          ]
        }
      ]
    },
    {
      "cell_type": "code",
      "source": [
        "for num in range(2, 8, 2):\n",
        "  print(num)"
      ],
      "metadata": {
        "colab": {
          "base_uri": "https://localhost:8080/"
        },
        "id": "wM7OqY-tVzoP",
        "outputId": "d0c410c9-4ec5-4771-9eff-b5883b7bd140"
      },
      "execution_count": null,
      "outputs": [
        {
          "output_type": "stream",
          "name": "stdout",
          "text": [
            "2\n",
            "4\n",
            "6\n"
          ]
        }
      ]
    },
    {
      "cell_type": "code",
      "source": [
        "letters = 'ABC'\n",
        "digits = '123'\n",
        "for letter in letters:\n",
        "  for digit in digits:\n",
        "    print(letter + digit)\n",
        "  #print(letter + digit)"
      ],
      "metadata": {
        "id": "f9FC43i8ADjh"
      },
      "execution_count": null,
      "outputs": []
    },
    {
      "cell_type": "code",
      "source": [
        "swaps = input().upper()\n",
        "ball_location = 1\n",
        "\n",
        "for swap_type in swaps:\n",
        "  if swap_type == 'A' and ball_location == 1:\n",
        "    ball_location = 2\n",
        "  elif swap_type == 'A' and ball_location ==2:\n",
        "    ball_location = 1\n",
        "  elif swap_type == 'B' and ball_location == 2:\n",
        "    ball_location = 3\n",
        "  elif swap_type == 'B' and ball_location == 3:\n",
        "    ball_location == 2\n",
        "  elif swap_type == 'C' and ball_location == 1:\n",
        "    ball_location = 3\n",
        "  elif swap_type == 'C' and ball_location == 3:\n",
        "    ball_location = 1\n",
        "  print(ball_location) "
      ],
      "metadata": {
        "colab": {
          "base_uri": "https://localhost:8080/"
        },
        "id": "hj17_qhKDYae",
        "outputId": "a99fc35e-5f64-4d35-d553-e1d9638b46e1"
      },
      "execution_count": null,
      "outputs": [
        {
          "output_type": "stream",
          "name": "stdout",
          "text": [
            "c\n",
            "3\n"
          ]
        }
      ]
    },
    {
      "cell_type": "code",
      "source": [
        "list(range(3, 7))"
      ],
      "metadata": {
        "colab": {
          "base_uri": "https://localhost:8080/"
        },
        "id": "lTbT5E9-aiuE",
        "outputId": "d83b9ad1-14e3-41b1-b1b7-92d3e08461f7"
      },
      "execution_count": null,
      "outputs": [
        {
          "output_type": "execute_result",
          "data": {
            "text/plain": [
              "[3, 4, 5, 6]"
            ]
          },
          "metadata": {},
          "execution_count": 73
        }
      ]
    },
    {
      "cell_type": "code",
      "source": [
        "yesteday = 'CC.'\n",
        "today = '.C.'\n",
        "for index in range(len(yesterday)):\n",
        "  print(yesterday[index], today[index])"
      ],
      "metadata": {
        "colab": {
          "base_uri": "https://localhost:8080/"
        },
        "id": "H_m4s6CMavkj",
        "outputId": "270bbde8-a805-48fb-90b8-e11e24221320"
      },
      "execution_count": null,
      "outputs": [
        {
          "output_type": "stream",
          "name": "stdout",
          "text": [
            "C .\n",
            "C C\n",
            ". .\n"
          ]
        }
      ]
    },
    {
      "cell_type": "code",
      "source": [
        "yesterday = input().upper()\n",
        "today = input().upper()\n",
        "\n",
        "count = 0\n",
        "\n",
        "for i in range(len(yesterday)):\n",
        "  if yesterday[i] == 'C' and today[i] == 'C':\n",
        "    count = count + 1\n",
        "print(count)"
      ],
      "metadata": {
        "colab": {
          "base_uri": "https://localhost:8080/"
        },
        "id": "SuN5ukefkgOB",
        "outputId": "5dad55f7-3495-42fb-891c-a598eeaf410d"
      },
      "execution_count": null,
      "outputs": [
        {
          "output_type": "stream",
          "name": "stdout",
          "text": [
            "c,c\n",
            "ccc\n",
            "2\n"
          ]
        }
      ]
    },
    {
      "cell_type": "code",
      "source": [
        "button = int(input())\n",
        "string = 'abcdefg'\n",
        "string = string[button:] + string[:button]\n",
        "string"
      ],
      "metadata": {
        "colab": {
          "base_uri": "https://localhost:8080/",
          "height": 52
        },
        "id": "yPyyLO5P2NHk",
        "outputId": "f42e4cd6-2528-4c48-fb98-5f74d284e1bf"
      },
      "execution_count": null,
      "outputs": [
        {
          "name": "stdout",
          "output_type": "stream",
          "text": [
            "10\n"
          ]
        },
        {
          "output_type": "execute_result",
          "data": {
            "text/plain": [
              "'abcdefg'"
            ],
            "application/vnd.google.colaboratory.intrinsic+json": {
              "type": "string"
            }
          },
          "metadata": {},
          "execution_count": 14
        }
      ]
    },
    {
      "cell_type": "code",
      "source": [],
      "metadata": {
        "id": "4ejQN2NK47aa"
      },
      "execution_count": null,
      "outputs": []
    },
    {
      "cell_type": "code",
      "source": [
        "words = ['one','two','three']\n",
        "words[0]\n",
        "words[1][1]\n",
        "\n"
      ],
      "metadata": {
        "colab": {
          "base_uri": "https://localhost:8080/",
          "height": 35
        },
        "id": "i-DzkQKJntu4",
        "outputId": "d5829429-c3bc-4f1e-ffaf-91c188dae9c6"
      },
      "execution_count": null,
      "outputs": [
        {
          "output_type": "execute_result",
          "data": {
            "text/plain": [
              "'w'"
            ],
            "application/vnd.google.colaboratory.intrinsic+json": {
              "type": "string"
            }
          },
          "metadata": {},
          "execution_count": 81
        }
      ]
    },
    {
      "cell_type": "code",
      "source": [
        "monthly_mb = int(input())\n",
        "n = int(input())\n",
        "\n",
        "excess = 0\n",
        "\n",
        "for i in range(n):\n",
        "  used = int(input())\n",
        "  excess = excess + monthly_mb - used\n",
        "\n",
        "print(monthly_mb + excess)"
      ],
      "metadata": {
        "colab": {
          "base_uri": "https://localhost:8080/"
        },
        "id": "b10YM7QUv239",
        "outputId": "2ec1be29-b0e7-48a0-9800-8e8e1880fb4d"
      },
      "execution_count": null,
      "outputs": [
        {
          "output_type": "stream",
          "name": "stdout",
          "text": [
            "20\n",
            "5\n",
            "3\n",
            "4\n",
            "2\n",
            "1\n",
            "5\n",
            "105\n"
          ]
        }
      ]
    },
    {
      "cell_type": "code",
      "source": [
        "Marthas_bag = 1000\n",
        "first_slot = 21\n",
        "second_slot = 45\n",
        "third_slot = 4"
      ],
      "metadata": {
        "id": "pcbf8zhZ7Eej"
      },
      "execution_count": null,
      "outputs": []
    },
    {
      "cell_type": "code",
      "source": [
        "i = 0\n",
        "while i < 3:\n",
        "  j = 8\n",
        "  while j < 11:\n",
        "    print(i, j)\n",
        "    j = j + 1\n",
        "  i = i + 1"
      ],
      "metadata": {
        "colab": {
          "base_uri": "https://localhost:8080/"
        },
        "id": "uHTDk1BZeH1t",
        "outputId": "37bdb668-b31e-4b9b-f90b-d000dd84a480"
      },
      "execution_count": null,
      "outputs": [
        {
          "output_type": "stream",
          "name": "stdout",
          "text": [
            "0 8\n",
            "0 9\n",
            "0 10\n",
            "1 8\n",
            "1 9\n",
            "1 10\n",
            "2 8\n",
            "2 9\n",
            "2 10\n"
          ]
        }
      ]
    },
    {
      "cell_type": "code",
      "source": [
        "i = 0\n",
        "while i < 20:\n",
        "  j = 0\n",
        "  while j < 20:\n",
        "    print(i,j)\n",
        "    j = j + 1\n",
        "  i = i + 2\n"
      ],
      "metadata": {
        "id": "NgpXS8OGe_mM"
      },
      "execution_count": null,
      "outputs": []
    },
    {
      "cell_type": "code",
      "source": [
        "quarters = int(input())\n",
        "first = int(input())\n",
        "second = int(input())\n",
        "third = int(input())\n",
        "\n",
        "plays = 0\n",
        "machine = 5\n",
        "\n",
        "\n",
        "\n",
        "while quarters >= 1:\n",
        "  quarters = quarters - 1\n",
        "  if machine == 0:\n",
        "    first = first + 1\n",
        "    if first == 35:\n",
        "      first = 0\n",
        "      quarters = quarters + 30\n",
        "  elif machine == 1:\n",
        "    second = second + 1\n",
        "    if second == 100:\n",
        "      second = 0\n",
        "      quarters = quarters + 60\n",
        "  elif machine == 2:\n",
        "    third = third + 1\n",
        "    if third == 10:\n",
        "      third = 0\n",
        "      quarters = quarters + 9\n",
        "  plays = plays + 1\n",
        "  machine = machine + 1\n",
        "  if machine == 3:\n",
        "    machine = 0 \n",
        "print('Martha plays', plays, 'times before going broke.')    "
      ],
      "metadata": {
        "colab": {
          "base_uri": "https://localhost:8080/"
        },
        "id": "7f14WDvzfu0f",
        "outputId": "0bb43493-9e64-4452-df28-8504a4bdca5c"
      },
      "execution_count": null,
      "outputs": [
        {
          "output_type": "stream",
          "name": "stdout",
          "text": [
            "3\n",
            "3\n",
            "3\n",
            "3\n",
            "Martha plays 3 times before going broke.\n"
          ]
        }
      ]
    },
    {
      "cell_type": "code",
      "source": [
        "string = 'abcdefg'\n",
        "\n",
        "string[1]\n",
        "string[-1::]"
      ],
      "metadata": {
        "colab": {
          "base_uri": "https://localhost:8080/",
          "height": 35
        },
        "id": "p1q1Vr0ENWqv",
        "outputId": "2dd3e95f-cc62-4f06-9c75-9d973f86650a"
      },
      "execution_count": null,
      "outputs": [
        {
          "output_type": "execute_result",
          "data": {
            "text/plain": [
              "'g'"
            ],
            "application/vnd.google.colaboratory.intrinsic+json": {
              "type": "string"
            }
          },
          "metadata": {},
          "execution_count": 50
        }
      ]
    },
    {
      "cell_type": "code",
      "source": [
        "songs = 'ABCDE'\n",
        "button = 0\n",
        "\n",
        "while button != 4:\n",
        "  button = int(input())\n",
        "  presses = int(input())\n",
        "  for i in range(presses):\n",
        "    if button == 1:\n",
        "      songs = songs[1:] + songs[0]\n",
        "    elif button == 2:\n",
        "      songs = songs[-1] + songs[:-1]\n",
        "    elif button == 3:\n",
        "      songs = songs[1] + songs[0] + songs[:2]\n",
        "output = ''\n",
        "for song in songs:\n",
        "  output = output + song + ' '\n",
        "print(output[:-1])"
      ],
      "metadata": {
        "colab": {
          "base_uri": "https://localhost:8080/",
          "height": 468
        },
        "id": "oYBGl4-wLtyU",
        "outputId": "8d67897e-f08e-4d2b-bde9-3981ef8ea87e"
      },
      "execution_count": null,
      "outputs": [
        {
          "name": "stdout",
          "output_type": "stream",
          "text": [
            "1\n",
            "1\n",
            "1\n",
            "3\n",
            "3\n"
          ]
        },
        {
          "output_type": "error",
          "ename": "KeyboardInterrupt",
          "evalue": "ignored",
          "traceback": [
            "\u001b[0;31m---------------------------------------------------------------------------\u001b[0m",
            "\u001b[0;31mKeyboardInterrupt\u001b[0m                         Traceback (most recent call last)",
            "\u001b[0;32m<ipython-input-20-2be16d32c116>\u001b[0m in \u001b[0;36m<module>\u001b[0;34m\u001b[0m\n\u001b[1;32m      4\u001b[0m \u001b[0;32mwhile\u001b[0m \u001b[0mbutton\u001b[0m \u001b[0;34m!=\u001b[0m \u001b[0;36m4\u001b[0m\u001b[0;34m:\u001b[0m\u001b[0;34m\u001b[0m\u001b[0;34m\u001b[0m\u001b[0m\n\u001b[1;32m      5\u001b[0m   \u001b[0mbutton\u001b[0m \u001b[0;34m=\u001b[0m \u001b[0mint\u001b[0m\u001b[0;34m(\u001b[0m\u001b[0minput\u001b[0m\u001b[0;34m(\u001b[0m\u001b[0;34m)\u001b[0m\u001b[0;34m)\u001b[0m\u001b[0;34m\u001b[0m\u001b[0;34m\u001b[0m\u001b[0m\n\u001b[0;32m----> 6\u001b[0;31m   \u001b[0mpresses\u001b[0m \u001b[0;34m=\u001b[0m \u001b[0mint\u001b[0m\u001b[0;34m(\u001b[0m\u001b[0minput\u001b[0m\u001b[0;34m(\u001b[0m\u001b[0;34m)\u001b[0m\u001b[0;34m)\u001b[0m\u001b[0;34m\u001b[0m\u001b[0;34m\u001b[0m\u001b[0m\n\u001b[0m\u001b[1;32m      7\u001b[0m   \u001b[0;32mfor\u001b[0m \u001b[0mi\u001b[0m \u001b[0;32min\u001b[0m \u001b[0mrange\u001b[0m\u001b[0;34m(\u001b[0m\u001b[0mpresses\u001b[0m\u001b[0;34m)\u001b[0m\u001b[0;34m:\u001b[0m\u001b[0;34m\u001b[0m\u001b[0;34m\u001b[0m\u001b[0m\n\u001b[1;32m      8\u001b[0m     \u001b[0;32mif\u001b[0m \u001b[0mbutton\u001b[0m \u001b[0;34m==\u001b[0m \u001b[0;36m1\u001b[0m\u001b[0;34m:\u001b[0m\u001b[0;34m\u001b[0m\u001b[0;34m\u001b[0m\u001b[0m\n",
            "\u001b[0;32m/usr/local/lib/python3.8/dist-packages/ipykernel/kernelbase.py\u001b[0m in \u001b[0;36mraw_input\u001b[0;34m(self, prompt)\u001b[0m\n\u001b[1;32m    858\u001b[0m                 \u001b[0;34m\"raw_input was called, but this frontend does not support input requests.\"\u001b[0m\u001b[0;34m\u001b[0m\u001b[0;34m\u001b[0m\u001b[0m\n\u001b[1;32m    859\u001b[0m             )\n\u001b[0;32m--> 860\u001b[0;31m         return self._input_request(str(prompt),\n\u001b[0m\u001b[1;32m    861\u001b[0m             \u001b[0mself\u001b[0m\u001b[0;34m.\u001b[0m\u001b[0m_parent_ident\u001b[0m\u001b[0;34m,\u001b[0m\u001b[0;34m\u001b[0m\u001b[0;34m\u001b[0m\u001b[0m\n\u001b[1;32m    862\u001b[0m             \u001b[0mself\u001b[0m\u001b[0;34m.\u001b[0m\u001b[0m_parent_header\u001b[0m\u001b[0;34m,\u001b[0m\u001b[0;34m\u001b[0m\u001b[0;34m\u001b[0m\u001b[0m\n",
            "\u001b[0;32m/usr/local/lib/python3.8/dist-packages/ipykernel/kernelbase.py\u001b[0m in \u001b[0;36m_input_request\u001b[0;34m(self, prompt, ident, parent, password)\u001b[0m\n\u001b[1;32m    902\u001b[0m             \u001b[0;32mexcept\u001b[0m \u001b[0mKeyboardInterrupt\u001b[0m\u001b[0;34m:\u001b[0m\u001b[0;34m\u001b[0m\u001b[0;34m\u001b[0m\u001b[0m\n\u001b[1;32m    903\u001b[0m                 \u001b[0;31m# re-raise KeyboardInterrupt, to truncate traceback\u001b[0m\u001b[0;34m\u001b[0m\u001b[0;34m\u001b[0m\u001b[0;34m\u001b[0m\u001b[0m\n\u001b[0;32m--> 904\u001b[0;31m                 \u001b[0;32mraise\u001b[0m \u001b[0mKeyboardInterrupt\u001b[0m\u001b[0;34m(\u001b[0m\u001b[0;34m\"Interrupted by user\"\u001b[0m\u001b[0;34m)\u001b[0m \u001b[0;32mfrom\u001b[0m \u001b[0;32mNone\u001b[0m\u001b[0;34m\u001b[0m\u001b[0;34m\u001b[0m\u001b[0m\n\u001b[0m\u001b[1;32m    905\u001b[0m             \u001b[0;32mexcept\u001b[0m \u001b[0mException\u001b[0m \u001b[0;32mas\u001b[0m \u001b[0me\u001b[0m\u001b[0;34m:\u001b[0m\u001b[0;34m\u001b[0m\u001b[0;34m\u001b[0m\u001b[0m\n\u001b[1;32m    906\u001b[0m                 \u001b[0mself\u001b[0m\u001b[0;34m.\u001b[0m\u001b[0mlog\u001b[0m\u001b[0;34m.\u001b[0m\u001b[0mwarning\u001b[0m\u001b[0;34m(\u001b[0m\u001b[0;34m\"Invalid Message:\"\u001b[0m\u001b[0;34m,\u001b[0m \u001b[0mexc_info\u001b[0m\u001b[0;34m=\u001b[0m\u001b[0;32mTrue\u001b[0m\u001b[0;34m)\u001b[0m\u001b[0;34m\u001b[0m\u001b[0;34m\u001b[0m\u001b[0m\n",
            "\u001b[0;31mKeyboardInterrupt\u001b[0m: Interrupted by user"
          ]
        }
      ]
    },
    {
      "cell_type": "code",
      "source": [
        "valid = False\n",
        "while not valid:\n",
        "  s = input()\n",
        "  valid = len(s) == 5 and s[:2] == 'xy'"
      ],
      "metadata": {
        "colab": {
          "base_uri": "https://localhost:8080/"
        },
        "id": "OYsE1mkmzrOd",
        "outputId": "cfe18eaa-a122-47a7-f058-6e60a48fe0d6"
      },
      "execution_count": null,
      "outputs": [
        {
          "name": "stdout",
          "output_type": "stream",
          "text": [
            "2\n",
            "2\n",
            "3\n",
            "4\n",
            "5\n",
            "5\n",
            "2\n",
            "xy\n",
            "True\n",
            "False\n",
            "xyabc\n"
          ]
        }
      ]
    }
  ]
}