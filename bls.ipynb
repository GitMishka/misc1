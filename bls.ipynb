{
  "nbformat": 4,
  "nbformat_minor": 0,
  "metadata": {
    "colab": {
      "provenance": [],
      "authorship_tag": "ABX9TyNAuGDExu5igzFN69i6Q0RX",
      "include_colab_link": true
    },
    "kernelspec": {
      "name": "python3",
      "display_name": "Python 3"
    },
    "language_info": {
      "name": "python"
    }
  },
  "cells": [
    {
      "cell_type": "markdown",
      "metadata": {
        "id": "view-in-github",
        "colab_type": "text"
      },
      "source": [
        "<a href=\"https://colab.research.google.com/github/GitMishka/2021_TSLAstock_Analysis-/blob/master/bls.ipynb\" target=\"_parent\"><img src=\"https://colab.research.google.com/assets/colab-badge.svg\" alt=\"Open In Colab\"/></a>"
      ]
    },
    {
      "cell_type": "code",
      "source": [
        "!pip install pandas"
      ],
      "metadata": {
        "colab": {
          "base_uri": "https://localhost:8080/"
        },
        "id": "pfekPUoEVkbf",
        "outputId": "99e9534e-7205-4866-bb2b-b35747eb589c"
      },
      "execution_count": null,
      "outputs": [
        {
          "output_type": "stream",
          "name": "stdout",
          "text": [
            "Looking in indexes: https://pypi.org/simple, https://us-python.pkg.dev/colab-wheels/public/simple/\n",
            "Requirement already satisfied: pandas in /usr/local/lib/python3.10/dist-packages (1.5.3)\n",
            "Requirement already satisfied: python-dateutil>=2.8.1 in /usr/local/lib/python3.10/dist-packages (from pandas) (2.8.2)\n",
            "Requirement already satisfied: pytz>=2020.1 in /usr/local/lib/python3.10/dist-packages (from pandas) (2022.7.1)\n",
            "Requirement already satisfied: numpy>=1.21.0 in /usr/local/lib/python3.10/dist-packages (from pandas) (1.22.4)\n",
            "Requirement already satisfied: six>=1.5 in /usr/local/lib/python3.10/dist-packages (from python-dateutil>=2.8.1->pandas) (1.16.0)\n"
          ]
        }
      ]
    },
    {
      "cell_type": "code",
      "execution_count": null,
      "metadata": {
        "colab": {
          "base_uri": "https://localhost:8080/",
          "height": 260
        },
        "id": "S6uihZx3UgtD",
        "outputId": "a48c36b0-b3cb-46e4-e3fc-dbd867afa2f6"
      },
      "outputs": [
        {
          "output_type": "stream",
          "name": "stdout",
          "text": [
            "     year period periodName  value footnotes\n",
            "0    2021    M12   December  31.42      [{}]\n",
            "1    2021    M11   November  31.24      [{}]\n",
            "2    2021    M10    October  31.14      [{}]\n",
            "3    2021    M09  September  30.96      [{}]\n",
            "4    2021    M08     August  30.78      [{}]\n",
            "..    ...    ...        ...    ...       ...\n",
            "127  2011    M05        May  22.98      [{}]\n",
            "128  2011    M04      April  22.91      [{}]\n",
            "129  2011    M03      March  22.87      [{}]\n",
            "130  2011    M02   February  22.87      [{}]\n",
            "131  2011    M01    January  22.86      [{}]\n",
            "\n",
            "[132 rows x 5 columns]\n"
          ]
        },
        {
          "output_type": "display_data",
          "data": {
            "text/plain": [
              "<IPython.core.display.Javascript object>"
            ],
            "application/javascript": [
              "\n",
              "    async function download(id, filename, size) {\n",
              "      if (!google.colab.kernel.accessAllowed) {\n",
              "        return;\n",
              "      }\n",
              "      const div = document.createElement('div');\n",
              "      const label = document.createElement('label');\n",
              "      label.textContent = `Downloading \"${filename}\": `;\n",
              "      div.appendChild(label);\n",
              "      const progress = document.createElement('progress');\n",
              "      progress.max = size;\n",
              "      div.appendChild(progress);\n",
              "      document.body.appendChild(div);\n",
              "\n",
              "      const buffers = [];\n",
              "      let downloaded = 0;\n",
              "\n",
              "      const channel = await google.colab.kernel.comms.open(id);\n",
              "      // Send a message to notify the kernel that we're ready.\n",
              "      channel.send({})\n",
              "\n",
              "      for await (const message of channel.messages) {\n",
              "        // Send a message to notify the kernel that we're ready.\n",
              "        channel.send({})\n",
              "        if (message.buffers) {\n",
              "          for (const buffer of message.buffers) {\n",
              "            buffers.push(buffer);\n",
              "            downloaded += buffer.byteLength;\n",
              "            progress.value = downloaded;\n",
              "          }\n",
              "        }\n",
              "      }\n",
              "      const blob = new Blob(buffers, {type: 'application/binary'});\n",
              "      const a = document.createElement('a');\n",
              "      a.href = window.URL.createObjectURL(blob);\n",
              "      a.download = filename;\n",
              "      div.appendChild(a);\n",
              "      a.click();\n",
              "      div.remove();\n",
              "    }\n",
              "  "
            ]
          },
          "metadata": {}
        },
        {
          "output_type": "display_data",
          "data": {
            "text/plain": [
              "<IPython.core.display.Javascript object>"
            ],
            "application/javascript": [
              "download(\"download_810bc7ff-b78c-4eb5-ac5e-861248caaf3d\", \"data.csv\", 3625)"
            ]
          },
          "metadata": {}
        }
      ],
      "source": [
        "import requests\n",
        "import json\n",
        "import pandas as pd\n",
        "# BLS API test\n",
        "headers = {\"Content-type\": \"application/json\"}\n",
        "\n",
        "data = json.dumps({\n",
        "    \"seriesid\": ['CES0500000003'], \n",
        "    \"startyear\":\"2011\", \n",
        "    \"endyear\":\"2021\",\n",
        "    \"registrationkey\":\"f5a17dddb91f40ac9e93c9ec8b9769a6\" \n",
        "})\n",
        "\n",
        "url = \"https://api.bls.gov/publicAPI/v2/timeseries/data/\"\n",
        "response = requests.post(url, data=data, headers=headers)\n",
        "\n",
        "if response.status_code == 200:\n",
        "    result = json.loads(response.text)\n",
        "    #print(json.dumps(result, indent=2))\n",
        "else:\n",
        "    print(\"Failed to retrieve data\")\n",
        "\n",
        "data_points = result['Results']['series'][0]['data']\n",
        "df = pd.DataFrame(data_points)\n",
        "print(df)\n",
        "from google.colab import files\n",
        "\n",
        "df.to_csv('data.csv', index=False)\n",
        "\n",
        "files.download('data.csv')\n",
        "\n"
      ]
    }
  ]
}