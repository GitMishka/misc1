{
  "nbformat": 4,
  "nbformat_minor": 0,
  "metadata": {
    "colab": {
      "provenance": [],
      "authorship_tag": "ABX9TyO3EsFeu/5bSYeqiI0Oe5K2",
      "include_colab_link": true
    },
    "kernelspec": {
      "name": "python3",
      "display_name": "Python 3"
    },
    "language_info": {
      "name": "python"
    }
  },
  "cells": [
    {
      "cell_type": "markdown",
      "metadata": {
        "id": "view-in-github",
        "colab_type": "text"
      },
      "source": [
        "<a href=\"https://colab.research.google.com/github/GitMishka/2021_TSLAstock_Analysis-/blob/master/day9.ipynb\" target=\"_parent\"><img src=\"https://colab.research.google.com/assets/colab-badge.svg\" alt=\"Open In Colab\"/></a>"
      ]
    },
    {
      "cell_type": "code",
      "execution_count": null,
      "metadata": {
        "colab": {
          "base_uri": "https://localhost:8080/"
        },
        "id": "pdpKVWJAupQM",
        "outputId": "13991b1c-ef2a-4c5b-f352-aebf5b780b26"
      },
      "outputs": [
        {
          "output_type": "stream",
          "name": "stdout",
          "text": [
            "2\n",
            "1 1\n",
            "2\n",
            "-1 0\n",
            "-1\n"
          ]
        }
      ],
      "source": [
        "N = int(input())\n",
        "\n",
        "for _ in range(N):\n",
        "    a, b = map(int, input().split())\n",
        "    print(a + b)\n"
      ]
    },
    {
      "cell_type": "code",
      "source": [
        "def triangle_type(angle1, angle2, angle3):\n",
        "    if angle1 + angle2 + angle3 != 180:\n",
        "        return \"Error\"\n",
        "    elif angle1 == angle2 == angle3 == 60:\n",
        "        return \"Equilateral\"\n",
        "    elif angle1 == angle2 or angle2 == angle3 or angle1 == angle3:\n",
        "        return \"Isosceles\"\n",
        "    else:\n",
        "        return \"Scalene\"\n",
        "\n",
        "# Read input\n",
        "angle1 = int(input())\n",
        "angle2 = int(input())\n",
        "angle3 = int(input())\n",
        "\n",
        "# Call the function and print the result\n",
        "print(triangle_type(angle1, angle2, angle3))\n",
        "\n"
      ],
      "metadata": {
        "colab": {
          "base_uri": "https://localhost:8080/"
        },
        "id": "21-hG9O135Ob",
        "outputId": "ea9c4727-976d-4f08-aae8-59300fd4a880"
      },
      "execution_count": null,
      "outputs": [
        {
          "output_type": "stream",
          "name": "stdout",
          "text": [
            "60\n",
            "60\n",
            "60\n",
            "Equilateral\n"
          ]
        }
      ]
    },
    {
      "cell_type": "code",
      "source": [
        "angle1 = int(input())\n",
        "angle2 = int(input())\n",
        "angle3 = int(input())\n",
        "total = angle1 + angle3 + angle2\n",
        "if angle1 + angle2 + angle3 != 180:\n",
        "  print('Error')\n",
        "elif total == 180 and angle1 == 60 and angle2 == 60 and angle3== 60:\n",
        "  print('Equilateral')\n",
        "elif (angle1 == angle2 and angle3 != angle2) or (angle1 == angle3 and angle2 !=angle1) or (angle2 == angle3 and angle1 !=angle3) and total == 180:\n",
        "  print('Isosceles')\n",
        "elif angle1 != angle2 or angle1 != angle3 or angle2 != angle3 and total == 180:\n",
        "  print('Scalene')\n",
        "else:\n",
        "  print('Error')\n",
        "\n"
      ],
      "metadata": {
        "colab": {
          "base_uri": "https://localhost:8080/"
        },
        "id": "eJJ_RwtS6zPo",
        "outputId": "abb32aa3-d5df-4e57-9cee-e1d3921d107b"
      },
      "execution_count": null,
      "outputs": [
        {
          "output_type": "stream",
          "name": "stdout",
          "text": [
            "60\n",
            "75\n",
            "55\n",
            "Error\n"
          ]
        }
      ]
    },
    {
      "cell_type": "markdown",
      "source": [],
      "metadata": {
        "id": "6uFN1dxc6y-M"
      }
    },
    {
      "cell_type": "code",
      "source": [
        "antennae = int(input())\n",
        "eyes = int(input())\n",
        "\n",
        "if antennae == 3 and eyes <= 4:\n",
        "  print('TroyMartian')\n",
        "\n",
        "if antennae <= 2 and eyes <= 3:\n",
        "  print('GraemeMercurian')\n",
        "\n",
        "if antennae <= 6 and eyes >= 2:\n",
        "  print('VladSaturnian')\n",
        "\n",
        "else:\n",
        "  print('')"
      ],
      "metadata": {
        "colab": {
          "base_uri": "https://localhost:8080/"
        },
        "id": "iAstC-bdzf_x",
        "outputId": "47481db9-e5f8-442e-ea0c-f2aeeec281f1"
      },
      "execution_count": null,
      "outputs": [
        {
          "output_type": "stream",
          "name": "stdout",
          "text": [
            "8\n",
            "8\n",
            " 1\n"
          ]
        }
      ]
    },
    {
      "cell_type": "code",
      "source": [
        "digits = [input() for i in range(4)]\n",
        "if digits[0] in ['8', '9'] and digits[3] in ['8', '9'] and digits[1] == digits[2]:\n",
        "    print('ignore')\n",
        "else:\n",
        "    print('answer')\n"
      ],
      "metadata": {
        "colab": {
          "base_uri": "https://localhost:8080/"
        },
        "id": "vZsxlHVBNdzk",
        "outputId": "4c5df75b-5815-4438-8265-a43c45e1cefb"
      },
      "execution_count": null,
      "outputs": [
        {
          "output_type": "stream",
          "name": "stdout",
          "text": [
            "2\n",
            "3\n",
            "4\n",
            "5\n",
            "answer\n"
          ]
        }
      ]
    },
    {
      "cell_type": "code",
      "source": [],
      "metadata": {
        "id": "kk6TaBIVS_zS"
      },
      "execution_count": null,
      "outputs": []
    }
  ]
}