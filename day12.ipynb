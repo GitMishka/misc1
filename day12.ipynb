{
  "nbformat": 4,
  "nbformat_minor": 0,
  "metadata": {
    "colab": {
      "provenance": [],
      "authorship_tag": "ABX9TyOljtdCRBFbPOpmdnn95WEz",
      "include_colab_link": true
    },
    "kernelspec": {
      "name": "python3",
      "display_name": "Python 3"
    },
    "language_info": {
      "name": "python"
    }
  },
  "cells": [
    {
      "cell_type": "markdown",
      "metadata": {
        "id": "view-in-github",
        "colab_type": "text"
      },
      "source": [
        "<a href=\"https://colab.research.google.com/github/GitMishka/2021_TSLAstock_Analysis-/blob/master/day12.ipynb\" target=\"_parent\"><img src=\"https://colab.research.google.com/assets/colab-badge.svg\" alt=\"Open In Colab\"/></a>"
      ]
    },
    {
      "cell_type": "code",
      "execution_count": 1,
      "metadata": {
        "colab": {
          "base_uri": "https://localhost:8080/"
        },
        "id": "x4s0W19L_9aF",
        "outputId": "2a0185b3-874d-4bd3-9f28-a8769b9944b1"
      },
      "outputs": [
        {
          "output_type": "stream",
          "name": "stdout",
          "text": [
            "function2!\n",
            "function1!\n"
          ]
        }
      ],
      "source": [
        "def function1():\n",
        "    print('function1!')\n",
        "\n",
        "def function2():\n",
        "    print('function2!')\n",
        "    function1()\n",
        "\n",
        "function2()\n"
      ]
    },
    {
      "cell_type": "code",
      "source": [
        "def add(a, b):\n",
        "    return a + b\n",
        "\n",
        "def multiply(a, b):\n",
        "    return a * b\n",
        "\n",
        "def do_math(a, b):\n",
        "    print(f\"Sum: {add(a, b)}\")\n",
        "    print(f\"Product: {multiply(a, b)}\")\n",
        "\n",
        "do_math(5, 3)\n"
      ],
      "metadata": {
        "colab": {
          "base_uri": "https://localhost:8080/"
        },
        "id": "vPavC3HtCUjS",
        "outputId": "82c95f34-4c97-4d39-f074-7685fdf29a85"
      },
      "execution_count": 2,
      "outputs": [
        {
          "output_type": "stream",
          "name": "stdout",
          "text": [
            "Sum: 8\n",
            "Product: 15\n"
          ]
        }
      ]
    },
    {
      "cell_type": "code",
      "source": [
        "def greet(name):\n",
        "    return f\"Hello, {name}!\"\n",
        "\n",
        "def compliment(name):\n",
        "    return f\"{name}, you're doing a great job!\"\n",
        "\n",
        "def farewell(name):\n",
        "    return f\"Goodbye, {name}! See you later!\"\n",
        "\n",
        "def interaction(name, time):\n",
        "    if time < 12:\n",
        "        print(greet(name))\n",
        "        print(compliment(name))\n",
        "    elif 12 <= time < 17:\n",
        "        print(compliment(name))\n",
        "    else:\n",
        "        print(farewell(name))\n",
        "\n",
        "interaction(\"Alice\", 11)\n",
        "interaction(\"Bob\", 15)\n",
        "interaction(\"Charlie\", 20)\n"
      ],
      "metadata": {
        "colab": {
          "base_uri": "https://localhost:8080/"
        },
        "id": "RPDoeVlIDcUT",
        "outputId": "af7d55ba-09ad-4d0e-f14a-0ab04891f838"
      },
      "execution_count": 3,
      "outputs": [
        {
          "output_type": "stream",
          "name": "stdout",
          "text": [
            "Hello, Alice!\n",
            "Alice, you're doing a great job!\n",
            "Bob, you're doing a great job!\n",
            "Goodbye, Charlie! See you later!\n"
          ]
        }
      ]
    }
  ]
}