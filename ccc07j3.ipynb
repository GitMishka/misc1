{
  "nbformat": 4,
  "nbformat_minor": 0,
  "metadata": {
    "colab": {
      "provenance": [],
      "authorship_tag": "ABX9TyNKjyFSSj1Mqd9k6XHXaJ7T",
      "include_colab_link": true
    },
    "kernelspec": {
      "name": "python3",
      "display_name": "Python 3"
    },
    "language_info": {
      "name": "python"
    }
  },
  "cells": [
    {
      "cell_type": "markdown",
      "metadata": {
        "id": "view-in-github",
        "colab_type": "text"
      },
      "source": [
        "<a href=\"https://colab.research.google.com/github/GitMishka/2021_TSLAstock_Analysis-/blob/master/ccc07j3.ipynb\" target=\"_parent\"><img src=\"https://colab.research.google.com/assets/colab-badge.svg\" alt=\"Open In Colab\"/></a>"
      ]
    },
    {
      "cell_type": "code",
      "execution_count": null,
      "metadata": {
        "colab": {
          "base_uri": "https://localhost:8080/"
        },
        "id": "qZUSz19_d5Oy",
        "outputId": "38af71a8-6cf8-451c-cf43-bce2c089b2eb"
      },
      "outputs": [
        {
          "output_type": "stream",
          "name": "stdout",
          "text": [
            "2\n",
            "3\n",
            "8\n",
            "s == s/(10 - n): 1691600\n",
            "198000\n",
            "no deal\n"
          ]
        }
      ],
      "source": [
        "a = [100,500,1000,5000,10000,25000,50000,100000,500000,1000000]\n",
        "s = sum(a)\n",
        "#print('sum:', s)\n",
        "n = int(input())\n",
        "for i in range(n):\n",
        "  s == s - a[int(input())-1]\n",
        "  #print('s == s - a[int(input())-1]:',s)\n",
        "s == s/(10 - n)\n",
        "print('s == s/(10 - n):',s)\n",
        "if int(input()) > s:\n",
        "  print('deal')\n",
        "else:\n",
        "  print('no deal')\n"
      ]
    },
    {
      "cell_type": "code",
      "source": [],
      "metadata": {
        "id": "WwR9iDafDrdX"
      },
      "execution_count": null,
      "outputs": []
    },
    {
      "cell_type": "code",
      "source": [
        "v = [100, 500, 1000, 5000, 10000, 25000, 50000, 100000, 500000, 1000000]\n",
        "s = sum(v)\n",
        "n = int(input())\n",
        "for _ in range(n):\n",
        "    s -= v[int(input()) - 1]\n",
        "    print(s)\n",
        "s /= (10 - n)\n",
        "print('s /= (10 - n):',s)\n",
        "if int(input()) > s:\n",
        "    print(\"deal\")\n",
        "else:\n",
        "    print(\"no deal\")"
      ],
      "metadata": {
        "colab": {
          "base_uri": "https://localhost:8080/"
        },
        "id": "kY-WKCM5Df6m",
        "outputId": "4bc19fe4-5802-4760-db9c-f635de0cb395"
      },
      "execution_count": null,
      "outputs": [
        {
          "output_type": "stream",
          "name": "stdout",
          "text": [
            "2\n",
            "3\n",
            "1690600\n",
            "8\n",
            "1590600\n",
            "s /= (10 - n): 198825.0\n",
            "198000\n",
            "no deal\n"
          ]
        }
      ]
    }
  ]
}