{
  "nbformat": 4,
  "nbformat_minor": 0,
  "metadata": {
    "colab": {
      "provenance": [],
      "authorship_tag": "ABX9TyMjWN9Ao29LckQHgrgTV1GO",
      "include_colab_link": true
    },
    "kernelspec": {
      "name": "python3",
      "display_name": "Python 3"
    },
    "language_info": {
      "name": "python"
    }
  },
  "cells": [
    {
      "cell_type": "markdown",
      "metadata": {
        "id": "view-in-github",
        "colab_type": "text"
      },
      "source": [
        "<a href=\"https://colab.research.google.com/github/GitMishka/2021_TSLAstock_Analysis-/blob/master/leetcode.ipynb\" target=\"_parent\"><img src=\"https://colab.research.google.com/assets/colab-badge.svg\" alt=\"Open In Colab\"/></a>"
      ]
    },
    {
      "cell_type": "code",
      "execution_count": null,
      "metadata": {
        "id": "k-fCvMTg8Wit"
      },
      "outputs": [],
      "source": [
        "def find_needle_in_haystack(needle, haystack):\n",
        "    index = haystack.find(needle)\n",
        "    return index\n"
      ]
    },
    {
      "cell_type": "code",
      "source": [
        "def searchInsert(nums, target):\n",
        "    left, right = 0, len(nums) - 1\n",
        "    while left <= right:\n",
        "        mid = (left + right) // 2\n",
        "        if nums[mid] == target:\n",
        "            return mid\n",
        "        elif nums[mid] < target:\n",
        "            left = mid + 1\n",
        "        else:\n",
        "            right = mid - 1\n",
        "    return left\n"
      ],
      "metadata": {
        "id": "vf-c5aJP-h_2"
      },
      "execution_count": null,
      "outputs": []
    },
    {
      "cell_type": "code",
      "source": [
        "print(searchInsert([1,3,5,6], 5))  # Outputs: 2\n",
        "print(searchInsert([1,3,5,6], 2))  # Outputs: 1\n",
        "print(searchInsert([1,3,5,6], 7))  # Outputs: 4\n",
        "print(searchInsert([1,3,5,6], 0))  # Outputs: 0\n"
      ],
      "metadata": {
        "colab": {
          "base_uri": "https://localhost:8080/"
        },
        "id": "WZW7fOMYCyXQ",
        "outputId": "dcba2938-6d33-4244-a5df-5d0fadb71ac4"
      },
      "execution_count": null,
      "outputs": [
        {
          "output_type": "stream",
          "name": "stdout",
          "text": [
            "2\n",
            "1\n",
            "4\n",
            "0\n"
          ]
        }
      ]
    },
    {
      "cell_type": "code",
      "source": [
        "def lengthOfLastWord(s):\n",
        "    words = s.split()\n",
        "    if not words:\n",
        "        return 0\n",
        "    return len(words[-1])\n"
      ],
      "metadata": {
        "id": "OcODShJ6Df2L"
      },
      "execution_count": null,
      "outputs": []
    },
    {
      "cell_type": "code",
      "source": [
        "def climbStairs(n):\n",
        "    if n <= 2:\n",
        "        return n\n",
        "    ways = [0] * (n+1)\n",
        "    print('ways:',ways)\n",
        "    ways[1] = 1\n",
        "    ways[2] = 2\n",
        "    print(ways)\n",
        "    for i in range(3, n+1):\n",
        "        print('ways:',ways[i-1],ways[i-2])\n",
        "        ways[i] = ways[i-1] + ways[i-2]\n",
        "    return ways[n],ways\n",
        "print(climbStairs(10)) \n",
        "# print(climbStairs(3))  \n",
        "# print(climbStairs(4)) \n"
      ],
      "metadata": {
        "colab": {
          "base_uri": "https://localhost:8080/"
        },
        "id": "CSeIUbplLGx0",
        "outputId": "e29f05cc-7019-4c92-f0e3-488c34129415"
      },
      "execution_count": null,
      "outputs": [
        {
          "output_type": "stream",
          "name": "stdout",
          "text": [
            "ways: [0, 0, 0, 0, 0, 0, 0, 0, 0, 0, 0]\n",
            "[0, 1, 2, 0, 0, 0, 0, 0, 0, 0, 0]\n",
            "ways: 2 1\n",
            "ways: 3 2\n",
            "ways: 5 3\n",
            "ways: 8 5\n",
            "ways: 13 8\n",
            "ways: 21 13\n",
            "ways: 34 21\n",
            "ways: 55 34\n",
            "(89, [0, 1, 2, 3, 5, 8, 13, 21, 34, 55, 89])\n"
          ]
        }
      ]
    }
  ]
}