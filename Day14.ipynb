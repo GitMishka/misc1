{
  "nbformat": 4,
  "nbformat_minor": 0,
  "metadata": {
    "colab": {
      "provenance": [],
      "authorship_tag": "ABX9TyOX9490c4XA729nt13AZYfu",
      "include_colab_link": true
    },
    "kernelspec": {
      "name": "python3",
      "display_name": "Python 3"
    },
    "language_info": {
      "name": "python"
    }
  },
  "cells": [
    {
      "cell_type": "markdown",
      "metadata": {
        "id": "view-in-github",
        "colab_type": "text"
      },
      "source": [
        "<a href=\"https://colab.research.google.com/github/GitMishka/2021_TSLAstock_Analysis-/blob/master/Day14.ipynb\" target=\"_parent\"><img src=\"https://colab.research.google.com/assets/colab-badge.svg\" alt=\"Open In Colab\"/></a>"
      ]
    },
    {
      "cell_type": "code",
      "source": [
        "class Dog:\n",
        "    def __init__(self, name, breed):\n",
        "        self.name = name\n",
        "        self.breed = breed\n",
        "my_dog = Dog(\"Fido\", \"Golden Retriever\")\n"
      ],
      "metadata": {
        "colab": {
          "base_uri": "https://localhost:8080/"
        },
        "id": "OwCY_tyTycsx",
        "outputId": "816c13d4-ec83-4fa5-c6e5-ef77a5bd3db7"
      },
      "execution_count": 7,
      "outputs": [
        {
          "output_type": "execute_result",
          "data": {
            "text/plain": [
              "<__main__.Dog at 0x7f2df73deda0>"
            ]
          },
          "metadata": {},
          "execution_count": 7
        }
      ]
    },
    {
      "cell_type": "markdown",
      "source": [
        "Problem:\n",
        "\n",
        "Design a Python class called Rectangle that represents a rectangle, having the following methods:\n",
        "\n",
        "    __init__(self, length, width): A constructor that takes the length and width of the rectangle as parameters.\n",
        "\n",
        "    get_area(self): This should return the area of the rectangle.\n",
        "\n",
        "    get_perimeter(self): This should return the perimeter of the rectangle.\n",
        "\n",
        "    is_square(self): This should return True if the rectangle is a square (length is equal to width), and False otherwise."
      ],
      "metadata": {
        "id": "Au7mnpTWzL0X"
      }
    },
    {
      "cell_type": "code",
      "source": [
        "class Rectangle:\n",
        "    def __init__(self, length, width):\n",
        "        self.length = length\n",
        "        self.width = width\n",
        "\n",
        "    def get_area(self):\n",
        "        return self.length * self.width\n",
        "\n",
        "    def get_perimeter(self):\n",
        "        return 2 * (self.length + self.width)\n",
        "\n",
        "    def is_square(self):\n",
        "        return self.length == self.width\n"
      ],
      "metadata": {
        "id": "ca4jb0izyzJv"
      },
      "execution_count": null,
      "outputs": []
    },
    {
      "cell_type": "code",
      "source": [
        "rectangle = Rectangle(5, 10)\n",
        "print(rectangle.get_area()) \n",
        "print(rectangle.get_perimeter())  \n",
        "print(rectangle.is_square()) \n",
        "square = Rectangle(5, 5)\n",
        "print(square.is_square())\n"
      ],
      "metadata": {
        "id": "wkDIbhXzzGGk"
      },
      "execution_count": null,
      "outputs": []
    },
    {
      "cell_type": "markdown",
      "source": [
        "Problem:\n",
        "\n",
        "Consider a classroom environment. We need to keep track of all the students in a class. For each student, we need to know their name, age, and grades in different subjects.\n",
        "\n",
        "Design a Python class named \"Student\" to solve this problem. It should have the following methods:\n",
        "\n",
        "    __init__(self, name, age): A constructor that takes a student's name and age as parameters.\n",
        "\n",
        "    add_grade(self, subject, grade): This should add a grade to a particular subject. A student can have grades in multiple subjects.\n",
        "\n",
        "    get_average_grade(self): This should return the average grade of the student across all subjects."
      ],
      "metadata": {
        "id": "gp6bS__1we1v"
      }
    },
    {
      "cell_type": "code",
      "source": [],
      "metadata": {
        "id": "M6qutMICwpzx"
      },
      "execution_count": null,
      "outputs": []
    },
    {
      "cell_type": "code",
      "execution_count": 1,
      "metadata": {
        "id": "_pBuzRdGv5Z8"
      },
      "outputs": [],
      "source": [
        "class Student:\n",
        "    def __init__(self, name, age):\n",
        "        self.name = name\n",
        "        self.age = age\n",
        "        self.grades = {}\n",
        "    def add_grade(self, subject, grade):\n",
        "        if subject in self.grades:\n",
        "            self.grades[subject].append(grade)  \n",
        "        else:\n",
        "            self.grades[subject] = [grade]  \n",
        "    def get_average_grade(self):\n",
        "        total_grades = 0\n",
        "        count = 0\n",
        "        for grades in self.grades.values():\n",
        "            total_grades += sum(grades)\n",
        "            count += len(grades)\n",
        "        return total_grades / count if count > 0 else 0  \n"
      ]
    },
    {
      "cell_type": "code",
      "source": [
        "student = Student('John', 16)\n",
        "student.add_grade('Math', 85)\n",
        "student.add_grade('English', 90)\n",
        "student.add_grade('Science', 78)\n",
        "student.add_grade('Math', 88)  \n",
        "print(student.get_average_grade())  \n"
      ],
      "metadata": {
        "colab": {
          "base_uri": "https://localhost:8080/"
        },
        "id": "DJiV4pxAwqoM",
        "outputId": "e8168919-6959-4123-f00f-360a4d4f3162"
      },
      "execution_count": 2,
      "outputs": [
        {
          "output_type": "stream",
          "name": "stdout",
          "text": [
            "85.25\n"
          ]
        }
      ]
    },
    {
      "cell_type": "markdown",
      "source": [
        "Problem:\n",
        "\n",
        "Create a Python class called BankAccount which represents a bank account, having the following methods:\n",
        "\n",
        "    __init__(self, account_number, account_name): A constructor that takes an account number and account name as parameters.\n",
        "\n",
        "    deposit(self, amount): This should increase the account balance by the deposit amount.\n",
        "\n",
        "    withdraw(self, amount): This should decrease the account balance by the withdrawal amount. If the withdrawal amount is more than the account balance, print an error message and do not deduct the amount.\n",
        "\n",
        "    get_balance(self): This should return the current balance of the account."
      ],
      "metadata": {
        "id": "juIAV0BdxRRL"
      }
    },
    {
      "cell_type": "code",
      "source": [
        "class BankAccount:\n",
        "    def __init__(self, account_number, account_name):\n",
        "        self.account_number = account_number\n",
        "        self.account_name = account_name\n",
        "        self.balance = 0.0\n",
        "\n",
        "    def deposit(self, amount):\n",
        "        self.balance += amount\n",
        "\n",
        "    def withdraw(self, amount):\n",
        "        if amount > self.balance:\n",
        "            print(\"Error: Insufficient balance.\")\n",
        "        else:\n",
        "            self.balance -= amount\n",
        "\n",
        "    def get_balance(self):\n",
        "        return self.balance\n"
      ],
      "metadata": {
        "id": "Cy9vL-mXxUfi"
      },
      "execution_count": null,
      "outputs": []
    },
    {
      "cell_type": "code",
      "source": [],
      "metadata": {
        "id": "mRz572H5yb8u"
      },
      "execution_count": null,
      "outputs": []
    },
    {
      "cell_type": "code",
      "source": [
        "account = BankAccount('123456', 'John Doe')\n",
        "account.deposit(1000)\n",
        "print(account.get_balance())\n",
        "account.withdraw(500)\n",
        "print(account.get_balance()) \n",
        "account.withdraw(1000)  \n"
      ],
      "metadata": {
        "id": "_Wm5HFUrxjFv"
      },
      "execution_count": null,
      "outputs": []
    },
    {
      "cell_type": "markdown",
      "source": [],
      "metadata": {
        "id": "sDy9njerxi1w"
      }
    }
  ]
}