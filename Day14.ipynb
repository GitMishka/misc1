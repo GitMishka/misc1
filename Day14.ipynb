{
  "nbformat": 4,
  "nbformat_minor": 0,
  "metadata": {
    "colab": {
      "provenance": [],
      "authorship_tag": "ABX9TyPLwXEXMVAPY0alhfJpfANo",
      "include_colab_link": true
    },
    "kernelspec": {
      "name": "python3",
      "display_name": "Python 3"
    },
    "language_info": {
      "name": "python"
    }
  },
  "cells": [
    {
      "cell_type": "markdown",
      "metadata": {
        "id": "view-in-github",
        "colab_type": "text"
      },
      "source": [
        "<a href=\"https://colab.research.google.com/github/GitMishka/2021_TSLAstock_Analysis-/blob/master/Day14.ipynb\" target=\"_parent\"><img src=\"https://colab.research.google.com/assets/colab-badge.svg\" alt=\"Open In Colab\"/></a>"
      ]
    },
    {
      "cell_type": "markdown",
      "source": [
        "Problem:\n",
        "\n",
        "Consider a classroom environment. We need to keep track of all the students in a class. For each student, we need to know their name, age, and grades in different subjects.\n",
        "\n",
        "Design a Python class named \"Student\" to solve this problem. It should have the following methods:\n",
        "\n",
        "    __init__(self, name, age): A constructor that takes a student's name and age as parameters.\n",
        "\n",
        "    add_grade(self, subject, grade): This should add a grade to a particular subject. A student can have grades in multiple subjects.\n",
        "\n",
        "    get_average_grade(self): This should return the average grade of the student across all subjects."
      ],
      "metadata": {
        "id": "gp6bS__1we1v"
      }
    },
    {
      "cell_type": "code",
      "source": [],
      "metadata": {
        "id": "M6qutMICwpzx"
      },
      "execution_count": null,
      "outputs": []
    },
    {
      "cell_type": "code",
      "execution_count": 1,
      "metadata": {
        "id": "_pBuzRdGv5Z8"
      },
      "outputs": [],
      "source": [
        "class Student:\n",
        "    def __init__(self, name, age):\n",
        "        self.name = name\n",
        "        self.age = age\n",
        "        self.grades = {}\n",
        "    def add_grade(self, subject, grade):\n",
        "        if subject in self.grades:\n",
        "            self.grades[subject].append(grade)  \n",
        "        else:\n",
        "            self.grades[subject] = [grade]  \n",
        "    def get_average_grade(self):\n",
        "        total_grades = 0\n",
        "        count = 0\n",
        "        for grades in self.grades.values():\n",
        "            total_grades += sum(grades)\n",
        "            count += len(grades)\n",
        "        return total_grades / count if count > 0 else 0  \n"
      ]
    },
    {
      "cell_type": "code",
      "source": [
        "student = Student('John', 16)\n",
        "student.add_grade('Math', 85)\n",
        "student.add_grade('English', 90)\n",
        "student.add_grade('Science', 78)\n",
        "student.add_grade('Math', 88)  \n",
        "print(student.get_average_grade())  \n"
      ],
      "metadata": {
        "colab": {
          "base_uri": "https://localhost:8080/"
        },
        "id": "DJiV4pxAwqoM",
        "outputId": "e8168919-6959-4123-f00f-360a4d4f3162"
      },
      "execution_count": 2,
      "outputs": [
        {
          "output_type": "stream",
          "name": "stdout",
          "text": [
            "85.25\n"
          ]
        }
      ]
    }
  ]
}