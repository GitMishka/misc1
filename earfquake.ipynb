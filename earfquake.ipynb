{
  "nbformat": 4,
  "nbformat_minor": 0,
  "metadata": {
    "colab": {
      "provenance": [],
      "mount_file_id": "1kAVGQpqO5eGjvpisViG4XuSt656or7xV",
      "authorship_tag": "ABX9TyPCdInJHvoGdaandTXr043g",
      "include_colab_link": true
    },
    "kernelspec": {
      "name": "python3",
      "display_name": "Python 3"
    },
    "language_info": {
      "name": "python"
    }
  },
  "cells": [
    {
      "cell_type": "markdown",
      "metadata": {
        "id": "view-in-github",
        "colab_type": "text"
      },
      "source": [
        "<a href=\"https://colab.research.google.com/github/GitMishka/2021_TSLAstock_Analysis-/blob/master/earfquake.ipynb\" target=\"_parent\"><img src=\"https://colab.research.google.com/assets/colab-badge.svg\" alt=\"Open In Colab\"/></a>"
      ]
    },
    {
      "cell_type": "code",
      "execution_count": null,
      "metadata": {
        "colab": {
          "base_uri": "https://localhost:8080/"
        },
        "id": "wiu5PuiEahO_",
        "outputId": "1cff178a-7c49-4c88-f5ff-56d173041269"
      },
      "outputs": [
        {
          "output_type": "stream",
          "name": "stdout",
          "text": [
            "Looking in indexes: https://pypi.org/simple, https://us-python.pkg.dev/colab-wheels/public/simple/\n",
            "Requirement already satisfied: requests in /usr/local/lib/python3.10/dist-packages (2.27.1)\n",
            "Requirement already satisfied: urllib3<1.27,>=1.21.1 in /usr/local/lib/python3.10/dist-packages (from requests) (1.26.15)\n",
            "Requirement already satisfied: certifi>=2017.4.17 in /usr/local/lib/python3.10/dist-packages (from requests) (2022.12.7)\n",
            "Requirement already satisfied: charset-normalizer~=2.0.0 in /usr/local/lib/python3.10/dist-packages (from requests) (2.0.12)\n",
            "Requirement already satisfied: idna<4,>=2.5 in /usr/local/lib/python3.10/dist-packages (from requests) (3.4)\n"
          ]
        }
      ],
      "source": [
        "!pip install requests\n"
      ]
    },
    {
      "cell_type": "code",
      "source": [
        "import requests\n",
        "import json\n",
        "\n",
        "response = requests.get('https://earthquake.usgs.gov/earthquakes/feed/v1.0/summary/all_month.geojson')\n",
        "data = response.json()\n"
      ],
      "metadata": {
        "id": "ttVnoq7Dah-C"
      },
      "execution_count": null,
      "outputs": []
    },
    {
      "cell_type": "code",
      "source": [
        "earthquake_data = []\n",
        "\n",
        "for feature in data['features']:\n",
        "  earthquake = feature['properties']\n",
        "  earthquake_data.append({\n",
        "    'place': earthquake['place'],\n",
        "    'mag': earthquake['mag'],\n",
        "    'time': earthquake['time'],\n",
        "  })\n"
      ],
      "metadata": {
        "id": "lM9O6sg0aj0J"
      },
      "execution_count": null,
      "outputs": []
    },
    {
      "cell_type": "code",
      "source": [
        "import sqlite3\n",
        "\n",
        "conn = sqlite3.connect('earthquakes.db')\n",
        "\n",
        "c = conn.cursor()\n",
        "c.execute('''\n",
        "  CREATE TABLE earthquakes\n",
        "  (place text, mag real, time real)\n",
        "''')\n"
      ],
      "metadata": {
        "colab": {
          "base_uri": "https://localhost:8080/"
        },
        "id": "_TE1uTR0alJH",
        "outputId": "4b894ab4-4c25-4568-b5de-b6d89503000c"
      },
      "execution_count": null,
      "outputs": [
        {
          "output_type": "execute_result",
          "data": {
            "text/plain": [
              "<sqlite3.Cursor at 0x7efc873354c0>"
            ]
          },
          "metadata": {},
          "execution_count": 4
        }
      ]
    },
    {
      "cell_type": "code",
      "source": [
        "for earthquake in earthquake_data:\n",
        "  c.execute('''\n",
        "    INSERT INTO earthquakes VALUES (?, ?, ?)\n",
        "  ''', (earthquake['place'], earthquake['mag'], earthquake['time']))\n",
        "conn.commit()\n"
      ],
      "metadata": {
        "id": "_7wVoENLasn7"
      },
      "execution_count": null,
      "outputs": []
    },
    {
      "cell_type": "code",
      "source": [
        "c.execute(\"SELECT * FROM earthquakes WHERE mag > 5.0\")\n",
        "rows = c.fetchall()\n",
        "\n",
        "for row in rows:\n",
        "    print(row)\n"
      ],
      "metadata": {
        "colab": {
          "base_uri": "https://localhost:8080/"
        },
        "id": "m0jOx_kUatZE",
        "outputId": "d34ccd15-e2b8-4b6e-88a9-ec3d4f9cc68a"
      },
      "execution_count": null,
      "outputs": [
        {
          "output_type": "stream",
          "name": "stdout",
          "text": [
            "('166 km SSW of Kokopo, Papua New Guinea', 5.3, 1685577917507.0)\n",
            "('10 km NE of Ambon, Indonesia', 5.2, 1685570198451.0)\n",
            "('off the east coast of the Kamchatka Peninsula, Russia', 5.5, 1685541705537.0)\n",
            "('125 km WSW of Myitkyina, Myanmar', 5.8, 1685532013509.0)\n",
            "('53 km ENE of Balkanabat, Turkmenistan', 5.1, 1685505889967.0)\n",
            "('Auckland Islands, New Zealand region', 6.3, 1685499683155.0)\n",
            "('68 km SW of La Tirana, Chile', 5.5, 1685465496770.0)\n",
            "('Volcano Islands, Japan region', 5.8, 1685407926116.0)\n",
            "('southwest of Africa', 5.7, 1685397124854.0)\n",
            "('21 km WNW of Port-Olry, Vanuatu', 5.2, 1685354700457.0)\n",
            "('48 km NNE of Pucallpa, Peru', 5.1, 1685336253108.0)\n",
            "('3 km N of Aratoca, Colombia', 5.3, 1685288756635.0)\n",
            "('42 km W of Kimbe, Papua New Guinea', 5.1, 1685278359263.0)\n",
            "('35 km SE of Jurm, Afghanistan', 5.3, 1685252996404.0)\n",
            "('Solomon Islands', 5.6, 1685244595344.0)\n",
            "('South Sandwich Islands region', 5.5, 1685200907810.0)\n",
            "('127 km W of Neiafu, Tonga', 6.0, 1685146260980.0)\n",
            "('West Chile Rise', 5.9, 1685139505307.0)\n",
            "('Banda Sea', 5.1, 1685136841517.0)\n",
            "('near the east coast of Honshu, Japan', 6.1, 1685095404417.0)\n",
            "('New Britain region, Papua New Guinea', 5.2, 1685066880096.0)\n",
            "('South Sandwich Islands region', 5.1, 1685032442457.0)\n",
            "('72 km N of Basco, Philippines', 5.2, 1685022508834.0)\n",
            "('129 km NE of Maumere, Indonesia', 5.1, 1685017267095.0)\n",
            "('southeast of the Loyalty Islands', 5.5, 1685011177614.0)\n",
            "('Panama-Colombia border region', 6.5, 1684983933026.0)\n",
            "('Banda Sea', 6.2, 1684943374919.0)\n",
            "('Pacific-Antarctic Ridge', 5.5, 1684924399587.0)\n",
            "('40 km SSW of Maitum, Philippines', 5.2, 1684889046683.0)\n",
            "('204 km NW of Tobelo, Indonesia', 5.1, 1684854295574.0)\n",
            "('288 km E of Vao, New Caledonia', 6.1, 1684824118975.0)\n",
            "('southeast of the Loyalty Islands', 5.1, 1684822934145.0)\n",
            "('236 km ESE of Tadine, New Caledonia', 5.1, 1684796053554.0)\n",
            "('157 km ENE of Gizo, Solomon Islands', 5.2, 1684762572759.0)\n",
            "('42 km SE of Shimoda, Japan', 5.1, 1684741360378.0)\n",
            "('southeast of the Loyalty Islands', 5.5, 1684738367409.0)\n",
            "('Banda Sea', 5.2, 1684730720490.0)\n",
            "('133 km WSW of Kurio, Japan', 5.5, 1684707604201.0)\n",
            "('west of Macquarie Island', 5.4, 1684703500867.0)\n",
            "('108km W of Petrolia, CA', 5.58, 1684694641400.0)\n",
            "('Prince Edward Islands region', 5.1, 1684689800311.0)\n",
            "('Solomon Islands', 6.1, 1684683913032.0)\n",
            "('Prince Edward Islands region', 6.8, 1684681005352.0)\n",
            "('106 km SE of Neiafu, Tonga', 5.2, 1684668363608.0)\n",
            "('109 km SE of Neiafu, Tonga', 5.8, 1684646591387.0)\n",
            "('South Sandwich Islands region', 5.1, 1684625606158.0)\n",
            "('southeast of the Loyalty Islands', 5.1, 1684620527835.0)\n",
            "('southeast of the Loyalty Islands', 5.2, 1684589367068.0)\n",
            "('southeast of the Loyalty Islands', 5.1, 1684589237169.0)\n",
            "('southeast of the Loyalty Islands', 5.3, 1684582567862.0)\n",
            "('southeast of the Loyalty Islands', 5.2, 1684557254758.0)\n",
            "('299 km E of Vao, New Caledonia', 5.1, 1684557086916.0)\n",
            "('southeast of the Loyalty Islands', 5.1, 1684554414304.0)\n",
            "('southeast of the Loyalty Islands', 5.3, 1684551386803.0)\n",
            "('298 km E of Vao, New Caledonia', 5.4, 1684549222592.0)\n",
            "('southeast of the Loyalty Islands', 5.4, 1684549069051.0)\n",
            "('southeast of the Loyalty Islands', 6.5, 1684548594412.0)\n",
            "('southeast of the Loyalty Islands', 5.1, 1684548396348.0)\n",
            "('southeast of the Loyalty Islands', 5.1, 1684548236475.0)\n",
            "('southeast of the Loyalty Islands', 7.1, 1684547461088.0)\n",
            "('southeast of the Loyalty Islands', 5.1, 1684533839771.0)\n",
            "('Gulf of Aden', 5.7, 1684509303147.0)\n",
            "('southeast of the Loyalty Islands', 5.2, 1684493194488.0)\n",
            "('southeast of the Loyalty Islands', 5.1, 1684493052679.0)\n",
            "('southeast of the Loyalty Islands', 5.3, 1684484842757.0)\n",
            "('southeast of the Loyalty Islands', 5.5, 1684480419533.0)\n",
            "('southeast of the Loyalty Islands', 5.2, 1684474608103.0)\n",
            "('southeast of the Loyalty Islands', 5.2, 1684473947106.0)\n",
            "('southeast of the Loyalty Islands', 5.2, 1684472764510.0)\n",
            "('southeast of the Loyalty Islands', 5.5, 1684472044210.0)\n",
            "('southeast of the Loyalty Islands', 5.1, 1684471814569.0)\n",
            "('southeast of the Loyalty Islands', 5.1, 1684470787202.0)\n",
            "('southeast of the Loyalty Islands', 5.3, 1684470158415.0)\n",
            "('southeast of the Loyalty Islands', 5.4, 1684469363319.0)\n",
            "('southeast of the Loyalty Islands', 5.3, 1684468950932.0)\n",
            "('57 km E of La Tirana, Chile', 5.1, 1684468721412.0)\n",
            "('southeast of the Loyalty Islands', 5.4, 1684466877069.0)\n",
            "('southeast of the Loyalty Islands', 5.3, 1684465983525.0)\n",
            "('southeast of the Loyalty Islands', 5.7, 1684465844635.0)\n",
            "('southeast of the Loyalty Islands', 5.9, 1684465584877.0)\n",
            "('southeast of the Loyalty Islands', 5.5, 1684465427964.0)\n",
            "('southeast of the Loyalty Islands', 7.7, 1684465023129.0)\n",
            "('7 km SSW of Moíres, Greece', 5.1, 1684436330963.0)\n",
            "('South Sandwich Islands region', 5.1, 1684410976738.0)\n",
            "('2 km SE of Canillá, Guatemala', 6.4, 1684364520237.0)\n",
            "('255 km WSW of Olonkinbyen, Svalbard and Jan Mayen', 5.3, 1684206537676.0)\n",
            "('95 km W of Abra Pampa, Argentina', 5.3, 1684136379508.0)\n",
            "('143 km S of Shimoda, Japan', 5.1, 1684081372692.0)\n",
            "('143 km SSE of Shimoda, Japan', 5.2, 1684073010352.0)\n",
            "('Izu Islands, Japan region', 5.6, 1684059095287.0)\n",
            "('222 km NNE of Fais, Micronesia', 5.1, 1684057782073.0)\n",
            "('Izu Islands, Japan region', 5.8, 1684052501106.0)\n",
            "('Izu Islands, Japan region', 5.5, 1684051917241.0)\n",
            "('Banda Sea', 5.2, 1684044832561.0)\n",
            "('70 km NW of Nikolski, Alaska', 5.4, 1684009188604.0)\n",
            "('53 km SW of Kurio, Japan', 5.2, 1683961827414.0)\n",
            "('south of Tonga', 5.2, 1683927999774.0)\n",
            "('4km NW of Canyondam, CA', 5.16, 1683886721310.0)\n",
            "('109 km SSW of Merizo Village, Guam', 5.5, 1683878551577.0)\n",
            "('Lake Almanor Earthquake', 5.48, 1683847181990.0)\n",
            "('southwestern Ryukyu Islands, Japan', 5.8, 1683811993759.0)\n",
            "('23 km NNE of Honchō, Japan', 5.2, 1683798764367.0)\n",
            "('3 km NW of Kamogawa, Japan', 5.2, 1683746202479.0)\n",
            "('71 km WNW of Hihifo, Tonga', 5.1, 1683736359657.0)\n",
            "('95 km WNW of Hihifo, Tonga', 7.6, 1683734520451.0)\n",
            "('109 km SW of Port Blair, India', 5.1, 1683639738282.0)\n",
            "('Tonga', 5.1, 1683555271744.0)\n",
            "('southern East Pacific Rise', 5.9, 1683525735883.0)\n",
            "('8 km W of Azogues, Ecuador', 5.2, 1683507115846.0)\n",
            "('45 km NNW of Dicabisagan, Philippines', 5.2, 1683459381892.0)\n",
            "('5 km NNW of Taltal, Chile', 5.2, 1683440941001.0)\n",
            "('Kermadec Islands, New Zealand', 5.1, 1683392376318.0)\n",
            "('106 km SE of Vilyuchinsk, Russia', 5.1, 1683388712538.0)\n",
            "('Volcano Islands, Japan region', 5.1, 1683323188191.0)\n",
            "('68 km ENE of Mutsu, Japan', 5.9, 1683308836200.0)\n",
            "('near the west coast of Honshu, Japan', 5.6, 1683291483883.0)\n",
            "('82 km NNE of Whakatane, New Zealand', 5.6, 1683286629765.0)\n",
            "('49 km NE of Anamizu, Japan', 6.2, 1683265324365.0)\n",
            "('Solomon Islands', 5.1, 1683238834665.0)\n",
            "('42 km N of Dicabisagan, Philippines', 5.4, 1683161345487.0)\n",
            "('southern East Pacific Rise', 5.4, 1683156346766.0)\n",
            "('Hindu Kush region, Afghanistan', 5.3, 1683107479974.0)\n",
            "('227 km SSE of Sarangani, Philippines', 5.2, 1683076985737.0)\n",
            "('14 km NW of Ambunti, Papua New Guinea', 5.5, 1683058198992.0)\n",
            "('Yunnan, China', 5.3, 1683041243390.0)\n",
            "('Vanuatu region', 5.1, 1683040031378.0)\n"
          ]
        }
      ]
    },
    {
      "cell_type": "code",
      "source": [
        "from google.colab import files\n",
        "files.download('earthquakes.db')\n"
      ],
      "metadata": {
        "colab": {
          "base_uri": "https://localhost:8080/",
          "height": 17
        },
        "id": "ToV_R7fxcBii",
        "outputId": "be0045b8-5d84-4e89-a70f-4090e1645897"
      },
      "execution_count": null,
      "outputs": [
        {
          "output_type": "display_data",
          "data": {
            "text/plain": [
              "<IPython.core.display.Javascript object>"
            ],
            "application/javascript": [
              "\n",
              "    async function download(id, filename, size) {\n",
              "      if (!google.colab.kernel.accessAllowed) {\n",
              "        return;\n",
              "      }\n",
              "      const div = document.createElement('div');\n",
              "      const label = document.createElement('label');\n",
              "      label.textContent = `Downloading \"${filename}\": `;\n",
              "      div.appendChild(label);\n",
              "      const progress = document.createElement('progress');\n",
              "      progress.max = size;\n",
              "      div.appendChild(progress);\n",
              "      document.body.appendChild(div);\n",
              "\n",
              "      const buffers = [];\n",
              "      let downloaded = 0;\n",
              "\n",
              "      const channel = await google.colab.kernel.comms.open(id);\n",
              "      // Send a message to notify the kernel that we're ready.\n",
              "      channel.send({})\n",
              "\n",
              "      for await (const message of channel.messages) {\n",
              "        // Send a message to notify the kernel that we're ready.\n",
              "        channel.send({})\n",
              "        if (message.buffers) {\n",
              "          for (const buffer of message.buffers) {\n",
              "            buffers.push(buffer);\n",
              "            downloaded += buffer.byteLength;\n",
              "            progress.value = downloaded;\n",
              "          }\n",
              "        }\n",
              "      }\n",
              "      const blob = new Blob(buffers, {type: 'application/binary'});\n",
              "      const a = document.createElement('a');\n",
              "      a.href = window.URL.createObjectURL(blob);\n",
              "      a.download = filename;\n",
              "      div.appendChild(a);\n",
              "      a.click();\n",
              "      div.remove();\n",
              "    }\n",
              "  "
            ]
          },
          "metadata": {}
        },
        {
          "output_type": "display_data",
          "data": {
            "text/plain": [
              "<IPython.core.display.Javascript object>"
            ],
            "application/javascript": [
              "download(\"download_e0ae6b6c-21d8-47fa-8228-6cb19181a27c\", \"earthquakes.db\", 569344)"
            ]
          },
          "metadata": {}
        }
      ]
    },
    {
      "cell_type": "code",
      "source": [
        "# from google.colab import drive\n",
        "# drive.mount('/content/drive/MyDrive/Projects/')\n",
        "# !cp earthquakes.db /content/drive/MyDrive/\n"
      ],
      "metadata": {
        "colab": {
          "base_uri": "https://localhost:8080/",
          "height": 347
        },
        "id": "44ewtVCzcJiM",
        "outputId": "34776b14-29da-4030-8b7e-887fb820e27e"
      },
      "execution_count": null,
      "outputs": [
        {
          "output_type": "error",
          "ename": "ValueError",
          "evalue": "ignored",
          "traceback": [
            "\u001b[0;31m---------------------------------------------------------------------------\u001b[0m",
            "\u001b[0;31mValueError\u001b[0m                                Traceback (most recent call last)",
            "\u001b[0;32m<ipython-input-10-8571a3a834eb>\u001b[0m in \u001b[0;36m<cell line: 2>\u001b[0;34m()\u001b[0m\n\u001b[1;32m      1\u001b[0m \u001b[0;32mfrom\u001b[0m \u001b[0mgoogle\u001b[0m\u001b[0;34m.\u001b[0m\u001b[0mcolab\u001b[0m \u001b[0;32mimport\u001b[0m \u001b[0mdrive\u001b[0m\u001b[0;34m\u001b[0m\u001b[0;34m\u001b[0m\u001b[0m\n\u001b[0;32m----> 2\u001b[0;31m \u001b[0mdrive\u001b[0m\u001b[0;34m.\u001b[0m\u001b[0mmount\u001b[0m\u001b[0;34m(\u001b[0m\u001b[0;34m'/content/drive/MyDrive/Projects/'\u001b[0m\u001b[0;34m)\u001b[0m\u001b[0;34m\u001b[0m\u001b[0;34m\u001b[0m\u001b[0m\n\u001b[0m\u001b[1;32m      3\u001b[0m \u001b[0mget_ipython\u001b[0m\u001b[0;34m(\u001b[0m\u001b[0;34m)\u001b[0m\u001b[0;34m.\u001b[0m\u001b[0msystem\u001b[0m\u001b[0;34m(\u001b[0m\u001b[0;34m'cp earthquakes.db /content/drive/MyDrive/'\u001b[0m\u001b[0;34m)\u001b[0m\u001b[0;34m\u001b[0m\u001b[0;34m\u001b[0m\u001b[0m\n",
            "\u001b[0;32m/usr/local/lib/python3.10/dist-packages/google/colab/drive.py\u001b[0m in \u001b[0;36mmount\u001b[0;34m(mountpoint, force_remount, timeout_ms, readonly)\u001b[0m\n\u001b[1;32m    101\u001b[0m \u001b[0;32mdef\u001b[0m \u001b[0mmount\u001b[0m\u001b[0;34m(\u001b[0m\u001b[0mmountpoint\u001b[0m\u001b[0;34m,\u001b[0m \u001b[0mforce_remount\u001b[0m\u001b[0;34m=\u001b[0m\u001b[0;32mFalse\u001b[0m\u001b[0;34m,\u001b[0m \u001b[0mtimeout_ms\u001b[0m\u001b[0;34m=\u001b[0m\u001b[0;36m120000\u001b[0m\u001b[0;34m,\u001b[0m \u001b[0mreadonly\u001b[0m\u001b[0;34m=\u001b[0m\u001b[0;32mFalse\u001b[0m\u001b[0;34m)\u001b[0m\u001b[0;34m:\u001b[0m\u001b[0;34m\u001b[0m\u001b[0;34m\u001b[0m\u001b[0m\n\u001b[1;32m    102\u001b[0m   \u001b[0;34m\"\"\"Mount your Google Drive at the specified mountpoint path.\"\"\"\u001b[0m\u001b[0;34m\u001b[0m\u001b[0;34m\u001b[0m\u001b[0m\n\u001b[0;32m--> 103\u001b[0;31m   return _mount(\n\u001b[0m\u001b[1;32m    104\u001b[0m       \u001b[0mmountpoint\u001b[0m\u001b[0;34m,\u001b[0m\u001b[0;34m\u001b[0m\u001b[0;34m\u001b[0m\u001b[0m\n\u001b[1;32m    105\u001b[0m       \u001b[0mforce_remount\u001b[0m\u001b[0;34m=\u001b[0m\u001b[0mforce_remount\u001b[0m\u001b[0;34m,\u001b[0m\u001b[0;34m\u001b[0m\u001b[0;34m\u001b[0m\u001b[0m\n",
            "\u001b[0;32m/usr/local/lib/python3.10/dist-packages/google/colab/drive.py\u001b[0m in \u001b[0;36m_mount\u001b[0;34m(mountpoint, force_remount, timeout_ms, ephemeral, readonly)\u001b[0m\n\u001b[1;32m    195\u001b[0m     \u001b[0mnormed\u001b[0m \u001b[0;34m=\u001b[0m \u001b[0m_os\u001b[0m\u001b[0;34m.\u001b[0m\u001b[0mpath\u001b[0m\u001b[0;34m.\u001b[0m\u001b[0mnormpath\u001b[0m\u001b[0;34m(\u001b[0m\u001b[0mmountpoint\u001b[0m\u001b[0;34m)\u001b[0m\u001b[0;34m\u001b[0m\u001b[0;34m\u001b[0m\u001b[0m\n\u001b[1;32m    196\u001b[0m     \u001b[0;32mif\u001b[0m \u001b[0;34m'/'\u001b[0m \u001b[0;32min\u001b[0m \u001b[0mnormed\u001b[0m \u001b[0;32mand\u001b[0m \u001b[0;32mnot\u001b[0m \u001b[0m_os\u001b[0m\u001b[0;34m.\u001b[0m\u001b[0mpath\u001b[0m\u001b[0;34m.\u001b[0m\u001b[0mexists\u001b[0m\u001b[0;34m(\u001b[0m\u001b[0m_os\u001b[0m\u001b[0;34m.\u001b[0m\u001b[0mpath\u001b[0m\u001b[0;34m.\u001b[0m\u001b[0mdirname\u001b[0m\u001b[0;34m(\u001b[0m\u001b[0mnormed\u001b[0m\u001b[0;34m)\u001b[0m\u001b[0;34m)\u001b[0m\u001b[0;34m:\u001b[0m\u001b[0;34m\u001b[0m\u001b[0;34m\u001b[0m\u001b[0m\n\u001b[0;32m--> 197\u001b[0;31m       \u001b[0;32mraise\u001b[0m \u001b[0mValueError\u001b[0m\u001b[0;34m(\u001b[0m\u001b[0;34m'Mountpoint must be in a directory that exists'\u001b[0m\u001b[0;34m)\u001b[0m\u001b[0;34m\u001b[0m\u001b[0;34m\u001b[0m\u001b[0m\n\u001b[0m\u001b[1;32m    198\u001b[0m   \u001b[0;32mexcept\u001b[0m\u001b[0;34m:\u001b[0m\u001b[0;34m\u001b[0m\u001b[0;34m\u001b[0m\u001b[0m\n\u001b[1;32m    199\u001b[0m     \u001b[0md\u001b[0m\u001b[0;34m.\u001b[0m\u001b[0mkill\u001b[0m\u001b[0;34m(\u001b[0m\u001b[0m_signal\u001b[0m\u001b[0;34m.\u001b[0m\u001b[0mSIGKILL\u001b[0m\u001b[0;34m)\u001b[0m\u001b[0;34m\u001b[0m\u001b[0;34m\u001b[0m\u001b[0m\n",
            "\u001b[0;31mValueError\u001b[0m: Mountpoint must be in a directory that exists"
          ]
        }
      ]
    }
  ]
}