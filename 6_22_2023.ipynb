{
  "nbformat": 4,
  "nbformat_minor": 0,
  "metadata": {
    "colab": {
      "provenance": [],
      "authorship_tag": "ABX9TyOkiVrW4zqbilhboHb1i1O/",
      "include_colab_link": true
    },
    "kernelspec": {
      "name": "python3",
      "display_name": "Python 3"
    },
    "language_info": {
      "name": "python"
    }
  },
  "cells": [
    {
      "cell_type": "markdown",
      "metadata": {
        "id": "view-in-github",
        "colab_type": "text"
      },
      "source": [
        "<a href=\"https://colab.research.google.com/github/GitMishka/2021_TSLAstock_Analysis-/blob/master/6_22_2023.ipynb\" target=\"_parent\"><img src=\"https://colab.research.google.com/assets/colab-badge.svg\" alt=\"Open In Colab\"/></a>"
      ]
    },
    {
      "cell_type": "code",
      "execution_count": null,
      "metadata": {
        "colab": {
          "base_uri": "https://localhost:8080/"
        },
        "id": "gc34HxDSNLWF",
        "outputId": "06934cd9-ff6c-47e0-bdb1-c5d348a12d10"
      },
      "outputs": [
        {
          "output_type": "stream",
          "name": "stdout",
          "text": [
            "Enter your weight in kg: 12\n",
            "Enter your height in meters: 123\n",
            "Underweight\n"
          ]
        }
      ],
      "source": [
        "def calculate_bmi():\n",
        "    weight = float(input(\"Enter your weight in kg: \"))\n",
        "    height = float(input(\"Enter your height in meters: \"))\n",
        "\n",
        "    # BMI calculation\n",
        "    bmi = weight / (height * height)\n",
        "\n",
        "    if bmi > 25:\n",
        "        print(\"Overweight\")\n",
        "    elif 18.5 <= bmi <= 25:\n",
        "        print(\"Normal weight\")\n",
        "    else:\n",
        "        print(\"Underweight\")\n",
        "\n",
        "calculate_bmi()\n"
      ]
    },
    {
      "cell_type": "code",
      "source": [
        "weight = float(input())\n",
        "height = float(input())\n",
        "\n",
        "bmi = weight / (height * height)\n",
        "\n",
        "if bmi > 25:\n",
        "  print(\"Overweight\")\n",
        "elif 18.5 <= bmi <= 25:\n",
        "  print(\"Normal weight\")\n",
        "else:\n",
        "  print(\"Underweight\")"
      ],
      "metadata": {
        "colab": {
          "base_uri": "https://localhost:8080/"
        },
        "id": "B60p5QlPN7Xk",
        "outputId": "44363487-e8ca-485e-caf0-6fed06d36841"
      },
      "execution_count": null,
      "outputs": [
        {
          "output_type": "stream",
          "name": "stdout",
          "text": [
            "Enter your weight in kg: 69\n",
            "Enter your height in meters: 1.73\n",
            "Normal weight\n"
          ]
        }
      ]
    },
    {
      "cell_type": "code",
      "source": [
        "def b_index():\n",
        "    weight = float(input())\n",
        "    height = float(input())\n",
        "    BMI = weight/(height**2)\n",
        "    if BMI>25:\n",
        "        print('Overweight')\n",
        "    elif 18.5<BMI<25:\n",
        "        print('Normal weight')\n",
        "    else:\n",
        "        print('Underweight')\n",
        "\n",
        "\n",
        "b_index()"
      ],
      "metadata": {
        "colab": {
          "base_uri": "https://localhost:8080/"
        },
        "id": "W0TTZ_-IRVjV",
        "outputId": "27ce954d-f13a-4412-83c2-6e7ae3ac0f92"
      },
      "execution_count": null,
      "outputs": [
        {
          "output_type": "stream",
          "name": "stdout",
          "text": [
            "69\n",
            "1.73\n",
            "Normal weight\n"
          ]
        }
      ]
    },
    {
      "cell_type": "code",
      "source": [
        "input2 = ('AAAABBBBBBBB')\n",
        "print(input2.count('A'))"
      ],
      "metadata": {
        "colab": {
          "base_uri": "https://localhost:8080/"
        },
        "id": "TdB8M1exUCVs",
        "outputId": "1e376550-9304-439f-baed-abe4fd5d9a07"
      },
      "execution_count": null,
      "outputs": [
        {
          "output_type": "stream",
          "name": "stdout",
          "text": [
            "4\n"
          ]
        }
      ]
    },
    {
      "cell_type": "code",
      "source": [
        "input1 = input()[:15]\n",
        "input2 = input()[:int(input1)]\n",
        "\n",
        "if input2.count('A') > input2.count('B'):\n",
        "    print('A')\n",
        "elif input2.count('A') < input2.count('B'):\n",
        "    print('B')\n",
        "else:\n",
        "    print('Tie')\n"
      ],
      "metadata": {
        "colab": {
          "base_uri": "https://localhost:8080/"
        },
        "id": "xkE2MnfZSUOJ",
        "outputId": "1d665560-f844-4b4d-9e25-88770a68e6a5"
      },
      "execution_count": null,
      "outputs": [
        {
          "output_type": "stream",
          "name": "stdout",
          "text": [
            "16\n",
            "AAAAAAAAAAAAABBBBBBBBBBBBB\n",
            "A\n"
          ]
        }
      ]
    },
    {
      "cell_type": "code",
      "source": [
        "def vote_count():\n",
        "    num_votes = input()\n",
        "    vote_str = input()\n",
        "    counterA = 0\n",
        "    counterB = 0\n",
        "    for i in range(int(num_votes)):\n",
        "        if vote_str[i] == 'A':\n",
        "            counterA += 1\n",
        "        else:\n",
        "            counterB += 1\n",
        "    if counterA > counterB:\n",
        "        print('A')\n",
        "    elif counterA == counterB:\n",
        "        print('Tie')\n",
        "    else:\n",
        "        print('B')\n",
        "\n",
        "\n",
        "vote_count()"
      ],
      "metadata": {
        "id": "DlRFYC6VT8Fb"
      },
      "execution_count": null,
      "outputs": []
    },
    {
      "cell_type": "code",
      "source": [
        "\n",
        "N = int(input())\n",
        "yesterday = input()\n",
        "today = input()\n",
        "occupied_yesterday = 0\n",
        "occupied_today = 0\n",
        "\n",
        "for y, t in zip(yesterday, today):\n",
        "    if y == 'C':\n",
        "        occupied_yesterday += 1\n",
        "    if t == 'C':\n",
        "        occupied_today += 1\n",
        "\n",
        "print(occupied_yesterday, occupied_today)\n"
      ],
      "metadata": {
        "colab": {
          "base_uri": "https://localhost:8080/"
        },
        "id": "nvmU4SZGbpIm",
        "outputId": "9bba595b-d494-4309-df39-de0fb253973e"
      },
      "execution_count": null,
      "outputs": [
        {
          "output_type": "stream",
          "name": "stdout",
          "text": [
            "3\n",
            "c.c\n",
            "cc.\n",
            "0 0\n"
          ]
        }
      ]
    },
    {
      "cell_type": "code",
      "source": [
        "spaces = input()\n",
        "yesterday = input()\n",
        "today = input()\n",
        "\n",
        "same = 0\n",
        "for i in range(0, int(spaces)):\n",
        "    if yesterday[i] == today[i] and today[i]=='C':\n",
        "        same = same + 1\n",
        "print(same)"
      ],
      "metadata": {
        "id": "kAWGSkgbdT_U"
      },
      "execution_count": null,
      "outputs": []
    }
  ]
}