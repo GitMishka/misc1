{
  "nbformat": 4,
  "nbformat_minor": 0,
  "metadata": {
    "colab": {
      "provenance": [],
      "authorship_tag": "ABX9TyP6KsNsd2cTl31nvf52OknL",
      "include_colab_link": true
    },
    "kernelspec": {
      "name": "python3",
      "display_name": "Python 3"
    },
    "language_info": {
      "name": "python"
    }
  },
  "cells": [
    {
      "cell_type": "markdown",
      "metadata": {
        "id": "view-in-github",
        "colab_type": "text"
      },
      "source": [
        "<a href=\"https://colab.research.google.com/github/GitMishka/2021_TSLAstock_Analysis-/blob/master/coci13c3p1.ipynb\" target=\"_parent\"><img src=\"https://colab.research.google.com/assets/colab-badge.svg\" alt=\"Open In Colab\"/></a>"
      ]
    },
    {
      "cell_type": "code",
      "execution_count": null,
      "metadata": {
        "colab": {
          "base_uri": "https://localhost:8080/"
        },
        "id": "JMTWDAom7h_p",
        "outputId": "4def032e-207b-4abe-a4c9-00156f3e63d1"
      },
      "outputs": [
        {
          "output_type": "stream",
          "name": "stdout",
          "text": [
            "5\n",
            " this is b: 0\n",
            " this is y: 1\n",
            " this is b: 1\n",
            " this is y: 1\n",
            " this is b: 1\n",
            " this is y: 2\n",
            " this is b: 2\n",
            " this is y: 3\n",
            " this is b: 3\n",
            " this is y: 5\n",
            "3 5\n"
          ]
        }
      ],
      "source": [
        "#COCI '13 Contest 3 #1 Riječi\n",
        "\n",
        "a = 1\n",
        "b = 0\n",
        "for i in range(int(input())):\n",
        "    x = b\n",
        "    print(' this is b:', b)\n",
        "    y = b + a\n",
        "    print(' this is y:', y)\n",
        "    a, b = x, y\n",
        "print(a, b)\n",
        "\n",
        "\n"
      ]
    }
  ]
}