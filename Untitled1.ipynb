{
  "nbformat": 4,
  "nbformat_minor": 0,
  "metadata": {
    "colab": {
      "provenance": [],
      "authorship_tag": "ABX9TyOtveXS9NrY9laseOLRtP1x",
      "include_colab_link": true
    },
    "kernelspec": {
      "name": "python3",
      "display_name": "Python 3"
    },
    "language_info": {
      "name": "python"
    }
  },
  "cells": [
    {
      "cell_type": "markdown",
      "metadata": {
        "id": "view-in-github",
        "colab_type": "text"
      },
      "source": [
        "<a href=\"https://colab.research.google.com/github/GitMishka/2021_TSLAstock_Analysis-/blob/master/Untitled1.ipynb\" target=\"_parent\"><img src=\"https://colab.research.google.com/assets/colab-badge.svg\" alt=\"Open In Colab\"/></a>"
      ]
    },
    {
      "cell_type": "code",
      "execution_count": 1,
      "metadata": {
        "id": "W4kTa61L0cek",
        "colab": {
          "base_uri": "https://localhost:8080/"
        },
        "outputId": "1c45dc82-3ec6-48e2-c821-26619bbe9011"
      },
      "outputs": [
        {
          "output_type": "stream",
          "name": "stdout",
          "text": [
            "[1, 4, 9, 16, 25, 36, 49, 64, 81, 100]\n"
          ]
        }
      ],
      "source": [
        "squares = [x**2 for x in range(1, 11)]\n",
        "print(squares)\n"
      ]
    },
    {
      "cell_type": "code",
      "source": [
        "def remove_duplicates(lst):\n",
        "    return [list(t) for t in set(tuple(i) for i in lst)]\n",
        "\n",
        "lst = [[10, 20], [40], [30, 56, 25], [10, 20], [33], [40]]\n",
        "print(\"Original List\", lst)\n",
        "print(\"List after removing duplicates\", remove_duplicates(lst))\n"
      ],
      "metadata": {
        "colab": {
          "base_uri": "https://localhost:8080/"
        },
        "id": "rt1mNTbpqf9a",
        "outputId": "7f17f2aa-e0ee-4d17-9440-17aea684df30"
      },
      "execution_count": 2,
      "outputs": [
        {
          "output_type": "stream",
          "name": "stdout",
          "text": [
            "Original List [[10, 20], [40], [30, 56, 25], [10, 20], [33], [40]]\n",
            "List after removing duplicates [[40], [33], [30, 56, 25], [10, 20]]\n"
          ]
        }
      ]
    }
  ]
}