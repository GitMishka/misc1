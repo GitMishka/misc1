{
  "nbformat": 4,
  "nbformat_minor": 0,
  "metadata": {
    "colab": {
      "provenance": [],
      "mount_file_id": "11T7CyUyHD6iII6waDtyXqz9vhQubHYNk",
      "authorship_tag": "ABX9TyMZo2ncpMog+JY+2boIa1p0",
      "include_colab_link": true
    },
    "kernelspec": {
      "name": "python3",
      "display_name": "Python 3"
    },
    "language_info": {
      "name": "python"
    }
  },
  "cells": [
    {
      "cell_type": "markdown",
      "metadata": {
        "id": "view-in-github",
        "colab_type": "text"
      },
      "source": [
        "<a href=\"https://colab.research.google.com/github/GitMishka/misc1/blob/master/GoogleAd.ipynb\" target=\"_parent\"><img src=\"https://colab.research.google.com/assets/colab-badge.svg\" alt=\"Open In Colab\"/></a>"
      ]
    },
    {
      "cell_type": "code",
      "execution_count": null,
      "metadata": {
        "id": "xnWJye6lLKit",
        "colab": {
          "base_uri": "https://localhost:8080/"
        },
        "outputId": "746f7809-6550-434e-93a3-509dec642738"
      },
      "outputs": [
        {
          "output_type": "stream",
          "name": "stdout",
          "text": [
            "Requirement already satisfied: pandas in /usr/local/lib/python3.10/dist-packages (1.5.3)\n",
            "Requirement already satisfied: python-dateutil>=2.8.1 in /usr/local/lib/python3.10/dist-packages (from pandas) (2.8.2)\n",
            "Requirement already satisfied: pytz>=2020.1 in /usr/local/lib/python3.10/dist-packages (from pandas) (2022.7.1)\n",
            "Requirement already satisfied: numpy>=1.21.0 in /usr/local/lib/python3.10/dist-packages (from pandas) (1.22.4)\n",
            "Requirement already satisfied: six>=1.5 in /usr/local/lib/python3.10/dist-packages (from python-dateutil>=2.8.1->pandas) (1.16.0)\n"
          ]
        }
      ],
      "source": [
        "!pip install pandas"
      ]
    },
    {
      "cell_type": "code",
      "source": [
        "\n",
        "\n",
        "import pandas as pd\n",
        "pd.options.display.max_colwidth = 500\n",
        "data = pd.read_csv('/content/drive/MyDrive/Work/Google Ad/6.29.2023.csv')\n",
        "#data = data.iloc[2:]\n",
        "\n",
        "data['Duration (seconds)'] = pd.to_numeric(data['Duration (seconds)'], errors='coerce')"
      ],
      "metadata": {
        "id": "EDB-9K8qLPux"
      },
      "execution_count": null,
      "outputs": []
    },
    {
      "cell_type": "code",
      "source": [
        "appalachian = [\n",
        "    \"APP FC - Athens Assisted Living\", \"APP FC - Collegedale Assisted Living\",\n",
        "    \"APP FC - Chattanooga Lantern\", \"APP FC - Lenoir Assisted Living\",\n",
        "    \"APP - Knoxville Assisted Living & Memory Care\", \"APP FC - Calhoun\",\n",
        "    \"APP FC - Lenoir Lantern\", \"APP FC - Hixson Assisted Living & Memory Care\",\n",
        "    \"APP FC - Hardin Valley\", \"APP FC - Collegedale Lantern\",\n",
        "    \"APP FC - Happy Valley\", \"APP FC - East Hamilton\",\n",
        "    \"APP FC - Greeneville TN\", \"APP FC - Chattanooga Assisted Living\"\n",
        "]\n",
        "\n",
        "bluegrass = [\n",
        "    \"BGS FC - Louisville Senior Living\", \"BGS FC - Russell Senior Living\",\n",
        "    \"BGS FC - Lexington Personal Care\", \"BGS FC - Russell Lantern\",\n",
        "    \"BGS FC - Franklin IN\", \"BGS FC - Frankfort KY Lantern\",\n",
        "    \"BGS FC - Danville Senior Living & Memory Care\",\n",
        "    \"BGS FC - Lexington East Senior Living & Memory Care\",\n",
        "    \"BGS FC - Lexington Lantern\", \"BGS FC - Frankfort KY Senior Living\",\n",
        "    \"BGS FC - Louisville Lantern\", \"BGS FC - Richmond KY\"\n",
        "]\n",
        "\n",
        "cumberland = [\n",
        "    \"CMB FC - Tuscaloosa Campus\", \"CMB FC - Columbia\",\n",
        "    \"CMB FC - Franklin TN Assisted Living\", \"CMB FC - Clinton Lantern\",\n",
        "    \"CMB FC - Powell Lantern\", \"CMB FC - Brentwood\",\n",
        "    \"CMB FC - Spring Hill Assisted Living\", \"CMB FC - Franklin TN Lantern\",\n",
        "    \"C - Now Hiring\", \"CMB FC - Spring Hill Lantern\",\n",
        "    \"CMB FC - Powell Assisted Living\"\n",
        "]\n"
      ],
      "metadata": {
        "id": "cIC_bmZBLuYQ"
      },
      "execution_count": null,
      "outputs": []
    },
    {
      "cell_type": "code",
      "source": [],
      "metadata": {
        "id": "4AF7WakpZgdz"
      },
      "execution_count": null,
      "outputs": []
    },
    {
      "cell_type": "code",
      "source": [
        "\n",
        "appalachian_data = data[data['Campaign'].isin(appalachian)]\n",
        "bluegrass_data = data[data['Campaign'].isin(bluegrass)]\n",
        "cumberland_data = data[data['Campaign'].isin(cumberland)]\n"
      ],
      "metadata": {
        "id": "fcZlxQnPLvQ4"
      },
      "execution_count": null,
      "outputs": []
    },
    {
      "cell_type": "code",
      "source": [
        "def calculate_summary(df):\n",
        "    summary = {}\n",
        "    summary['average_call_duration'] = int(df['Duration (seconds)'].mean())\n",
        "    summary['total_sources'] = df['Call source'].count()\n",
        "    summary['website'] = (df['Call source'] == 'Website').sum()\n",
        "    summary['ad'] = (df['Call source'] == 'Ad').sum()\n",
        "    return summary\n",
        "\n",
        "appalachian_summary = calculate_summary(appalachian_data)\n",
        "bluegrass_summary = calculate_summary(bluegrass_data)\n",
        "cumberland_summary = calculate_summary(cumberland_data)\n",
        "\n",
        "# Create a summary DataFrame for each region\n",
        "summary_columns = ['average_call_duration', 'total_sources', 'website', 'ad']\n",
        "appalachian_summary_df = pd.DataFrame([appalachian_summary], columns=summary_columns)\n",
        "bluegrass_summary_df = pd.DataFrame([bluegrass_summary], columns=summary_columns)\n",
        "cumberland_summary_df = pd.DataFrame([cumberland_summary], columns=summary_columns)\n",
        "\n",
        "# Insert the summary DataFrames into the corresponding region data at row 2\n",
        "\n",
        "def insert_summary(df, summary_df):\n",
        "    top = df.iloc[0:0, :12]  # Keep the first row of the first 4 columns\n",
        "    bottom = df.iloc[0:]  # Keep the rest of the data\n",
        "    return pd.concat([top, summary_df, bottom], axis=0).reset_index(drop=True)\n",
        "\n",
        "# def insert_summary(df, summary_df):\n",
        "#     top = df.iloc[0:0, :12]  # Keep the first row of the first 4 columns\n",
        "#     bottom = df.iloc[0:]  # Keep the rest of the data\n",
        "#     summary_row = summary_df.style.apply(lambda x: ['background-color: lightblue' if i == 0 else '' for i in range(len(x))], axis=1).set_table_styles([{'selector': 'th', 'props': [('background-color', 'lightblue')]}]).hide_index().set_properties(**{'text-align': 'center'})\n",
        "#     summary_df = summary_df.applymap(str).set_index(pd.Series(['']))\n",
        "#     summary_df.columns = ['average_call_duration', 'total_sources', 'website', 'ad']\n",
        "#     summary_df.columns = pd.MultiIndex.from_tuples([(col_name) for col_name in summary_df.columns])\n",
        "#     return pd.concat([top, summary_df, bottom], axis=0).reset_index(drop=True).style.set_table_styles([{'selector': 'th', 'props': [('background-color', 'lightblue')]}]).set_properties(**{'text-align': 'center'}).background_gradient(subset='Duration (seconds)', cmap='RdYlGn')\n",
        "\n",
        "\n",
        "appalachian_data_with_summary = insert_summary(appalachian_data, appalachian_summary_df)\n",
        "bluegrass_data_with_summary = insert_summary(bluegrass_data, bluegrass_summary_df)\n",
        "cumberland_data_with_summary = insert_summary(cumberland_data, cumberland_summary_df)\n",
        "\n",
        "import datetime\n",
        "\n",
        "# Get the current date\n",
        "current_date = datetime.date.today().strftime('%Y-%m-%d')\n",
        "\n",
        "# Save the combined DataFrames as Excel files with the current date in the file name\n",
        "appalachian_data_with_summary.to_excel('Appalachian_{}.xlsx'.format(current_date), index=False)\n",
        "bluegrass_data_with_summary.to_excel('Bluegrass_{}.xlsx'.format(current_date), index=False)\n",
        "cumberland_data_with_summary.to_excel('Cumberland_{}.xlsx'.format(current_date), index=False)\n",
        "from google.colab import files\n",
        "\n",
        "# Download the files\n",
        "files.download('Appalachian_{}.xlsx'.format(current_date))\n",
        "files.download('Bluegrass_{}.xlsx'.format(current_date))\n",
        "files.download('Cumberland_{}.xlsx'.format(current_date))\n"
      ],
      "metadata": {
        "colab": {
          "base_uri": "https://localhost:8080/",
          "height": 17
        },
        "id": "yin4G-9mO5SN",
        "outputId": "352d9506-f30e-427b-dd2a-4eaa5040ac3b"
      },
      "execution_count": null,
      "outputs": [
        {
          "output_type": "display_data",
          "data": {
            "text/plain": [
              "<IPython.core.display.Javascript object>"
            ],
            "application/javascript": [
              "\n",
              "    async function download(id, filename, size) {\n",
              "      if (!google.colab.kernel.accessAllowed) {\n",
              "        return;\n",
              "      }\n",
              "      const div = document.createElement('div');\n",
              "      const label = document.createElement('label');\n",
              "      label.textContent = `Downloading \"${filename}\": `;\n",
              "      div.appendChild(label);\n",
              "      const progress = document.createElement('progress');\n",
              "      progress.max = size;\n",
              "      div.appendChild(progress);\n",
              "      document.body.appendChild(div);\n",
              "\n",
              "      const buffers = [];\n",
              "      let downloaded = 0;\n",
              "\n",
              "      const channel = await google.colab.kernel.comms.open(id);\n",
              "      // Send a message to notify the kernel that we're ready.\n",
              "      channel.send({})\n",
              "\n",
              "      for await (const message of channel.messages) {\n",
              "        // Send a message to notify the kernel that we're ready.\n",
              "        channel.send({})\n",
              "        if (message.buffers) {\n",
              "          for (const buffer of message.buffers) {\n",
              "            buffers.push(buffer);\n",
              "            downloaded += buffer.byteLength;\n",
              "            progress.value = downloaded;\n",
              "          }\n",
              "        }\n",
              "      }\n",
              "      const blob = new Blob(buffers, {type: 'application/binary'});\n",
              "      const a = document.createElement('a');\n",
              "      a.href = window.URL.createObjectURL(blob);\n",
              "      a.download = filename;\n",
              "      div.appendChild(a);\n",
              "      a.click();\n",
              "      div.remove();\n",
              "    }\n",
              "  "
            ]
          },
          "metadata": {}
        },
        {
          "output_type": "display_data",
          "data": {
            "text/plain": [
              "<IPython.core.display.Javascript object>"
            ],
            "application/javascript": [
              "download(\"download_2f9bdcfb-dfab-4f4b-9e4f-3041adc34f95\", \"Appalachian_2023-06-30.xlsx\", 11484)"
            ]
          },
          "metadata": {}
        },
        {
          "output_type": "display_data",
          "data": {
            "text/plain": [
              "<IPython.core.display.Javascript object>"
            ],
            "application/javascript": [
              "\n",
              "    async function download(id, filename, size) {\n",
              "      if (!google.colab.kernel.accessAllowed) {\n",
              "        return;\n",
              "      }\n",
              "      const div = document.createElement('div');\n",
              "      const label = document.createElement('label');\n",
              "      label.textContent = `Downloading \"${filename}\": `;\n",
              "      div.appendChild(label);\n",
              "      const progress = document.createElement('progress');\n",
              "      progress.max = size;\n",
              "      div.appendChild(progress);\n",
              "      document.body.appendChild(div);\n",
              "\n",
              "      const buffers = [];\n",
              "      let downloaded = 0;\n",
              "\n",
              "      const channel = await google.colab.kernel.comms.open(id);\n",
              "      // Send a message to notify the kernel that we're ready.\n",
              "      channel.send({})\n",
              "\n",
              "      for await (const message of channel.messages) {\n",
              "        // Send a message to notify the kernel that we're ready.\n",
              "        channel.send({})\n",
              "        if (message.buffers) {\n",
              "          for (const buffer of message.buffers) {\n",
              "            buffers.push(buffer);\n",
              "            downloaded += buffer.byteLength;\n",
              "            progress.value = downloaded;\n",
              "          }\n",
              "        }\n",
              "      }\n",
              "      const blob = new Blob(buffers, {type: 'application/binary'});\n",
              "      const a = document.createElement('a');\n",
              "      a.href = window.URL.createObjectURL(blob);\n",
              "      a.download = filename;\n",
              "      div.appendChild(a);\n",
              "      a.click();\n",
              "      div.remove();\n",
              "    }\n",
              "  "
            ]
          },
          "metadata": {}
        },
        {
          "output_type": "display_data",
          "data": {
            "text/plain": [
              "<IPython.core.display.Javascript object>"
            ],
            "application/javascript": [
              "download(\"download_facc439a-c46b-430b-8dc1-99fc87b455c4\", \"Bluegrass_2023-06-30.xlsx\", 9673)"
            ]
          },
          "metadata": {}
        },
        {
          "output_type": "display_data",
          "data": {
            "text/plain": [
              "<IPython.core.display.Javascript object>"
            ],
            "application/javascript": [
              "\n",
              "    async function download(id, filename, size) {\n",
              "      if (!google.colab.kernel.accessAllowed) {\n",
              "        return;\n",
              "      }\n",
              "      const div = document.createElement('div');\n",
              "      const label = document.createElement('label');\n",
              "      label.textContent = `Downloading \"${filename}\": `;\n",
              "      div.appendChild(label);\n",
              "      const progress = document.createElement('progress');\n",
              "      progress.max = size;\n",
              "      div.appendChild(progress);\n",
              "      document.body.appendChild(div);\n",
              "\n",
              "      const buffers = [];\n",
              "      let downloaded = 0;\n",
              "\n",
              "      const channel = await google.colab.kernel.comms.open(id);\n",
              "      // Send a message to notify the kernel that we're ready.\n",
              "      channel.send({})\n",
              "\n",
              "      for await (const message of channel.messages) {\n",
              "        // Send a message to notify the kernel that we're ready.\n",
              "        channel.send({})\n",
              "        if (message.buffers) {\n",
              "          for (const buffer of message.buffers) {\n",
              "            buffers.push(buffer);\n",
              "            downloaded += buffer.byteLength;\n",
              "            progress.value = downloaded;\n",
              "          }\n",
              "        }\n",
              "      }\n",
              "      const blob = new Blob(buffers, {type: 'application/binary'});\n",
              "      const a = document.createElement('a');\n",
              "      a.href = window.URL.createObjectURL(blob);\n",
              "      a.download = filename;\n",
              "      div.appendChild(a);\n",
              "      a.click();\n",
              "      div.remove();\n",
              "    }\n",
              "  "
            ]
          },
          "metadata": {}
        },
        {
          "output_type": "display_data",
          "data": {
            "text/plain": [
              "<IPython.core.display.Javascript object>"
            ],
            "application/javascript": [
              "download(\"download_09fd2196-8dc7-4235-ac76-6ad4c55b0813\", \"Cumberland_2023-06-30.xlsx\", 8678)"
            ]
          },
          "metadata": {}
        }
      ]
    },
    {
      "cell_type": "code",
      "source": [
        "# from google.colab import files\n",
        "# appalachian_data.to_csv('Appalachian.csv', index=False)\n",
        "# bluegrass_data.to_csv('Bluegrass.csv', index=False)\n",
        "# cumberland_data.to_csv('Cumberland.csv', index=False)\n",
        "\n",
        "# files.download('Appalachian.csv')\n",
        "# files.download('Bluegrass.csv')\n",
        "# files.download('Cumberland.csv')\n"
      ],
      "metadata": {
        "id": "WYBIL8p0Ly0W"
      },
      "execution_count": null,
      "outputs": []
    },
    {
      "cell_type": "code",
      "source": [
        "# from google.colab import files\n",
        "# files.download(appalachian_data)\n",
        "# files.download(bluegrass_data)\n",
        "# files.download(bluegrass_data)"
      ],
      "metadata": {
        "id": "v68vzZP1Mp2d"
      },
      "execution_count": null,
      "outputs": []
    },
    {
      "cell_type": "markdown",
      "source": [],
      "metadata": {
        "id": "bpnz5gJBMpWO"
      }
    },
    {
      "cell_type": "markdown",
      "source": [],
      "metadata": {
        "id": "0oC7hUhVMoHw"
      }
    }
  ]
}