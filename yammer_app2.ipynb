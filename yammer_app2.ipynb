{
  "nbformat": 4,
  "nbformat_minor": 0,
  "metadata": {
    "colab": {
      "provenance": [],
      "mount_file_id": "18MwVJ2Wz4jn7--oj-4oQZHPo4MwnAntN",
      "authorship_tag": "ABX9TyNCkpZxnL0+eRpxFpnITEab",
      "include_colab_link": true
    },
    "kernelspec": {
      "name": "python3",
      "display_name": "Python 3"
    },
    "language_info": {
      "name": "python"
    }
  },
  "cells": [
    {
      "cell_type": "markdown",
      "metadata": {
        "id": "view-in-github",
        "colab_type": "text"
      },
      "source": [
        "<a href=\"https://colab.research.google.com/github/GitMishka/2021_TSLAstock_Analysis-/blob/master/yammer_app2.ipynb\" target=\"_parent\"><img src=\"https://colab.research.google.com/assets/colab-badge.svg\" alt=\"Open In Colab\"/></a>"
      ]
    },
    {
      "cell_type": "code",
      "execution_count": null,
      "metadata": {
        "colab": {
          "base_uri": "https://localhost:8080/",
          "height": 364
        },
        "id": "EK7IpdnndUme",
        "outputId": "38dfda6c-0530-4692-c775-41825293e5e8"
      },
      "outputs": [
        {
          "output_type": "stream",
          "name": "stderr",
          "text": [
            "<ipython-input-6-80e103906140>:48: CSSWarning: Unhandled color format: 'rgb(255, 0, 0)'\n",
            "  department_data.to_excel(writer, sheet_name=f'{sanitized_department}', index=False)\n",
            "<ipython-input-6-80e103906140>:48: CSSWarning: Unhandled color format: 'rgb(255, 0, 0)'\n",
            "  department_data.to_excel(writer, sheet_name=f'{sanitized_department}', index=False)\n",
            "<ipython-input-6-80e103906140>:48: CSSWarning: Unhandled color format: 'rgb(255, 5, 4)'\n",
            "  department_data.to_excel(writer, sheet_name=f'{sanitized_department}', index=False)\n",
            "<ipython-input-6-80e103906140>:48: CSSWarning: Unhandled color format: 'rgb(241, 102, 88)'\n",
            "  department_data.to_excel(writer, sheet_name=f'{sanitized_department}', index=False)\n",
            "<ipython-input-6-80e103906140>:48: CSSWarning: Unhandled color format: 'rgb(255, 2, 2)'\n",
            "  department_data.to_excel(writer, sheet_name=f'{sanitized_department}', index=False)\n",
            "<ipython-input-6-80e103906140>:48: CSSWarning: Unhandled color format: 'rgb(255, 0, 0)'\n",
            "  department_data.to_excel(writer, sheet_name=f'{sanitized_department}', index=False)\n",
            "<ipython-input-6-80e103906140>:48: CSSWarning: Unhandled color format: 'rgb(255, 5, 4)'\n",
            "  department_data.to_excel(writer, sheet_name=f'{sanitized_department}', index=False)\n",
            "<ipython-input-6-80e103906140>:48: CSSWarning: Unhandled color format: 'rgb(255, 2, 2)'\n",
            "  department_data.to_excel(writer, sheet_name=f'{sanitized_department}', index=False)\n",
            "<ipython-input-6-80e103906140>:48: CSSWarning: Unhandled color format: 'rgb(252, 25, 22)'\n",
            "  department_data.to_excel(writer, sheet_name=f'{sanitized_department}', index=False)\n",
            "<ipython-input-6-80e103906140>:48: CSSWarning: Unhandled color format: 'rgb(255, 0, 0)'\n",
            "  department_data.to_excel(writer, sheet_name=f'{sanitized_department}', index=False)\n"
          ]
        },
        {
          "output_type": "display_data",
          "data": {
            "text/plain": [
              "<IPython.core.display.Javascript object>"
            ],
            "application/javascript": [
              "\n",
              "    async function download(id, filename, size) {\n",
              "      if (!google.colab.kernel.accessAllowed) {\n",
              "        return;\n",
              "      }\n",
              "      const div = document.createElement('div');\n",
              "      const label = document.createElement('label');\n",
              "      label.textContent = `Downloading \"${filename}\": `;\n",
              "      div.appendChild(label);\n",
              "      const progress = document.createElement('progress');\n",
              "      progress.max = size;\n",
              "      div.appendChild(progress);\n",
              "      document.body.appendChild(div);\n",
              "\n",
              "      const buffers = [];\n",
              "      let downloaded = 0;\n",
              "\n",
              "      const channel = await google.colab.kernel.comms.open(id);\n",
              "      // Send a message to notify the kernel that we're ready.\n",
              "      channel.send({})\n",
              "\n",
              "      for await (const message of channel.messages) {\n",
              "        // Send a message to notify the kernel that we're ready.\n",
              "        channel.send({})\n",
              "        if (message.buffers) {\n",
              "          for (const buffer of message.buffers) {\n",
              "            buffers.push(buffer);\n",
              "            downloaded += buffer.byteLength;\n",
              "            progress.value = downloaded;\n",
              "          }\n",
              "        }\n",
              "      }\n",
              "      const blob = new Blob(buffers, {type: 'application/binary'});\n",
              "      const a = document.createElement('a');\n",
              "      a.href = window.URL.createObjectURL(blob);\n",
              "      a.download = filename;\n",
              "      div.appendChild(a);\n",
              "      a.click();\n",
              "      div.remove();\n",
              "    }\n",
              "  "
            ]
          },
          "metadata": {}
        },
        {
          "output_type": "display_data",
          "data": {
            "text/plain": [
              "<IPython.core.display.Javascript object>"
            ],
            "application/javascript": [
              "download(\"download_9fc33097-7e81-4ebd-a58b-9232b8a076df\", \"Yammer_Results_2023-05-05.xlsx\", 14018)"
            ]
          },
          "metadata": {}
        }
      ],
      "source": [
        "import pandas as pd\n",
        "import datetime\n",
        "\n",
        "def sanitize_sheet_name(name):\n",
        "    name = str(name)\n",
        "    invalid_chars = ['\\\\', '/', '*', '[', ']', ':', '?']\n",
        "    for char in invalid_chars:\n",
        "        name = name.replace(char, '')\n",
        "    return name\n",
        "\n",
        "def contains_morning(name):\n",
        "    return 'morning' in str(name).lower()\n",
        "\n",
        "def color_code(val):\n",
        "    r_min, g_min, b_min = 255, 0, 0  # Red\n",
        "    r_max, g_max, b_max = 220, 255, 220  # Light green\n",
        "    ratio = val / 100\n",
        "    r = r_min + int((r_max - r_min) * ratio)\n",
        "    g = g_min + int((g_max - g_min) * ratio)\n",
        "    b = b_min + int((b_max - b_min) * ratio)\n",
        "    return f'background-color: rgb({r}, {g}, {b})'\n",
        "\n",
        "yammer = yammer.rename(columns={'User Principal Name': 'userPrincipalName'})\n",
        "\n",
        "merged_df = azure.merge(yammer, on='userPrincipalName')\n",
        "\n",
        "result = merged_df[['userPrincipalName','Display Name', 'department', 'Posted Count', 'Read Count', 'Liked Count']]\n",
        "\n",
        "unique_departments = result['department'].unique()\n",
        "\n",
        "morning_departments = [department for department in unique_departments if contains_morning(department)]\n",
        "\n",
        "current_date = datetime.datetime.now().strftime('%Y-%m-%d')\n",
        "\n",
        "file_name = f'Yammer_Results_{current_date}.xlsx'\n",
        "with pd.ExcelWriter(file_name, engine='openpyxl') as writer:\n",
        "    for department in morning_departments:\n",
        "        sanitized_department = sanitize_sheet_name(department)\n",
        "        department_data = result[result['department'] == department]\n",
        "        department_data = department_data.style.applymap(color_code, subset=['Posted Count', 'Read Count', 'Liked Count'])\n",
        "        department_data.to_excel(writer, sheet_name=f'{sanitized_department}', index=False)\n",
        "\n",
        "from google.colab import files\n",
        "files.download(file_name)\n"
      ]
    }
  ]
}