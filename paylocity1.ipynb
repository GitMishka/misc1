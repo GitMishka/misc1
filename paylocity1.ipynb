{
  "nbformat": 4,
  "nbformat_minor": 0,
  "metadata": {
    "colab": {
      "provenance": [],
      "mount_file_id": "1mHW_Sig5sut5xaNWJYN-gpEvQjHzjflu",
      "authorship_tag": "ABX9TyPXs7SA2grT7gwPNcUeUsU2",
      "include_colab_link": true
    },
    "kernelspec": {
      "name": "python3",
      "display_name": "Python 3"
    },
    "language_info": {
      "name": "python"
    }
  },
  "cells": [
    {
      "cell_type": "markdown",
      "metadata": {
        "id": "view-in-github",
        "colab_type": "text"
      },
      "source": [
        "<a href=\"https://colab.research.google.com/github/GitMishka/2021_TSLAstock_Analysis-/blob/master/paylocity1.ipynb\" target=\"_parent\"><img src=\"https://colab.research.google.com/assets/colab-badge.svg\" alt=\"Open In Colab\"/></a>"
      ]
    },
    {
      "cell_type": "code",
      "execution_count": null,
      "metadata": {
        "colab": {
          "base_uri": "https://localhost:8080/"
        },
        "id": "64O6JdE9te9H",
        "outputId": "421cf242-17c3-49c8-abf4-a317e8aebb86"
      },
      "outputs": [
        {
          "output_type": "stream",
          "name": "stdout",
          "text": [
            "Looking in indexes: https://pypi.org/simple, https://us-python.pkg.dev/colab-wheels/public/simple/\n",
            "Requirement already satisfied: pandas in /usr/local/lib/python3.9/dist-packages (1.5.3)\n",
            "Requirement already satisfied: matplotlib in /usr/local/lib/python3.9/dist-packages (3.7.1)\n",
            "Collecting xlsxwriter\n",
            "  Downloading XlsxWriter-3.1.1-py3-none-any.whl (152 kB)\n",
            "\u001b[2K     \u001b[90m━━━━━━━━━━━━━━━━━━━━━━━━━━━━━━━━━━━━━━━\u001b[0m \u001b[32m152.9/152.9 kB\u001b[0m \u001b[31m3.7 MB/s\u001b[0m eta \u001b[36m0:00:00\u001b[0m\n",
            "\u001b[?25hRequirement already satisfied: numpy>=1.20.3 in /usr/local/lib/python3.9/dist-packages (from pandas) (1.22.4)\n",
            "Requirement already satisfied: python-dateutil>=2.8.1 in /usr/local/lib/python3.9/dist-packages (from pandas) (2.8.2)\n",
            "Requirement already satisfied: pytz>=2020.1 in /usr/local/lib/python3.9/dist-packages (from pandas) (2022.7.1)\n",
            "Requirement already satisfied: fonttools>=4.22.0 in /usr/local/lib/python3.9/dist-packages (from matplotlib) (4.39.3)\n",
            "Requirement already satisfied: pillow>=6.2.0 in /usr/local/lib/python3.9/dist-packages (from matplotlib) (8.4.0)\n",
            "Requirement already satisfied: kiwisolver>=1.0.1 in /usr/local/lib/python3.9/dist-packages (from matplotlib) (1.4.4)\n",
            "Requirement already satisfied: contourpy>=1.0.1 in /usr/local/lib/python3.9/dist-packages (from matplotlib) (1.0.7)\n",
            "Requirement already satisfied: pyparsing>=2.3.1 in /usr/local/lib/python3.9/dist-packages (from matplotlib) (3.0.9)\n",
            "Requirement already satisfied: cycler>=0.10 in /usr/local/lib/python3.9/dist-packages (from matplotlib) (0.11.0)\n",
            "Requirement already satisfied: importlib-resources>=3.2.0 in /usr/local/lib/python3.9/dist-packages (from matplotlib) (5.12.0)\n",
            "Requirement already satisfied: packaging>=20.0 in /usr/local/lib/python3.9/dist-packages (from matplotlib) (23.1)\n",
            "Requirement already satisfied: zipp>=3.1.0 in /usr/local/lib/python3.9/dist-packages (from importlib-resources>=3.2.0->matplotlib) (3.15.0)\n",
            "Requirement already satisfied: six>=1.5 in /usr/local/lib/python3.9/dist-packages (from python-dateutil>=2.8.1->pandas) (1.16.0)\n",
            "Installing collected packages: xlsxwriter\n",
            "Successfully installed xlsxwriter-3.1.1\n"
          ]
        }
      ],
      "source": [
        "!pip install pandas  matplotlib xlsxwriter"
      ]
    },
    {
      "cell_type": "code",
      "source": [
        "import pandas as pd\n",
        "import matplotlib.pyplot as plt\n",
        "\n",
        "\n",
        "df = pd.read_csv('/content/drive/MyDrive/Work/Paylocity Turnover/Book3.csv')\n"
      ],
      "metadata": {
        "id": "LbGX4PSJtfkK"
      },
      "execution_count": null,
      "outputs": []
    },
    {
      "cell_type": "code",
      "source": [
        "import pandas as pd\n",
        "from datetime import datetime\n",
        "from google.colab import files\n",
        "\n",
        "def extract_month(date_str):\n",
        "    date = datetime.strptime(date_str, '%Y-%m-%d')\n",
        "    return date.month\n",
        "\n",
        "# Read the spreadsheet into a Pandas DataFrame\n",
        "# df = pd.read_csv('your_file.csv')\n",
        "\n",
        "# Separate the data into different DataFrames based on LocationCode\n",
        "location_codes = ['FRKT', 'FRKL', 'LEXN', 'LEXL', 'LEXE', 'LVLL', 'LVLM', 'FRLN']\n",
        "dfs_by_location = {}\n",
        "for location in location_codes:\n",
        "    dfs_by_location[location] = df[df['LocationCode'] == location]\n",
        "\n",
        "# Process each DataFrame separately\n",
        "processed_dfs = {}\n",
        "for location, df_location in dfs_by_location.items():\n",
        "    df_location['TerminationDate'] = pd.to_datetime(df_location['TerminationDate'])\n",
        "    df_location['TerminationMonth'] = df_location['TerminationDate'].apply(lambda x: x.strftime('%Y-%m'))\n",
        "    total_count = df_location.groupby('TerminationMonth').size().reset_index(name='Total_count')\n",
        "    ed_values = ['ASSISTANTED', 'ASSTED', 'CAMPUSED', 'ED', 'SENIORED']\n",
        "    ed_count = df_location[df_location['PositionCode'].isin(ed_values)].groupby('TerminationMonth').size().reset_index(name='ED_count')\n",
        "    bom_count = df_location[df_location['PositionCode'].str.contains('BOM', na=False)].groupby('TerminationMonth').size().reset_index(name='BOM_count')\n",
        "    don_count = df_location[df_location['PositionCode'].str.contains('DON', na=False)].groupby('TerminationMonth').size().reset_index(name='DON_count')\n",
        "    crd_count = df_location[df_location['PositionCode'].str.contains('CRD', na=False)].groupby('TerminationMonth').size().reset_index(name='CRD_count')\n",
        "    processed_dfs[location] = total_count.merge(ed_count, on='TerminationMonth', how='left') \\\n",
        "        .merge(bom_count, on='TerminationMonth', how='left') \\\n",
        "        .merge(don_count, on='TerminationMonth', how='left') \\\n",
        "        .merge(crd_count, on='TerminationMonth', how='left')\n",
        "\n",
        "# Save each processed DataFrame as a separate sheet in the same Excel file\n",
        "with pd.ExcelWriter('location_data.xlsx') as writer:\n",
        "    for location, processed_df in processed_dfs.items():\n",
        "        processed_df.to_excel(writer, sheet_name=location, index=False)\n",
        "\n",
        "# Download the Excel file\n",
        "files.download('location_data.xlsx')\n"
      ],
      "metadata": {
        "colab": {
          "base_uri": "https://localhost:8080/",
          "height": 1000
        },
        "id": "tUfjc5hpvCxW",
        "outputId": "70d46c6b-b7a1-49c7-e864-54be36e8e69d"
      },
      "execution_count": null,
      "outputs": [
        {
          "output_type": "stream",
          "name": "stderr",
          "text": [
            "<ipython-input-10-b15470f67d7d>:21: SettingWithCopyWarning: \n",
            "A value is trying to be set on a copy of a slice from a DataFrame.\n",
            "Try using .loc[row_indexer,col_indexer] = value instead\n",
            "\n",
            "See the caveats in the documentation: https://pandas.pydata.org/pandas-docs/stable/user_guide/indexing.html#returning-a-view-versus-a-copy\n",
            "  df_location['TerminationDate'] = pd.to_datetime(df_location['TerminationDate'])\n",
            "<ipython-input-10-b15470f67d7d>:22: SettingWithCopyWarning: \n",
            "A value is trying to be set on a copy of a slice from a DataFrame.\n",
            "Try using .loc[row_indexer,col_indexer] = value instead\n",
            "\n",
            "See the caveats in the documentation: https://pandas.pydata.org/pandas-docs/stable/user_guide/indexing.html#returning-a-view-versus-a-copy\n",
            "  df_location['TerminationMonth'] = df_location['TerminationDate'].apply(lambda x: x.strftime('%Y-%m'))\n",
            "<ipython-input-10-b15470f67d7d>:21: SettingWithCopyWarning: \n",
            "A value is trying to be set on a copy of a slice from a DataFrame.\n",
            "Try using .loc[row_indexer,col_indexer] = value instead\n",
            "\n",
            "See the caveats in the documentation: https://pandas.pydata.org/pandas-docs/stable/user_guide/indexing.html#returning-a-view-versus-a-copy\n",
            "  df_location['TerminationDate'] = pd.to_datetime(df_location['TerminationDate'])\n",
            "<ipython-input-10-b15470f67d7d>:22: SettingWithCopyWarning: \n",
            "A value is trying to be set on a copy of a slice from a DataFrame.\n",
            "Try using .loc[row_indexer,col_indexer] = value instead\n",
            "\n",
            "See the caveats in the documentation: https://pandas.pydata.org/pandas-docs/stable/user_guide/indexing.html#returning-a-view-versus-a-copy\n",
            "  df_location['TerminationMonth'] = df_location['TerminationDate'].apply(lambda x: x.strftime('%Y-%m'))\n",
            "<ipython-input-10-b15470f67d7d>:21: SettingWithCopyWarning: \n",
            "A value is trying to be set on a copy of a slice from a DataFrame.\n",
            "Try using .loc[row_indexer,col_indexer] = value instead\n",
            "\n",
            "See the caveats in the documentation: https://pandas.pydata.org/pandas-docs/stable/user_guide/indexing.html#returning-a-view-versus-a-copy\n",
            "  df_location['TerminationDate'] = pd.to_datetime(df_location['TerminationDate'])\n",
            "<ipython-input-10-b15470f67d7d>:22: SettingWithCopyWarning: \n",
            "A value is trying to be set on a copy of a slice from a DataFrame.\n",
            "Try using .loc[row_indexer,col_indexer] = value instead\n",
            "\n",
            "See the caveats in the documentation: https://pandas.pydata.org/pandas-docs/stable/user_guide/indexing.html#returning-a-view-versus-a-copy\n",
            "  df_location['TerminationMonth'] = df_location['TerminationDate'].apply(lambda x: x.strftime('%Y-%m'))\n",
            "<ipython-input-10-b15470f67d7d>:21: SettingWithCopyWarning: \n",
            "A value is trying to be set on a copy of a slice from a DataFrame.\n",
            "Try using .loc[row_indexer,col_indexer] = value instead\n",
            "\n",
            "See the caveats in the documentation: https://pandas.pydata.org/pandas-docs/stable/user_guide/indexing.html#returning-a-view-versus-a-copy\n",
            "  df_location['TerminationDate'] = pd.to_datetime(df_location['TerminationDate'])\n",
            "<ipython-input-10-b15470f67d7d>:22: SettingWithCopyWarning: \n",
            "A value is trying to be set on a copy of a slice from a DataFrame.\n",
            "Try using .loc[row_indexer,col_indexer] = value instead\n",
            "\n",
            "See the caveats in the documentation: https://pandas.pydata.org/pandas-docs/stable/user_guide/indexing.html#returning-a-view-versus-a-copy\n",
            "  df_location['TerminationMonth'] = df_location['TerminationDate'].apply(lambda x: x.strftime('%Y-%m'))\n",
            "<ipython-input-10-b15470f67d7d>:21: SettingWithCopyWarning: \n",
            "A value is trying to be set on a copy of a slice from a DataFrame.\n",
            "Try using .loc[row_indexer,col_indexer] = value instead\n",
            "\n",
            "See the caveats in the documentation: https://pandas.pydata.org/pandas-docs/stable/user_guide/indexing.html#returning-a-view-versus-a-copy\n",
            "  df_location['TerminationDate'] = pd.to_datetime(df_location['TerminationDate'])\n",
            "<ipython-input-10-b15470f67d7d>:22: SettingWithCopyWarning: \n",
            "A value is trying to be set on a copy of a slice from a DataFrame.\n",
            "Try using .loc[row_indexer,col_indexer] = value instead\n",
            "\n",
            "See the caveats in the documentation: https://pandas.pydata.org/pandas-docs/stable/user_guide/indexing.html#returning-a-view-versus-a-copy\n",
            "  df_location['TerminationMonth'] = df_location['TerminationDate'].apply(lambda x: x.strftime('%Y-%m'))\n",
            "<ipython-input-10-b15470f67d7d>:21: SettingWithCopyWarning: \n",
            "A value is trying to be set on a copy of a slice from a DataFrame.\n",
            "Try using .loc[row_indexer,col_indexer] = value instead\n",
            "\n",
            "See the caveats in the documentation: https://pandas.pydata.org/pandas-docs/stable/user_guide/indexing.html#returning-a-view-versus-a-copy\n",
            "  df_location['TerminationDate'] = pd.to_datetime(df_location['TerminationDate'])\n",
            "<ipython-input-10-b15470f67d7d>:22: SettingWithCopyWarning: \n",
            "A value is trying to be set on a copy of a slice from a DataFrame.\n",
            "Try using .loc[row_indexer,col_indexer] = value instead\n",
            "\n",
            "See the caveats in the documentation: https://pandas.pydata.org/pandas-docs/stable/user_guide/indexing.html#returning-a-view-versus-a-copy\n",
            "  df_location['TerminationMonth'] = df_location['TerminationDate'].apply(lambda x: x.strftime('%Y-%m'))\n",
            "<ipython-input-10-b15470f67d7d>:21: SettingWithCopyWarning: \n",
            "A value is trying to be set on a copy of a slice from a DataFrame.\n",
            "Try using .loc[row_indexer,col_indexer] = value instead\n",
            "\n",
            "See the caveats in the documentation: https://pandas.pydata.org/pandas-docs/stable/user_guide/indexing.html#returning-a-view-versus-a-copy\n",
            "  df_location['TerminationDate'] = pd.to_datetime(df_location['TerminationDate'])\n",
            "<ipython-input-10-b15470f67d7d>:22: SettingWithCopyWarning: \n",
            "A value is trying to be set on a copy of a slice from a DataFrame.\n",
            "Try using .loc[row_indexer,col_indexer] = value instead\n",
            "\n",
            "See the caveats in the documentation: https://pandas.pydata.org/pandas-docs/stable/user_guide/indexing.html#returning-a-view-versus-a-copy\n",
            "  df_location['TerminationMonth'] = df_location['TerminationDate'].apply(lambda x: x.strftime('%Y-%m'))\n",
            "<ipython-input-10-b15470f67d7d>:21: SettingWithCopyWarning: \n",
            "A value is trying to be set on a copy of a slice from a DataFrame.\n",
            "Try using .loc[row_indexer,col_indexer] = value instead\n",
            "\n",
            "See the caveats in the documentation: https://pandas.pydata.org/pandas-docs/stable/user_guide/indexing.html#returning-a-view-versus-a-copy\n",
            "  df_location['TerminationDate'] = pd.to_datetime(df_location['TerminationDate'])\n",
            "<ipython-input-10-b15470f67d7d>:22: SettingWithCopyWarning: \n",
            "A value is trying to be set on a copy of a slice from a DataFrame.\n",
            "Try using .loc[row_indexer,col_indexer] = value instead\n",
            "\n",
            "See the caveats in the documentation: https://pandas.pydata.org/pandas-docs/stable/user_guide/indexing.html#returning-a-view-versus-a-copy\n",
            "  df_location['TerminationMonth'] = df_location['TerminationDate'].apply(lambda x: x.strftime('%Y-%m'))\n"
          ]
        },
        {
          "output_type": "display_data",
          "data": {
            "text/plain": [
              "<IPython.core.display.Javascript object>"
            ],
            "application/javascript": [
              "\n",
              "    async function download(id, filename, size) {\n",
              "      if (!google.colab.kernel.accessAllowed) {\n",
              "        return;\n",
              "      }\n",
              "      const div = document.createElement('div');\n",
              "      const label = document.createElement('label');\n",
              "      label.textContent = `Downloading \"${filename}\": `;\n",
              "      div.appendChild(label);\n",
              "      const progress = document.createElement('progress');\n",
              "      progress.max = size;\n",
              "      div.appendChild(progress);\n",
              "      document.body.appendChild(div);\n",
              "\n",
              "      const buffers = [];\n",
              "      let downloaded = 0;\n",
              "\n",
              "      const channel = await google.colab.kernel.comms.open(id);\n",
              "      // Send a message to notify the kernel that we're ready.\n",
              "      channel.send({})\n",
              "\n",
              "      for await (const message of channel.messages) {\n",
              "        // Send a message to notify the kernel that we're ready.\n",
              "        channel.send({})\n",
              "        if (message.buffers) {\n",
              "          for (const buffer of message.buffers) {\n",
              "            buffers.push(buffer);\n",
              "            downloaded += buffer.byteLength;\n",
              "            progress.value = downloaded;\n",
              "          }\n",
              "        }\n",
              "      }\n",
              "      const blob = new Blob(buffers, {type: 'application/binary'});\n",
              "      const a = document.createElement('a');\n",
              "      a.href = window.URL.createObjectURL(blob);\n",
              "      a.download = filename;\n",
              "      div.appendChild(a);\n",
              "      a.click();\n",
              "      div.remove();\n",
              "    }\n",
              "  "
            ]
          },
          "metadata": {}
        },
        {
          "output_type": "display_data",
          "data": {
            "text/plain": [
              "<IPython.core.display.Javascript object>"
            ],
            "application/javascript": [
              "download(\"download_c8032e0c-b0e8-4c64-a4b1-e81abf3a2b2e\", \"location_data.xlsx\", 15427)"
            ]
          },
          "metadata": {}
        }
      ]
    }
  ]
}