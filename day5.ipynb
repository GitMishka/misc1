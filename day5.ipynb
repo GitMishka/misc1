{
  "nbformat": 4,
  "nbformat_minor": 0,
  "metadata": {
    "colab": {
      "provenance": [],
      "authorship_tag": "ABX9TyPrRl67SZIl+lDoLcjUY114",
      "include_colab_link": true
    },
    "kernelspec": {
      "name": "python3",
      "display_name": "Python 3"
    },
    "language_info": {
      "name": "python"
    }
  },
  "cells": [
    {
      "cell_type": "markdown",
      "metadata": {
        "id": "view-in-github",
        "colab_type": "text"
      },
      "source": [
        "<a href=\"https://colab.research.google.com/github/GitMishka/2021_TSLAstock_Analysis-/blob/master/day5.ipynb\" target=\"_parent\"><img src=\"https://colab.research.google.com/assets/colab-badge.svg\" alt=\"Open In Colab\"/></a>"
      ]
    },
    {
      "cell_type": "code",
      "execution_count": null,
      "metadata": {
        "colab": {
          "base_uri": "https://localhost:8080/"
        },
        "id": "T3wmjUEW1Eug",
        "outputId": "556ea232-7336-4386-fcd7-51b2df7403f4"
      },
      "outputs": [
        {
          "output_type": "stream",
          "name": "stdout",
          "text": [
            "low 2\n",
            "low 3\n",
            "The first occurrence of 4 is at index 3.\n"
          ]
        }
      ],
      "source": [
        "def find_first_occurrence(array, target):\n",
        "    low = 0\n",
        "    high = len(array) - 1\n",
        "    result = -1\n",
        "\n",
        "    while low <= high:\n",
        "        #print(\"low\", low, \"high\",)\n",
        "        mid = (low + high) // 2\n",
        "        #print(\"mid\",mid)\n",
        "\n",
        "        if array[mid] == target:\n",
        "            result = mid\n",
        "            high = mid - 1\n",
        "        elif array[mid] < target:\n",
        "            low = mid + 1\n",
        "            print(\"low\",low)\n",
        "        else:\n",
        "            high = mid - 1\n",
        "            print(\"mid\",mid)\n",
        "\n",
        "    return result\n",
        "array = [1, 2, 3, 4, 4, 4, 5, 6, 7]\n",
        "target = 4\n",
        "\n",
        "index = find_first_occurrence(array, target)\n",
        "print(f\"The first occurrence of {target} is at index {index}.\")\n"
      ]
    },
    {
      "cell_type": "code",
      "source": [
        "def factorial_iterative(n):\n",
        "    result = 1\n",
        "    for i in range(1, n + 1):\n",
        "        print(i)\n",
        "        result *= i\n",
        "        print(result)\n",
        "    return result\n",
        "\n",
        "def factorial_recursive(n):\n",
        "    if n == 0:\n",
        "        return 1\n",
        "    return n * factorial_recursive(n - 1)\n",
        "import math\n",
        "\n",
        "def factorial_math(n):\n",
        "    return math.factorial(n)\n",
        "n = 5\n",
        "\n",
        "iterative_result = factorial_iterative(n)\n",
        "recursive_result = factorial_recursive(n)\n",
        "math_result = factorial_math(n)\n",
        "\n",
        "print(f\"The factorial of {n} is:\")\n",
        "print(f\"Iterative approach: {iterative_result}\")\n",
        "print(f\"Recursive approach: {recursive_result}\")\n",
        "print(f\"Using math library: {math_result}\")\n"
      ],
      "metadata": {
        "colab": {
          "base_uri": "https://localhost:8080/"
        },
        "id": "eVUuqjMN7JtG",
        "outputId": "b79138b1-2bdc-4012-891a-3bd499b83c3a"
      },
      "execution_count": null,
      "outputs": [
        {
          "output_type": "stream",
          "name": "stdout",
          "text": [
            "1\n",
            "1\n",
            "2\n",
            "2\n",
            "3\n",
            "6\n",
            "4\n",
            "24\n",
            "5\n",
            "120\n",
            "The factorial of 5 is:\n",
            "Iterative approach: 120\n",
            "Recursive approach: 120\n",
            "Using math library: 120\n"
          ]
        }
      ]
    },
    {
      "cell_type": "code",
      "source": [
        "def factorial_iterative(n):\n",
        "    result = 1\n",
        "    \n",
        "    for i in range(1, n + 1):\n",
        "        print(\"i\",i)\n",
        "        result *= i\n",
        "        print(\"result\",result)\n",
        "    return result\n",
        "print(factorial_iterative(5))"
      ],
      "metadata": {
        "colab": {
          "base_uri": "https://localhost:8080/"
        },
        "id": "Nq2TPXnhiswb",
        "outputId": "888d7be8-2329-46cc-ce55-3c25c0a8b25c"
      },
      "execution_count": null,
      "outputs": [
        {
          "output_type": "stream",
          "name": "stdout",
          "text": [
            "i 1\n",
            "result 1\n",
            "i 2\n",
            "result 2\n",
            "i 3\n",
            "result 6\n",
            "i 4\n",
            "result 24\n",
            "i 5\n",
            "result 120\n",
            "120\n"
          ]
        }
      ]
    }
  ]
}