{
  "nbformat": 4,
  "nbformat_minor": 0,
  "metadata": {
    "colab": {
      "provenance": [],
      "authorship_tag": "ABX9TyPGqHPHll3gfBihop83p0lt",
      "include_colab_link": true
    },
    "kernelspec": {
      "name": "python3",
      "display_name": "Python 3"
    },
    "language_info": {
      "name": "python"
    }
  },
  "cells": [
    {
      "cell_type": "markdown",
      "metadata": {
        "id": "view-in-github",
        "colab_type": "text"
      },
      "source": [
        "<a href=\"https://colab.research.google.com/github/GitMishka/2021_TSLAstock_Analysis-/blob/master/reddit_mods_flask.ipynb\" target=\"_parent\"><img src=\"https://colab.research.google.com/assets/colab-badge.svg\" alt=\"Open In Colab\"/></a>"
      ]
    },
    {
      "cell_type": "code",
      "source": [
        "!pip install praw\n",
        "!pip install flask"
      ],
      "metadata": {
        "id": "rTl96z_pvlYp"
      },
      "execution_count": null,
      "outputs": []
    },
    {
      "cell_type": "code",
      "execution_count": null,
      "metadata": {
        "id": "f062XF3Zvi_l"
      },
      "outputs": [],
      "source": [
        "import praw\n",
        "from tabulate import tabulate\n",
        "from datetime import datetime\n",
        "from twilio.rest import Client\n",
        "from flask import Flask, render_template\n",
        "\n",
        "user_agent = \"Searchbot_01\"\n",
        "reddit = praw.Reddit(username=\"Searchbot_01\",\n",
        "                     password =\"aaaa1111\",\n",
        "                     client_id=\"Ai32qfXNqvGuMEvHFFMlAw\",\n",
        "                     client_secret=\"IG5XKjyUGkcG2cgXfBSwVvalMTxFRg\",\n",
        "                     user_agent=user_agent,\n",
        "                     check_for_async=False)"
      ]
    },
    {
      "cell_type": "code",
      "source": [
        "@app.route('/')\n",
        "def home():\n",
        "    top_subreddits = reddit.subreddits.popular(limit=100)\n",
        "\n",
        "    mods_data = []\n",
        "    for subreddit in top_subreddits:\n",
        "        mods = [str(mod) for mod in subreddit.moderator()]\n",
        "        mods_data.append({'name': subreddit.display_name, 'mods': mods})\n",
        "\n",
        "    return render_template('home.html', mods_data=mods_data)\n",
        "\n",
        "\n",
        "if __name__ == \"__main__\":\n",
        "    app.run(debug=True)"
      ],
      "metadata": {
        "id": "IvZVYXJPvkkE"
      },
      "execution_count": null,
      "outputs": []
    }
  ]
}