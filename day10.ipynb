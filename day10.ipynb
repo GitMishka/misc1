{
  "nbformat": 4,
  "nbformat_minor": 0,
  "metadata": {
    "colab": {
      "provenance": [],
      "authorship_tag": "ABX9TyM8DfRaLGoLCr3ctfOWIifT",
      "include_colab_link": true
    },
    "kernelspec": {
      "name": "python3",
      "display_name": "Python 3"
    },
    "language_info": {
      "name": "python"
    }
  },
  "cells": [
    {
      "cell_type": "markdown",
      "metadata": {
        "id": "view-in-github",
        "colab_type": "text"
      },
      "source": [
        "<a href=\"https://colab.research.google.com/github/GitMishka/2021_TSLAstock_Analysis-/blob/master/day10.ipynb\" target=\"_parent\"><img src=\"https://colab.research.google.com/assets/colab-badge.svg\" alt=\"Open In Colab\"/></a>"
      ]
    },
    {
      "cell_type": "code",
      "execution_count": null,
      "metadata": {
        "colab": {
          "base_uri": "https://localhost:8080/"
        },
        "id": "aQq4Ycrwj18Z",
        "outputId": "d7e2bbd7-07e1-4fa4-8e13-297c2ee2d8ea"
      },
      "outputs": [
        {
          "output_type": "stream",
          "name": "stdout",
          "text": [
            "wdWdaafwawdZ\n",
            "2\n"
          ]
        }
      ],
      "source": [
        "def count_uppercase(s):\n",
        "    count = 0\n",
        "    for char in s:\n",
        "        if char.isupper():\n",
        "            count += 1\n",
        "    return count\n",
        "s = input()\n",
        "print(count_uppercase(\"Hello World!\")) \n"
      ]
    },
    {
      "cell_type": "code",
      "source": [
        "def count_lowercase(s):\n",
        "    count = 0\n",
        "    for char in s:\n",
        "        if char.islower():\n",
        "            count += 1\n",
        "    return count\n",
        "s = input()\n",
        "print(count_lowercase(\"Hello World!\"))  \n"
      ],
      "metadata": {
        "id": "07LwYOVukUua"
      },
      "execution_count": null,
      "outputs": []
    },
    {
      "cell_type": "code",
      "source": [
        "def string_to_words(s):\n",
        "    return s.split()\n",
        "s = input()\n",
        "print(string_to_words(\"Hello World!\"))  \n"
      ],
      "metadata": {
        "id": "Lea1PmtKkaKO"
      },
      "execution_count": null,
      "outputs": []
    },
    {
      "cell_type": "code",
      "source": [
        "def remove_duplicates_sublists(input_list):\n",
        "    temp_dict = {sublist[0]: sublist for sublist in reversed(input_list)}\n",
        "    return list(reversed(temp_dict.values()))\n",
        "\n",
        "input_list = [[1, 2], [3, 4], [1, 3], [3, 5], [4, 6]]\n",
        "print(remove_duplicates_sublists(input_list)) "
      ],
      "metadata": {
        "colab": {
          "base_uri": "https://localhost:8080/"
        },
        "id": "ZkIUbC_8yWIu",
        "outputId": "0e85363e-da3c-43f3-fd58-96e6109209f6"
      },
      "execution_count": null,
      "outputs": [
        {
          "output_type": "stream",
          "name": "stdout",
          "text": [
            "[[1, 2], [3, 4], [4, 6]]\n"
          ]
        }
      ]
    },
    {
      "cell_type": "code",
      "source": [
        "def reverse_file_content(input_filename, output_filename):\n",
        "    try:\n",
        "        with open(input_filename, 'r') as reader:\n",
        "            lines = reader.readlines()\n",
        "            print(f\"Number of lines: {len(lines)}\")\n",
        "    except FileNotFoundError:\n",
        "        print(f\"{input_filename} not found.\")\n",
        "        return\n",
        "    except IOError:\n",
        "        print(f\"Error opening {input_filename}.\")\n",
        "        return\n",
        "\n",
        "    try:\n",
        "        with open(output_filename, 'w') as writer:\n",
        "            for line in reversed(lines):\n",
        "                writer.write(line)\n",
        "    except IOError:\n",
        "        print(f\"Error opening {output_filename}.\")\n",
        "\n",
        "reverse_file_content('input.txt', 'output.txt')\n"
      ],
      "metadata": {
        "id": "T7TQzcxyy4lK"
      },
      "execution_count": null,
      "outputs": []
    }
  ]
}