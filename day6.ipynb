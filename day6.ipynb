{
  "nbformat": 4,
  "nbformat_minor": 0,
  "metadata": {
    "colab": {
      "provenance": [],
      "authorship_tag": "ABX9TyO6kq4GdqpytqNFC3GtTLts",
      "include_colab_link": true
    },
    "kernelspec": {
      "name": "python3",
      "display_name": "Python 3"
    },
    "language_info": {
      "name": "python"
    }
  },
  "cells": [
    {
      "cell_type": "markdown",
      "metadata": {
        "id": "view-in-github",
        "colab_type": "text"
      },
      "source": [
        "<a href=\"https://colab.research.google.com/github/GitMishka/2021_TSLAstock_Analysis-/blob/master/day6.ipynb\" target=\"_parent\"><img src=\"https://colab.research.google.com/assets/colab-badge.svg\" alt=\"Open In Colab\"/></a>"
      ]
    },
    {
      "cell_type": "code",
      "execution_count": 4,
      "metadata": {
        "id": "YvX1NUmnxevD",
        "colab": {
          "base_uri": "https://localhost:8080/"
        },
        "outputId": "6b3d9bbb-d2d7-44c1-dd4f-6e4bc701d4fc"
      },
      "outputs": [
        {
          "output_type": "stream",
          "name": "stdout",
          "text": [
            "var1: var1\n",
            "var2: var2\n",
            "var1: var2\n",
            "var2: var1\n"
          ]
        }
      ],
      "source": [
        "var1 = \"var1\"\n",
        "var2 = \"var2\"\n",
        "\n",
        "print(\"var1:\" ,var1)\n",
        "\n",
        "print(\"var2:\" ,var2)\n",
        "\n",
        "var1,var2 = var2, var1\n",
        "\n",
        "print(\"var1:\" ,var1)\n",
        "\n",
        "print(\"var2:\" ,var2)\n"
      ]
    },
    {
      "cell_type": "code",
      "source": [
        "5**.05 + 1\n",
        "print(range(2, int(10**0.5) + 1))"
      ],
      "metadata": {
        "colab": {
          "base_uri": "https://localhost:8080/"
        },
        "id": "94qQNV12NL5G",
        "outputId": "437d938a-6ebc-4d87-ddf1-0a50bd46525d"
      },
      "execution_count": 13,
      "outputs": [
        {
          "output_type": "stream",
          "name": "stdout",
          "text": [
            "range(2, 4)\n"
          ]
        }
      ]
    },
    {
      "cell_type": "code",
      "source": [
        "def factorial(n):\n",
        "    if n == 0 or n == 1:\n",
        "        return 1\n",
        "    else:\n",
        "        return n * factorial(n - 1)\n",
        "\n",
        "number = int(input())\n",
        "print(\"Factorial of\", number, \"is\", factorial(number))\n"
      ],
      "metadata": {
        "colab": {
          "base_uri": "https://localhost:8080/"
        },
        "id": "ZYdU6bNdLxiC",
        "outputId": "44514385-04df-4f62-e4e7-f69ecf39cf37"
      },
      "execution_count": 7,
      "outputs": [
        {
          "output_type": "stream",
          "name": "stdout",
          "text": [
            "5\n",
            "Factorial of 5 is 120\n"
          ]
        }
      ]
    },
    {
      "cell_type": "code",
      "source": [
        "def is_prime(num):\n",
        "    if num < 2:\n",
        "        return False\n",
        "    for i in range(2, int(num**0.5) + 1):\n",
        "        if num % i == 0:\n",
        "            return False\n",
        "    return True\n",
        "\n",
        "number = int(input(\"Enter a number: \"))\n",
        "if is_prime(number):\n",
        "    print(number, \"is a prime number.\")\n",
        "else:\n",
        "    print(number, \"is not a prime number.\")\n"
      ],
      "metadata": {
        "colab": {
          "base_uri": "https://localhost:8080/"
        },
        "id": "7CF_u4HsNK3p",
        "outputId": "b83e72de-6920-4757-ce1c-0594a02101ab"
      },
      "execution_count": 9,
      "outputs": [
        {
          "output_type": "stream",
          "name": "stdout",
          "text": [
            "Enter a number: 11\n",
            "11 is a prime number.\n"
          ]
        }
      ]
    }
  ]
}