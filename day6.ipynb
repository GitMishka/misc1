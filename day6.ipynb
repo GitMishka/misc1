{
  "nbformat": 4,
  "nbformat_minor": 0,
  "metadata": {
    "colab": {
      "provenance": [],
      "authorship_tag": "ABX9TyP4eZyXqvfXl93k8RdGRQ+I",
      "include_colab_link": true
    },
    "kernelspec": {
      "name": "python3",
      "display_name": "Python 3"
    },
    "language_info": {
      "name": "python"
    }
  },
  "cells": [
    {
      "cell_type": "markdown",
      "metadata": {
        "id": "view-in-github",
        "colab_type": "text"
      },
      "source": [
        "<a href=\"https://colab.research.google.com/github/GitMishka/2021_TSLAstock_Analysis-/blob/master/day6.ipynb\" target=\"_parent\"><img src=\"https://colab.research.google.com/assets/colab-badge.svg\" alt=\"Open In Colab\"/></a>"
      ]
    },
    {
      "cell_type": "code",
      "execution_count": 4,
      "metadata": {
        "id": "YvX1NUmnxevD",
        "colab": {
          "base_uri": "https://localhost:8080/"
        },
        "outputId": "6b3d9bbb-d2d7-44c1-dd4f-6e4bc701d4fc"
      },
      "outputs": [
        {
          "output_type": "stream",
          "name": "stdout",
          "text": [
            "var1: var1\n",
            "var2: var2\n",
            "var1: var2\n",
            "var2: var1\n"
          ]
        }
      ],
      "source": [
        "var1 = \"var1\"\n",
        "var2 = \"var2\"\n",
        "\n",
        "print(\"var1:\" ,var1)\n",
        "\n",
        "print(\"var2:\" ,var2)\n",
        "\n",
        "var1,var2 = var2, var1\n",
        "\n",
        "print(\"var1:\" ,var1)\n",
        "\n",
        "print(\"var2:\" ,var2)\n"
      ]
    },
    {
      "cell_type": "code",
      "source": [
        "5**.05 + 1\n",
        "print(range(2, int(10**0.5) + 1))"
      ],
      "metadata": {
        "colab": {
          "base_uri": "https://localhost:8080/"
        },
        "id": "94qQNV12NL5G",
        "outputId": "437d938a-6ebc-4d87-ddf1-0a50bd46525d"
      },
      "execution_count": 13,
      "outputs": [
        {
          "output_type": "stream",
          "name": "stdout",
          "text": [
            "range(2, 4)\n"
          ]
        }
      ]
    },
    {
      "cell_type": "code",
      "source": [
        "def reverse(s):\n",
        "  return s[::-1]\n",
        "s = input()\n",
        "reverse(s)\n"
      ],
      "metadata": {
        "colab": {
          "base_uri": "https://localhost:8080/",
          "height": 61
        },
        "id": "L5b4G114vUL-",
        "outputId": "54d54ded-f811-483f-b11a-2334a5416827"
      },
      "execution_count": 1,
      "outputs": [
        {
          "name": "stdout",
          "output_type": "stream",
          "text": [
            "tomorrow\n"
          ]
        },
        {
          "output_type": "execute_result",
          "data": {
            "text/plain": [
              "'worromot'"
            ],
            "application/vnd.google.colaboratory.intrinsic+json": {
              "type": "string"
            }
          },
          "metadata": {},
          "execution_count": 1
        }
      ]
    },
    {
      "cell_type": "code",
      "source": [
        "def is_pelindrome(s):\n",
        "  if s == s[::-1]:\n",
        "    return \"Yes\"\n",
        "  else:\n",
        "    return \"No\"\n",
        "s = input()\n",
        "is_pelindrome(s)\n"
      ],
      "metadata": {
        "colab": {
          "base_uri": "https://localhost:8080/",
          "height": 61
        },
        "id": "6Yu_IqTxvqMV",
        "outputId": "11bb94eb-a066-4392-cd15-4104c1a93d0e"
      },
      "execution_count": 5,
      "outputs": [
        {
          "name": "stdout",
          "output_type": "stream",
          "text": [
            "coco\n"
          ]
        },
        {
          "output_type": "execute_result",
          "data": {
            "text/plain": [
              "'No'"
            ],
            "application/vnd.google.colaboratory.intrinsic+json": {
              "type": "string"
            }
          },
          "metadata": {},
          "execution_count": 5
        }
      ]
    },
    {
      "cell_type": "code",
      "source": [
        "\n",
        "def word_count(s,n):\n",
        "  count = 0\n",
        "  for x in s.split():\n",
        "    print(\"x\",x)\n",
        "    if x == n:\n",
        "      count += 1\n",
        "    else:\n",
        "      return \"word isn't here\"\n",
        "  return count\n",
        "s = input()\n",
        "n = input()\n",
        "word_count(s,n)  "
      ],
      "metadata": {
        "colab": {
          "base_uri": "https://localhost:8080/",
          "height": 96
        },
        "id": "zYzFlEK3wI3a",
        "outputId": "528d4f3f-0bf4-4a38-faf4-9d328f0a0c6c"
      },
      "execution_count": 13,
      "outputs": [
        {
          "output_type": "stream",
          "name": "stdout",
          "text": [
            "i am testing testing\n",
            "testing\n",
            "x i\n"
          ]
        },
        {
          "output_type": "execute_result",
          "data": {
            "text/plain": [
              "\"word isn't here\""
            ],
            "application/vnd.google.colaboratory.intrinsic+json": {
              "type": "string"
            }
          },
          "metadata": {},
          "execution_count": 13
        }
      ]
    },
    {
      "cell_type": "code",
      "source": [
        "def factorial(n):\n",
        "    if n == 0 or n == 1:\n",
        "        return 1\n",
        "    else:\n",
        "        return n * factorial(n - 1)\n",
        "\n",
        "number = int(input())\n",
        "print(\"Factorial of\", number, \"is\", factorial(number))\n"
      ],
      "metadata": {
        "colab": {
          "base_uri": "https://localhost:8080/"
        },
        "id": "ZYdU6bNdLxiC",
        "outputId": "44514385-04df-4f62-e4e7-f69ecf39cf37"
      },
      "execution_count": 7,
      "outputs": [
        {
          "output_type": "stream",
          "name": "stdout",
          "text": [
            "5\n",
            "Factorial of 5 is 120\n"
          ]
        }
      ]
    },
    {
      "cell_type": "code",
      "source": [
        "def is_prime(num):\n",
        "    if num < 2:\n",
        "        return False\n",
        "    for i in range(2, int(num**0.5) + 1):\n",
        "        if num % i == 0:\n",
        "            return False\n",
        "    return True\n",
        "\n",
        "number = int(input(\"Enter a number: \"))\n",
        "if is_prime(number):\n",
        "    print(number, \"is a prime number.\")\n",
        "else:\n",
        "    print(number, \"is not a prime number.\")\n"
      ],
      "metadata": {
        "colab": {
          "base_uri": "https://localhost:8080/"
        },
        "id": "7CF_u4HsNK3p",
        "outputId": "b83e72de-6920-4757-ce1c-0594a02101ab"
      },
      "execution_count": 9,
      "outputs": [
        {
          "output_type": "stream",
          "name": "stdout",
          "text": [
            "Enter a number: 11\n",
            "11 is a prime number.\n"
          ]
        }
      ]
    }
  ]
}