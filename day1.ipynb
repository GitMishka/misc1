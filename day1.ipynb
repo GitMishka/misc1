{
  "nbformat": 4,
  "nbformat_minor": 0,
  "metadata": {
    "colab": {
      "provenance": [],
      "authorship_tag": "ABX9TyNVRtj6jcef4kaTzQGWG+um",
      "include_colab_link": true
    },
    "kernelspec": {
      "name": "python3",
      "display_name": "Python 3"
    },
    "language_info": {
      "name": "python"
    }
  },
  "cells": [
    {
      "cell_type": "markdown",
      "metadata": {
        "id": "view-in-github",
        "colab_type": "text"
      },
      "source": [
        "<a href=\"https://colab.research.google.com/github/GitMishka/2021_TSLAstock_Analysis-/blob/master/day1.ipynb\" target=\"_parent\"><img src=\"https://colab.research.google.com/assets/colab-badge.svg\" alt=\"Open In Colab\"/></a>"
      ]
    },
    {
      "cell_type": "code",
      "execution_count": null,
      "metadata": {
        "colab": {
          "base_uri": "https://localhost:8080/"
        },
        "id": "ynyX6StzQd3h",
        "outputId": "6300bc45-5480-41cf-e16f-c1bde9421993"
      },
      "outputs": [
        {
          "output_type": "stream",
          "name": "stdout",
          "text": [
            "-72\n"
          ]
        }
      ],
      "source": [
        "def find_missing_number(numbers):\n",
        "    n = len(numbers) + 1\n",
        "    expected_sum = n * (n + 1) // 2\n",
        "    actual_sum = sum(numbers)\n",
        "    return expected_sum - actual_sum\n",
        "\n",
        "print(find_missing_number([20,21,22,24]))\n",
        "#not correct"
      ]
    },
    {
      "cell_type": "code",
      "source": [
        "string = str(input())\n",
        "def reverse(string):\n",
        "  string = string[::-1]\n",
        "  print(string)\n",
        "reverse(string)"
      ],
      "metadata": {
        "colab": {
          "base_uri": "https://localhost:8080/"
        },
        "id": "Ob4dG0zjOA8I",
        "outputId": "63da32aa-f1ab-4210-b4e0-c3ec253a6330"
      },
      "execution_count": null,
      "outputs": [
        {
          "output_type": "stream",
          "name": "stdout",
          "text": [
            "test123\n",
            "321tset\n"
          ]
        }
      ]
    },
    {
      "cell_type": "code",
      "source": [
        "def first_non_repeated_char(string):\n",
        "    char_count = {}\n",
        "    #print(char_count)\n",
        "    for char in string:\n",
        "        if char not in char_count:\n",
        "            char_count[char] = 1\n",
        "            print(char_count)\n",
        "        else:\n",
        "            char_count[char] += 1\n",
        "            print(char_count)\n",
        "    for char in string:\n",
        "        if char_count[char] == 1:\n",
        "            print(char_count)\n",
        "            return char\n",
        "    return None\n",
        "print(first_non_repeated_char(\"hello\"))   # Output: 'h'\n",
        "print(first_non_repeated_char(\"abbccd\"))  # Output: 'd'\n",
        "print(first_non_repeated_char(\"aabbcc\"))  # Output: None\n"
      ],
      "metadata": {
        "colab": {
          "base_uri": "https://localhost:8080/"
        },
        "id": "91PIe_GnOn5i",
        "outputId": "2fe11ab7-fff0-46fe-b4e3-9f25343ffc59"
      },
      "execution_count": null,
      "outputs": [
        {
          "output_type": "stream",
          "name": "stdout",
          "text": [
            "{'h': 1}\n",
            "{'h': 1, 'e': 1}\n",
            "{'h': 1, 'e': 1, 'l': 1}\n",
            "{'h': 1, 'e': 1, 'l': 2}\n",
            "{'h': 1, 'e': 1, 'l': 2, 'o': 1}\n",
            "{'h': 1, 'e': 1, 'l': 2, 'o': 1}\n",
            "h\n",
            "{'a': 1}\n",
            "{'a': 1, 'b': 1}\n",
            "{'a': 1, 'b': 2}\n",
            "{'a': 1, 'b': 2, 'c': 1}\n",
            "{'a': 1, 'b': 2, 'c': 2}\n",
            "{'a': 1, 'b': 2, 'c': 2, 'd': 1}\n",
            "{'a': 1, 'b': 2, 'c': 2, 'd': 1}\n",
            "a\n",
            "{'a': 1}\n",
            "{'a': 2}\n",
            "{'a': 2, 'b': 1}\n",
            "{'a': 2, 'b': 2}\n",
            "{'a': 2, 'b': 2, 'c': 1}\n",
            "{'a': 2, 'b': 2, 'c': 2}\n",
            "None\n"
          ]
        }
      ]
    },
    {
      "cell_type": "code",
      "source": [
        "string = str(input())\n",
        "def palindrome(string):\n",
        "  \n",
        "  if string == string[::-1]:\n",
        "    print('palindrome')\n",
        "  else:\n",
        "    print('Not a palindrome')\n",
        "palindrome(string)"
      ],
      "metadata": {
        "colab": {
          "base_uri": "https://localhost:8080/"
        },
        "id": "TaPM0YPqTyH6",
        "outputId": "d7db76ef-0575-4925-c562-85102e44a2aa"
      },
      "execution_count": null,
      "outputs": [
        {
          "output_type": "stream",
          "name": "stdout",
          "text": [
            "cooc\n",
            "palindrome\n"
          ]
        }
      ]
    },
    {
      "cell_type": "code",
      "source": [
        "numbers = [20,21,22,24]\n",
        "n = len(numbers) + 1\n",
        "print(n)\n",
        "expected_sum = n * (n + 1) // 2\n",
        "print(expected_sum)\n",
        "actual_sum = sum(numbers)\n",
        "print(actual_sum)"
      ],
      "metadata": {
        "colab": {
          "base_uri": "https://localhost:8080/"
        },
        "id": "3YhBIZblQkz5",
        "outputId": "3716c5d2-c375-44a2-e057-5f8bc5dc6ed6"
      },
      "execution_count": null,
      "outputs": [
        {
          "output_type": "stream",
          "name": "stdout",
          "text": [
            "5\n",
            "15\n",
            "87\n"
          ]
        }
      ]
    },
    {
      "cell_type": "code",
      "source": [],
      "metadata": {
        "id": "IBmHFk8F3RlO"
      },
      "execution_count": null,
      "outputs": []
    },
    {
      "cell_type": "code",
      "source": [
        "def linear_search(arr, target):\n",
        "    for i in range(len(arr)):\n",
        "        if arr[i] == target:\n",
        "            return i\n",
        "    return -1\n",
        "print(linear_search([1,2,3,4,5,6,7,8,],4))"
      ],
      "metadata": {
        "colab": {
          "base_uri": "https://localhost:8080/"
        },
        "id": "2_PUeyV93dJT",
        "outputId": "435ed4df-6c8a-405e-8d61-67dd1c1768fb"
      },
      "execution_count": null,
      "outputs": [
        {
          "output_type": "stream",
          "name": "stdout",
          "text": [
            "3\n"
          ]
        }
      ]
    },
    {
      "cell_type": "code",
      "source": [],
      "metadata": {
        "id": "uaN_C5kse4PR"
      },
      "execution_count": null,
      "outputs": []
    },
    {
      "cell_type": "code",
      "source": [
        "def binary_search(arr, target):\n",
        "    low = 0\n",
        "    high = len(arr) - 1\n",
        "    while low <= high:\n",
        "        mid = (low + high) // 2\n",
        "        if arr[mid] == target:\n",
        "            return mid\n",
        "        elif arr[mid] < target:\n",
        "            low = mid + 1\n",
        "        else:\n",
        "            high = mid - 1\n",
        "    return -1\n",
        "print(linear_search([1,2,3,4,5,6,7,8,],4))"
      ],
      "metadata": {
        "colab": {
          "base_uri": "https://localhost:8080/"
        },
        "id": "U1LH1N8D-IrS",
        "outputId": "18092534-dc90-4451-bebb-6abce311593c"
      },
      "execution_count": null,
      "outputs": [
        {
          "output_type": "stream",
          "name": "stdout",
          "text": [
            "3\n"
          ]
        }
      ]
    },
    {
      "cell_type": "code",
      "source": [
        "def binary_search(arr, target):\n",
        "    arr.sort()\n",
        "    low = arr[0]\n",
        "    high = arr[len(arr)-1]\n",
        "    while low <= high:\n",
        "        mid = (low + high) // 2\n",
        "        if arr[mid] == target:\n",
        "            return mid\n",
        "        elif arr[mid] < target:\n",
        "            low = mid + 1\n",
        "        else:\n",
        "            high = mid - 1\n",
        "    return -1\n",
        "\n",
        "binary_search([12,312,43,545,343,5,2231], 5)"
      ],
      "metadata": {
        "colab": {
          "base_uri": "https://localhost:8080/",
          "height": 323
        },
        "id": "aRerj3Z5-YAj",
        "outputId": "c5282fa6-1dcc-41ab-d047-efd54fbce466"
      },
      "execution_count": null,
      "outputs": [
        {
          "output_type": "error",
          "ename": "IndexError",
          "evalue": "ignored",
          "traceback": [
            "\u001b[0;31m---------------------------------------------------------------------------\u001b[0m",
            "\u001b[0;31mIndexError\u001b[0m                                Traceback (most recent call last)",
            "\u001b[0;32m<ipython-input-10-caff034e10f0>\u001b[0m in \u001b[0;36m<cell line: 15>\u001b[0;34m()\u001b[0m\n\u001b[1;32m     13\u001b[0m     \u001b[0;32mreturn\u001b[0m \u001b[0;34m-\u001b[0m\u001b[0;36m1\u001b[0m\u001b[0;34m\u001b[0m\u001b[0;34m\u001b[0m\u001b[0m\n\u001b[1;32m     14\u001b[0m \u001b[0;34m\u001b[0m\u001b[0m\n\u001b[0;32m---> 15\u001b[0;31m \u001b[0mbinary_search\u001b[0m\u001b[0;34m(\u001b[0m\u001b[0;34m[\u001b[0m\u001b[0;36m12\u001b[0m\u001b[0;34m,\u001b[0m\u001b[0;36m312\u001b[0m\u001b[0;34m,\u001b[0m\u001b[0;36m43\u001b[0m\u001b[0;34m,\u001b[0m\u001b[0;36m545\u001b[0m\u001b[0;34m,\u001b[0m\u001b[0;36m343\u001b[0m\u001b[0;34m,\u001b[0m\u001b[0;36m5\u001b[0m\u001b[0;34m,\u001b[0m\u001b[0;36m2231\u001b[0m\u001b[0;34m]\u001b[0m\u001b[0;34m,\u001b[0m \u001b[0;36m5\u001b[0m\u001b[0;34m)\u001b[0m\u001b[0;34m\u001b[0m\u001b[0;34m\u001b[0m\u001b[0m\n\u001b[0m",
            "\u001b[0;32m<ipython-input-10-caff034e10f0>\u001b[0m in \u001b[0;36mbinary_search\u001b[0;34m(arr, target)\u001b[0m\n\u001b[1;32m      5\u001b[0m     \u001b[0;32mwhile\u001b[0m \u001b[0mlow\u001b[0m \u001b[0;34m<=\u001b[0m \u001b[0mhigh\u001b[0m\u001b[0;34m:\u001b[0m\u001b[0;34m\u001b[0m\u001b[0;34m\u001b[0m\u001b[0m\n\u001b[1;32m      6\u001b[0m         \u001b[0mmid\u001b[0m \u001b[0;34m=\u001b[0m \u001b[0;34m(\u001b[0m\u001b[0mlow\u001b[0m \u001b[0;34m+\u001b[0m \u001b[0mhigh\u001b[0m\u001b[0;34m)\u001b[0m \u001b[0;34m//\u001b[0m \u001b[0;36m2\u001b[0m\u001b[0;34m\u001b[0m\u001b[0;34m\u001b[0m\u001b[0m\n\u001b[0;32m----> 7\u001b[0;31m         \u001b[0;32mif\u001b[0m \u001b[0marr\u001b[0m\u001b[0;34m[\u001b[0m\u001b[0mmid\u001b[0m\u001b[0;34m]\u001b[0m \u001b[0;34m==\u001b[0m \u001b[0mtarget\u001b[0m\u001b[0;34m:\u001b[0m\u001b[0;34m\u001b[0m\u001b[0;34m\u001b[0m\u001b[0m\n\u001b[0m\u001b[1;32m      8\u001b[0m             \u001b[0;32mreturn\u001b[0m \u001b[0mmid\u001b[0m\u001b[0;34m\u001b[0m\u001b[0;34m\u001b[0m\u001b[0m\n\u001b[1;32m      9\u001b[0m         \u001b[0;32melif\u001b[0m \u001b[0marr\u001b[0m\u001b[0;34m[\u001b[0m\u001b[0mmid\u001b[0m\u001b[0;34m]\u001b[0m \u001b[0;34m<\u001b[0m \u001b[0mtarget\u001b[0m\u001b[0;34m:\u001b[0m\u001b[0;34m\u001b[0m\u001b[0;34m\u001b[0m\u001b[0m\n",
            "\u001b[0;31mIndexError\u001b[0m: list index out of range"
          ]
        }
      ]
    },
    {
      "cell_type": "code",
      "source": [
        "arr = [12,312,43,545,343,5,2231]\n",
        "high = len(arr) - 1\n",
        "high2 = arr[len(arr)-1]\n",
        "high\n",
        "high2"
      ],
      "metadata": {
        "colab": {
          "base_uri": "https://localhost:8080/"
        },
        "id": "A1a-SL1iAdfr",
        "outputId": "1cbafd3c-c258-49d2-dd74-9cc8243b4abb"
      },
      "execution_count": null,
      "outputs": [
        {
          "output_type": "execute_result",
          "data": {
            "text/plain": [
              "2231"
            ]
          },
          "metadata": {},
          "execution_count": 11
        }
      ]
    },
    {
      "cell_type": "code",
      "source": [
        "def remove_duplicates(numbers):\n",
        "    return list(set(numbers))\n",
        "\n",
        "print(remove_duplicates([1, 2, 2, 3, 4, 4, 4, 5]))\n"
      ],
      "metadata": {
        "colab": {
          "base_uri": "https://localhost:8080/"
        },
        "id": "8kOceBVjZGv_",
        "outputId": "353dcb71-c18f-4ea0-86ce-fe69e249da18"
      },
      "execution_count": null,
      "outputs": [
        {
          "output_type": "stream",
          "name": "stdout",
          "text": [
            "[1, 2, 3, 4, 5]\n"
          ]
        }
      ]
    },
    {
      "cell_type": "code",
      "source": [
        "def longest_common_prefix(strs):\n",
        "    if not strs:\n",
        "        return \"\"\n",
        "    prefix = strs[0]\n",
        "    for s in strs[1:]:\n",
        "        while prefix != s[:len(prefix)]:\n",
        "            prefix = prefix[:-1]\n",
        "            if not prefix:\n",
        "                return \"\"\n",
        "    return prefix\n",
        "longest_common_prefix([\"flower\",\"flow\",\"flight\"])"
      ],
      "metadata": {
        "colab": {
          "base_uri": "https://localhost:8080/",
          "height": 35
        },
        "id": "_eWxLAdgBNcw",
        "outputId": "047deb9b-1352-4b9c-f208-b464be305495"
      },
      "execution_count": null,
      "outputs": [
        {
          "output_type": "execute_result",
          "data": {
            "text/plain": [
              "'fl'"
            ],
            "application/vnd.google.colaboratory.intrinsic+json": {
              "type": "string"
            }
          },
          "metadata": {},
          "execution_count": 12
        }
      ]
    },
    {
      "cell_type": "code",
      "source": [
        "strs = [\"flower\",\"flow\",\"flight\"]\n",
        "#strs[0]\n",
        "prefix = strs[0]\n",
        "#print(\"prefix:\",prefix)\n",
        "\n",
        "for s in strs[1:]:\n",
        "  print(s)\n",
        "  #print(s[:len(prefix)])\n",
        "  #print(len(prefix))\n",
        "  while prefix != s[:len(prefix)]:\n",
        "    prefix = prefix[:-1]\n",
        "    #print(prefix)\n",
        "    if not prefix:\n",
        "      print(\" \")\n",
        "#print(prefix)\n",
        "    #print(prefix)"
      ],
      "metadata": {
        "colab": {
          "base_uri": "https://localhost:8080/"
        },
        "id": "_KAdyoBECAjy",
        "outputId": "de3d0ae3-15dd-4bf3-c0cb-afa91a3817d7"
      },
      "execution_count": null,
      "outputs": [
        {
          "output_type": "stream",
          "name": "stdout",
          "text": [
            "flow\n",
            "flight\n"
          ]
        }
      ]
    },
    {
      "cell_type": "code",
      "source": [
        "strs = [\"flower\",\"flow\",\"flight\"]\n",
        "# prefix = strs[0]\n",
        "# print(s[:len(strs[0])])\n",
        "# print((strs[0]))\n",
        "# print(len(strs[0]))\n",
        "# print(s[:len(strs[0])])\n",
        "print(s[:-1])"
      ],
      "metadata": {
        "colab": {
          "base_uri": "https://localhost:8080/"
        },
        "id": "xl70IsXlF34H",
        "outputId": "6de9dd85-2133-4d50-9c1a-fa3cb9d3a7e2"
      },
      "execution_count": null,
      "outputs": [
        {
          "output_type": "stream",
          "name": "stdout",
          "text": [
            "fligh\n"
          ]
        }
      ]
    },
    {
      "cell_type": "code",
      "source": [
        "list1 = [1,2,3]\n",
        "list2 = [5,4,6]\n",
        "\n",
        "list1.extend(list2)\n",
        "list1.sort()\n",
        "list1"
      ],
      "metadata": {
        "colab": {
          "base_uri": "https://localhost:8080/"
        },
        "id": "hy9NoqbEkGuz",
        "outputId": "995fbb50-1a7e-4d16-ae1e-f9537de81a1c"
      },
      "execution_count": null,
      "outputs": [
        {
          "output_type": "execute_result",
          "data": {
            "text/plain": [
              "[1, 2, 3, 4, 5, 6]"
            ]
          },
          "metadata": {},
          "execution_count": 57
        }
      ]
    },
    {
      "cell_type": "code",
      "source": [
        "class TreeNode:\n",
        "    def __init__(self, val=0, left=None, right=None):\n",
        "        self.val = val\n",
        "        self.left = left\n",
        "        self.right = right\n",
        "\n",
        "def has_path_sum(root: TreeNode, targetSum: int) -> bool:\n",
        "    if not root:\n",
        "        return False\n",
        "    if not root.left and not root.right:\n",
        "        return targetSum == root.val\n",
        "        \n",
        "    return has_path_sum(root.left, targetSum - root.val) or has_path_sum(root.right, targetSum - root.val)\n",
        "\n",
        "# create binary tree\n",
        "#        5\n",
        "#       / \\\n",
        "#      4   8\n",
        "#     /   / \\\n",
        "#    11  13  4\n",
        "#   /  \\      \\\n",
        "#  7     2     1\n",
        "root = TreeNode(5, \n",
        "                TreeNode(4, \n",
        "                         TreeNode(11, \n",
        "                                  TreeNode(7), \n",
        "                                  TreeNode(2)\n",
        "                                 )\n",
        "                        ), \n",
        "                TreeNode(8, \n",
        "                         TreeNode(13), \n",
        "                         TreeNode(4, \n",
        "                                  None, \n",
        "                                  TreeNode(1)\n",
        "                                 )\n",
        "                        )\n",
        "               )\n",
        "\n",
        "# check if there exists a root-to-leaf path with sum 22\n",
        "print(has_path_sum(root, 22)) # Output: True\n",
        "\n",
        "# check if there exists a root-to-leaf path with sum 18\n",
        "print(has_path_sum(root, 18)) # Output: True\n",
        "\n",
        "# check if there exists a root-to-leaf path with sum 10\n",
        "print(has_path_sum(root, 9)) # Output: False\n",
        "print(root.val)\n"
      ],
      "metadata": {
        "colab": {
          "base_uri": "https://localhost:8080/"
        },
        "id": "vgud8fRhp-0O",
        "outputId": "a6606648-1ccd-491a-f1e7-1d51c4669d9f"
      },
      "execution_count": null,
      "outputs": [
        {
          "output_type": "stream",
          "name": "stdout",
          "text": [
            "True\n",
            "True\n",
            "False\n",
            "5\n"
          ]
        }
      ]
    },
    {
      "cell_type": "code",
      "source": [
        "def climb_stairs(n: int) -> int:\n",
        "    if n == 1:\n",
        "        return 1\n",
        "    if n == 2:\n",
        "        return 2\n",
        "    dp = [0] * (n+1)\n",
        "    #print(dp)\n",
        "    dp[1] = 1\n",
        "    #print(dp[1])\n",
        "    dp[2] = 2\n",
        "    #print(dp[2])\n",
        "    for i in range(3, n+1):\n",
        "      print(\"i:\",i)\n",
        "      #print(n+1)\n",
        "      dp[i] = dp[i-1] + dp[i-2]\n",
        "      print(\"dp[i]:\", dp[i])\n",
        "    return dp[n]\n",
        "# find number of distinct ways to climb 5 steps\n",
        "print(climb_stairs(5)) # Output: 8\n",
        "\n",
        "# find number of distinct ways to climb 10 steps\n",
        "#print(climb_stairs(10)) # Output: 89\n"
      ],
      "metadata": {
        "colab": {
          "base_uri": "https://localhost:8080/"
        },
        "id": "V1wvainJqEaV",
        "outputId": "e04fb499-6b96-467d-8e8d-3d3cb627f142"
      },
      "execution_count": null,
      "outputs": [
        {
          "output_type": "stream",
          "name": "stdout",
          "text": [
            "i: 3\n",
            "dp[i]: 3\n",
            "i: 4\n",
            "dp[i]: 5\n",
            "i: 5\n",
            "dp[i]: 8\n",
            "8\n"
          ]
        }
      ]
    }
  ]
}