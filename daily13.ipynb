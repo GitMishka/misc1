{
  "nbformat": 4,
  "nbformat_minor": 0,
  "metadata": {
    "colab": {
      "provenance": [],
      "authorship_tag": "ABX9TyP7M7ci6P4AMasxkDSkI9rA",
      "include_colab_link": true
    },
    "kernelspec": {
      "name": "python3",
      "display_name": "Python 3"
    },
    "language_info": {
      "name": "python"
    }
  },
  "cells": [
    {
      "cell_type": "markdown",
      "metadata": {
        "id": "view-in-github",
        "colab_type": "text"
      },
      "source": [
        "<a href=\"https://colab.research.google.com/github/GitMishka/2021_TSLAstock_Analysis-/blob/master/daily13.ipynb\" target=\"_parent\"><img src=\"https://colab.research.google.com/assets/colab-badge.svg\" alt=\"Open In Colab\"/></a>"
      ]
    },
    {
      "cell_type": "code",
      "execution_count": null,
      "metadata": {
        "id": "GfeP5Tlp1vhE"
      },
      "outputs": [],
      "source": [
        "def find_missing_number(list_numbers):\n",
        "    n = len(list_numbers) + 1\n",
        "    expected_sum = n * (n+1) // 2\n",
        "    actual_sum = sum(list_numbers)\n",
        "    return expected_sum - actual_sum\n",
        "print(find_missing_number([1, 2, 4, 6, 3, 7, 8]))  # 5\n"
      ]
    },
    {
      "cell_type": "code",
      "source": [
        "def rotate_matrix(matrix):\n",
        "    n = len(matrix)\n",
        "\n",
        "    for layer in range(n // 2):\n",
        "        first, last = layer, n - layer - 1\n",
        "        for i in range(first, last):\n",
        "      \n",
        "            top = matrix[layer][i]\n",
        "\n",
        "            matrix[layer][i] = matrix[-i - 1][layer]\n",
        "\n",
        "            matrix[-i - 1][layer] = matrix[-layer - 1][-i - 1]\n",
        "\n",
        "            \n",
        "            matrix[-layer - 1][-i - 1] = matrix[i][-layer - 1]\n",
        "\n",
        "\n",
        "            matrix[i][-layer - 1] = top\n",
        "\n",
        "    return matrix\n",
        "matrix = [\n",
        "    [1, 2, 3],\n",
        "    [4, 5, 6],\n",
        "    [7, 8, 9]\n",
        "]\n",
        "\n",
        "for row in rotate_matrix(matrix):\n",
        "    print(row)\n"
      ],
      "metadata": {
        "colab": {
          "base_uri": "https://localhost:8080/"
        },
        "id": "M1ux0awHl5sw",
        "outputId": "3a0b63d8-91b1-4cb6-bd5f-009cc7f4012b"
      },
      "execution_count": 1,
      "outputs": [
        {
          "output_type": "stream",
          "name": "stdout",
          "text": [
            "[7, 4, 1]\n",
            "[8, 5, 2]\n",
            "[9, 6, 3]\n"
          ]
        }
      ]
    }
  ]
}